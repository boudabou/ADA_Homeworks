{
 "cells": [
  {
   "cell_type": "code",
   "execution_count": 89,
   "metadata": {
    "collapsed": true
   },
   "outputs": [],
   "source": [
    "import pandas as pd\n",
    "import json\n",
    "import random\n",
    "import numpy as np"
   ]
  },
  {
   "cell_type": "code",
   "execution_count": 40,
   "metadata": {
    "collapsed": false
   },
   "outputs": [],
   "source": [
    "projects = pd.read_csv(\"P3_GrantExport.csv\", delimiter=';')"
   ]
  },
  {
   "cell_type": "code",
   "execution_count": 59,
   "metadata": {
    "collapsed": false
   },
   "outputs": [
    {
     "data": {
      "text/html": [
       "<div>\n",
       "<table border=\"1\" class=\"dataframe\">\n",
       "  <thead>\n",
       "    <tr style=\"text-align: right;\">\n",
       "      <th></th>\n",
       "      <th>Institution</th>\n",
       "      <th>University</th>\n",
       "      <th>Amount</th>\n",
       "    </tr>\n",
       "    <tr>\n",
       "      <th>Number</th>\n",
       "      <th></th>\n",
       "      <th></th>\n",
       "      <th></th>\n",
       "    </tr>\n",
       "  </thead>\n",
       "  <tbody>\n",
       "    <tr>\n",
       "      <th>1</th>\n",
       "      <td>NaN</td>\n",
       "      <td>Nicht zuteilbar - NA</td>\n",
       "      <td>11619.00</td>\n",
       "    </tr>\n",
       "    <tr>\n",
       "      <th>4</th>\n",
       "      <td>Faculté de Psychologie et des Sciences de l'Ed...</td>\n",
       "      <td>Université de Genève - GE</td>\n",
       "      <td>41022.00</td>\n",
       "    </tr>\n",
       "    <tr>\n",
       "      <th>5</th>\n",
       "      <td>Kommission für das Corpus philosophorum medii ...</td>\n",
       "      <td>NPO (Biblioth., Museen, Verwalt.) - NPO</td>\n",
       "      <td>79732.00</td>\n",
       "    </tr>\n",
       "    <tr>\n",
       "      <th>6</th>\n",
       "      <td>Abt. Handschriften und Alte Drucke Bibliothek ...</td>\n",
       "      <td>Universität Basel - BS</td>\n",
       "      <td>52627.00</td>\n",
       "    </tr>\n",
       "    <tr>\n",
       "      <th>7</th>\n",
       "      <td>Schweiz. Thesauruskommission</td>\n",
       "      <td>NPO (Biblioth., Museen, Verwalt.) - NPO</td>\n",
       "      <td>120042.00</td>\n",
       "    </tr>\n",
       "  </tbody>\n",
       "</table>\n",
       "</div>"
      ],
      "text/plain": [
       "                                              Institution  \\\n",
       "Number                                                      \n",
       "1                                                     NaN   \n",
       "4       Faculté de Psychologie et des Sciences de l'Ed...   \n",
       "5       Kommission für das Corpus philosophorum medii ...   \n",
       "6       Abt. Handschriften und Alte Drucke Bibliothek ...   \n",
       "7                            Schweiz. Thesauruskommission   \n",
       "\n",
       "                                     University     Amount  \n",
       "Number                                                      \n",
       "1                          Nicht zuteilbar - NA   11619.00  \n",
       "4                     Université de Genève - GE   41022.00  \n",
       "5       NPO (Biblioth., Museen, Verwalt.) - NPO   79732.00  \n",
       "6                        Universität Basel - BS   52627.00  \n",
       "7       NPO (Biblioth., Museen, Verwalt.) - NPO  120042.00  "
      ]
     },
     "execution_count": 59,
     "metadata": {},
     "output_type": "execute_result"
    }
   ],
   "source": [
    "important = projects.iloc[:,[0,6,7,13]]\n",
    "important.columns=[\"Number\",\"Institution\",\"University\",\"Amount\"]\n",
    "important = important.set_index([\"Number\"])\n",
    "important.head()"
   ]
  },
  {
   "cell_type": "code",
   "execution_count": 67,
   "metadata": {
    "collapsed": false
   },
   "outputs": [],
   "source": [
    "with open('ch-cantons.topojson.json', encoding='utf-8') as data_file:\n",
    "    json_file = json.loads(data_file.read())"
   ]
  },
  {
   "cell_type": "code",
   "execution_count": 77,
   "metadata": {
    "collapsed": false
   },
   "outputs": [
    {
     "data": {
      "text/html": [
       "<div>\n",
       "<table border=\"1\" class=\"dataframe\">\n",
       "  <thead>\n",
       "    <tr style=\"text-align: right;\">\n",
       "      <th></th>\n",
       "      <th>arcs</th>\n",
       "      <th>id</th>\n",
       "      <th>properties</th>\n",
       "      <th>type</th>\n",
       "    </tr>\n",
       "  </thead>\n",
       "  <tbody>\n",
       "    <tr>\n",
       "      <th>0</th>\n",
       "      <td>[[0, 1, 2, 3, 4, 5, 6, 7, 8, 9]]</td>\n",
       "      <td>ZH</td>\n",
       "      <td>{'name': 'Zürich'}</td>\n",
       "      <td>Polygon</td>\n",
       "    </tr>\n",
       "    <tr>\n",
       "      <th>1</th>\n",
       "      <td>[[[10, 11, 12, 13, 14, 15, 16, 17, 18, 19, 20,...</td>\n",
       "      <td>BE</td>\n",
       "      <td>{'name': 'Bern/Berne'}</td>\n",
       "      <td>MultiPolygon</td>\n",
       "    </tr>\n",
       "    <tr>\n",
       "      <th>2</th>\n",
       "      <td>[[-12, 30, 31, 32, 33, 34]]</td>\n",
       "      <td>LU</td>\n",
       "      <td>{'name': 'Luzern'}</td>\n",
       "      <td>Polygon</td>\n",
       "    </tr>\n",
       "    <tr>\n",
       "      <th>3</th>\n",
       "      <td>[[35, 36, 37, 38, -16, 39, 40, 41]]</td>\n",
       "      <td>UR</td>\n",
       "      <td>{'name': 'Uri'}</td>\n",
       "      <td>Polygon</td>\n",
       "    </tr>\n",
       "    <tr>\n",
       "      <th>4</th>\n",
       "      <td>[[42, -33, 43, -1, 44, 45, 46, -42]]</td>\n",
       "      <td>SZ</td>\n",
       "      <td>{'name': 'Schwyz'}</td>\n",
       "      <td>Polygon</td>\n",
       "    </tr>\n",
       "  </tbody>\n",
       "</table>\n",
       "</div>"
      ],
      "text/plain": [
       "                                                arcs  id  \\\n",
       "0                   [[0, 1, 2, 3, 4, 5, 6, 7, 8, 9]]  ZH   \n",
       "1  [[[10, 11, 12, 13, 14, 15, 16, 17, 18, 19, 20,...  BE   \n",
       "2                        [[-12, 30, 31, 32, 33, 34]]  LU   \n",
       "3                [[35, 36, 37, 38, -16, 39, 40, 41]]  UR   \n",
       "4               [[42, -33, 43, -1, 44, 45, 46, -42]]  SZ   \n",
       "\n",
       "               properties          type  \n",
       "0      {'name': 'Zürich'}       Polygon  \n",
       "1  {'name': 'Bern/Berne'}  MultiPolygon  \n",
       "2      {'name': 'Luzern'}       Polygon  \n",
       "3         {'name': 'Uri'}       Polygon  \n",
       "4      {'name': 'Schwyz'}       Polygon  "
      ]
     },
     "execution_count": 77,
     "metadata": {},
     "output_type": "execute_result"
    }
   ],
   "source": [
    "objects=json_file['objects']\n",
    "cantons=objects['cantons']['geometries']\n",
    "cantons_df = pd.DataFrame(cantons)\n",
    "cantons_df.head()"
   ]
  },
  {
   "cell_type": "code",
   "execution_count": 80,
   "metadata": {
    "collapsed": false
   },
   "outputs": [
    {
     "data": {
      "text/plain": [
       "0     ZH\n",
       "1     BE\n",
       "2     LU\n",
       "3     UR\n",
       "4     SZ\n",
       "5     OW\n",
       "6     NW\n",
       "7     GL\n",
       "8     ZG\n",
       "9     FR\n",
       "10    SO\n",
       "11    BS\n",
       "12    BL\n",
       "13    SH\n",
       "14    AR\n",
       "15    AI\n",
       "16    SG\n",
       "17    GR\n",
       "18    AG\n",
       "19    TG\n",
       "20    TI\n",
       "21    VD\n",
       "22    VS\n",
       "23    NE\n",
       "24    GE\n",
       "25    JU\n",
       "Name: id, dtype: object"
      ]
     },
     "execution_count": 80,
     "metadata": {},
     "output_type": "execute_result"
    }
   ],
   "source": [
    "cantons_ids=cantons_df.iloc[:,1]\n",
    "cantons_ids"
   ]
  },
  {
   "cell_type": "code",
   "execution_count": 97,
   "metadata": {
    "collapsed": false
   },
   "outputs": [
    {
     "data": {
      "text/html": [
       "<div>\n",
       "<table border=\"1\" class=\"dataframe\">\n",
       "  <thead>\n",
       "    <tr style=\"text-align: right;\">\n",
       "      <th></th>\n",
       "      <th>Institution</th>\n",
       "      <th>University</th>\n",
       "      <th>Amount</th>\n",
       "      <th>Canton</th>\n",
       "    </tr>\n",
       "    <tr>\n",
       "      <th>Number</th>\n",
       "      <th></th>\n",
       "      <th></th>\n",
       "      <th></th>\n",
       "      <th></th>\n",
       "    </tr>\n",
       "  </thead>\n",
       "  <tbody>\n",
       "    <tr>\n",
       "      <th>1</th>\n",
       "      <td>NaN</td>\n",
       "      <td>Nicht zuteilbar - NA</td>\n",
       "      <td>11619.00</td>\n",
       "      <td></td>\n",
       "    </tr>\n",
       "    <tr>\n",
       "      <th>4</th>\n",
       "      <td>Faculté de Psychologie et des Sciences de l'Ed...</td>\n",
       "      <td>Université de Genève - GE</td>\n",
       "      <td>41022.00</td>\n",
       "      <td></td>\n",
       "    </tr>\n",
       "    <tr>\n",
       "      <th>5</th>\n",
       "      <td>Kommission für das Corpus philosophorum medii ...</td>\n",
       "      <td>NPO (Biblioth., Museen, Verwalt.) - NPO</td>\n",
       "      <td>79732.00</td>\n",
       "      <td></td>\n",
       "    </tr>\n",
       "    <tr>\n",
       "      <th>6</th>\n",
       "      <td>Abt. Handschriften und Alte Drucke Bibliothek ...</td>\n",
       "      <td>Universität Basel - BS</td>\n",
       "      <td>52627.00</td>\n",
       "      <td></td>\n",
       "    </tr>\n",
       "    <tr>\n",
       "      <th>7</th>\n",
       "      <td>Schweiz. Thesauruskommission</td>\n",
       "      <td>NPO (Biblioth., Museen, Verwalt.) - NPO</td>\n",
       "      <td>120042.00</td>\n",
       "      <td></td>\n",
       "    </tr>\n",
       "  </tbody>\n",
       "</table>\n",
       "</div>"
      ],
      "text/plain": [
       "                                              Institution  \\\n",
       "Number                                                      \n",
       "1                                                     NaN   \n",
       "4       Faculté de Psychologie et des Sciences de l'Ed...   \n",
       "5       Kommission für das Corpus philosophorum medii ...   \n",
       "6       Abt. Handschriften und Alte Drucke Bibliothek ...   \n",
       "7                            Schweiz. Thesauruskommission   \n",
       "\n",
       "                                     University     Amount Canton  \n",
       "Number                                                             \n",
       "1                          Nicht zuteilbar - NA   11619.00         \n",
       "4                     Université de Genève - GE   41022.00         \n",
       "5       NPO (Biblioth., Museen, Verwalt.) - NPO   79732.00         \n",
       "6                        Universität Basel - BS   52627.00         \n",
       "7       NPO (Biblioth., Museen, Verwalt.) - NPO  120042.00         "
      ]
     },
     "execution_count": 97,
     "metadata": {},
     "output_type": "execute_result"
    }
   ],
   "source": [
    "#Adding the canton column\n",
    "size = len(important)\n",
    "cantons_column = size*[\"\"]\n",
    "important[\"Canton\"]=cantons_column\n",
    "important.head()"
   ]
  },
  {
   "cell_type": "code",
   "execution_count": 98,
   "metadata": {
    "collapsed": false
   },
   "outputs": [
    {
     "data": {
      "text/html": [
       "<div>\n",
       "<table border=\"1\" class=\"dataframe\">\n",
       "  <thead>\n",
       "    <tr style=\"text-align: right;\">\n",
       "      <th></th>\n",
       "      <th>Institution</th>\n",
       "      <th>University</th>\n",
       "      <th>Amount</th>\n",
       "      <th>Canton</th>\n",
       "    </tr>\n",
       "    <tr>\n",
       "      <th>Number</th>\n",
       "      <th></th>\n",
       "      <th></th>\n",
       "      <th></th>\n",
       "      <th></th>\n",
       "    </tr>\n",
       "  </thead>\n",
       "  <tbody>\n",
       "    <tr>\n",
       "      <th>1</th>\n",
       "      <td>NaN</td>\n",
       "      <td>Nicht zuteilbar - NA</td>\n",
       "      <td>11619.00</td>\n",
       "      <td>TI</td>\n",
       "    </tr>\n",
       "    <tr>\n",
       "      <th>4</th>\n",
       "      <td>Faculté de Psychologie et des Sciences de l'Ed...</td>\n",
       "      <td>Université de Genève - GE</td>\n",
       "      <td>41022.00</td>\n",
       "      <td>OW</td>\n",
       "    </tr>\n",
       "    <tr>\n",
       "      <th>5</th>\n",
       "      <td>Kommission für das Corpus philosophorum medii ...</td>\n",
       "      <td>NPO (Biblioth., Museen, Verwalt.) - NPO</td>\n",
       "      <td>79732.00</td>\n",
       "      <td>SH</td>\n",
       "    </tr>\n",
       "    <tr>\n",
       "      <th>6</th>\n",
       "      <td>Abt. Handschriften und Alte Drucke Bibliothek ...</td>\n",
       "      <td>Universität Basel - BS</td>\n",
       "      <td>52627.00</td>\n",
       "      <td>ZH</td>\n",
       "    </tr>\n",
       "    <tr>\n",
       "      <th>7</th>\n",
       "      <td>Schweiz. Thesauruskommission</td>\n",
       "      <td>NPO (Biblioth., Museen, Verwalt.) - NPO</td>\n",
       "      <td>120042.00</td>\n",
       "      <td>FR</td>\n",
       "    </tr>\n",
       "  </tbody>\n",
       "</table>\n",
       "</div>"
      ],
      "text/plain": [
       "                                              Institution  \\\n",
       "Number                                                      \n",
       "1                                                     NaN   \n",
       "4       Faculté de Psychologie et des Sciences de l'Ed...   \n",
       "5       Kommission für das Corpus philosophorum medii ...   \n",
       "6       Abt. Handschriften und Alte Drucke Bibliothek ...   \n",
       "7                            Schweiz. Thesauruskommission   \n",
       "\n",
       "                                     University     Amount Canton  \n",
       "Number                                                             \n",
       "1                          Nicht zuteilbar - NA   11619.00     TI  \n",
       "4                     Université de Genève - GE   41022.00     OW  \n",
       "5       NPO (Biblioth., Museen, Verwalt.) - NPO   79732.00     SH  \n",
       "6                        Universität Basel - BS   52627.00     ZH  \n",
       "7       NPO (Biblioth., Museen, Verwalt.) - NPO  120042.00     FR  "
      ]
     },
     "execution_count": 98,
     "metadata": {},
     "output_type": "execute_result"
    }
   ],
   "source": [
    "for i in important.index:\n",
    "    random_int = random.randint(0,25)\n",
    "    important.loc[i,\"Canton\"]=cantons_ids.loc[random_int]\n",
    "important.head()"
   ]
  },
  {
   "cell_type": "code",
   "execution_count": 103,
   "metadata": {
    "collapsed": false
   },
   "outputs": [
    {
     "ename": "SyntaxError",
     "evalue": "invalid syntax (<ipython-input-103-f490e7de1299>, line 1)",
     "output_type": "error",
     "traceback": [
      "\u001b[0;36m  File \u001b[0;32m\"<ipython-input-103-f490e7de1299>\"\u001b[0;36m, line \u001b[0;32m1\u001b[0m\n\u001b[0;31m    important.iloc[:, 2] <- sapply(important.iloc[:, 2], as.numeric)\u001b[0m\n\u001b[0m                                                          ^\u001b[0m\n\u001b[0;31mSyntaxError\u001b[0m\u001b[0;31m:\u001b[0m invalid syntax\n"
     ]
    }
   ],
   "source": [
    "#important.iloc[:, 2] <- sapply(important.iloc[:, 2], as.numeric)\n",
    "#amount_per_canton=important.groupby(['Canton'])['Amount'].sum()\n",
    "#amount_per_canton"
   ]
  },
  {
   "cell_type": "code",
   "execution_count": null,
   "metadata": {
    "collapsed": true
   },
   "outputs": [],
   "source": []
  }
 ],
 "metadata": {
  "anaconda-cloud": {},
  "kernelspec": {
   "display_name": "Python [conda root]",
   "language": "python",
   "name": "conda-root-py"
  },
  "language_info": {
   "codemirror_mode": {
    "name": "ipython",
    "version": 3
   },
   "file_extension": ".py",
   "mimetype": "text/x-python",
   "name": "python",
   "nbconvert_exporter": "python",
   "pygments_lexer": "ipython3",
   "version": "3.5.2"
  }
 },
 "nbformat": 4,
 "nbformat_minor": 1
}
