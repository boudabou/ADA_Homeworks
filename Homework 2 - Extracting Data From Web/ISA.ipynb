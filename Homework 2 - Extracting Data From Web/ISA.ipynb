{
 "cells": [
  {
   "cell_type": "code",
   "execution_count": 3,
   "metadata": {
    "collapsed": false
   },
   "outputs": [],
   "source": [
    "# Import libraries we will use for this lab\n",
    "import requests\n",
    "from bs4 import BeautifulSoup as bs\n",
    "import pandas as pd"
   ]
  },
  {
   "cell_type": "code",
   "execution_count": 4,
   "metadata": {
    "collapsed": false
   },
   "outputs": [
    {
     "name": "stderr",
     "output_type": "stream",
     "text": [
      "/Users/Yassine/anaconda/lib/python3.5/site-packages/bs4/__init__.py:181: UserWarning: No parser was explicitly specified, so I'm using the best available HTML parser for this system (\"lxml\"). This usually isn't a problem, but if you run this code on another system, or in a different virtual environment, it may use a different parser and behave differently.\n",
      "\n",
      "The code that caused this warning is on line 184 of the file /Users/Yassine/anaconda/lib/python3.5/runpy.py. To get rid of this warning, change code that looks like this:\n",
      "\n",
      " BeautifulSoup([your markup])\n",
      "\n",
      "to this:\n",
      "\n",
      " BeautifulSoup([your markup], \"lxml\")\n",
      "\n",
      "  markup_type=markup_type))\n"
     ]
    }
   ],
   "source": [
    "# \n",
    "url1 = \"http://isa.epfl.ch/imoniteur_ISAP/!GEDPUBLICREPORTS.filter\"\n",
    "url2 = \"http://isa.epfl.ch/imoniteur_ISAP/!GEDPUBLICREPORTS.html\"\n",
    "r = requests.get(url1,params={'ww_i_reportmodel':133685247})\n",
    "soup = bs(r.content)\n",
    "\n",
    "# \n",
    "Xsl=soup.find_all(\"input\",{'name':'ww_i_reportModelXsl'})\n",
    "XslValue = int(Xsl[0].get(\"value\"))\n",
    "\n",
    "# Parameters\n",
    "sections = {}\n",
    "years = {}\n",
    "semesters = {}\n",
    "#summerwinter = {}\n",
    "\n",
    "# Returns list of all possible key-value for the parameter\n",
    "def getParameterOptions(parameterName):\n",
    "    result = {}\n",
    "    select = soup.find_all(\"select\",{'name':parameterName})[0]\n",
    "    options = select.find_all(\"option\")\n",
    "    for o in options:\n",
    "        key = o.text\n",
    "        value = o.get(\"value\")\n",
    "        if(value!='null'):\n",
    "            result[key]=int(value)\n",
    "    return result\n",
    "\n",
    "sections = getParameterOptions('ww_x_UNITE_ACAD')\n",
    "years = getParameterOptions('ww_x_PERIODE_ACAD')\n",
    "semesters = getParameterOptions('ww_x_PERIODE_PEDAGO')\n",
    "#summer_winter = getParameterOptions('ww_x_HIVERETE')\n",
    "\n",
    "#def getParameterValues(section, year, semester, summerwinter):\n",
    "def getParameterValues(section, year, semester):\n",
    "    params={'ww_i_reportmodel':133685247,'ww_i_reportModelXsl':XslValue,'ww_b_list':1}\n",
    "    params['ww_x_UNITE_ACAD'] = sections[section]\n",
    "    params['ww_x_PERIODE_ACAD'] = years[year]\n",
    "    params['ww_x_PERIODE_PEDAGO'] = semesters[semester]\n",
    "    #params['ww_x_HIVERETE'] = summer_winter[summerwinter]\n",
    "    return params\n",
    "\n",
    "# We noticed that we can retrieve a page using only the GPS parameter.\n",
    "#def getGPS(section, year, semester, summerwinter):\n",
    "def getGPS(section, year, semester):\n",
    "    #payload = getParameterValues(section, year, semester, summerwinter)\n",
    "    payload = getParameterValues(section, year, semester)\n",
    "    r = requests.get(url1, params = payload)\n",
    "    soup = bs(r.content)\n",
    "    script = soup.find_all(\"a\")[1].get(\"onclick\")\n",
    "    code = script.replace('loadReport(\\'ww_x_GPS=', '')\n",
    "    code = code.replace('\\');return false;','')\n",
    "    return int(code)\n",
    "\n",
    "# Returns the HTML page for the inputs parameters\n",
    "#def getPage(section, year, semester, summerwinter):\n",
    "def getPage(section, year, semester):\n",
    "    #gps = getGPS(section, year, semester, summerwinter)\n",
    "    gps = getGPS(section, year, semester)\n",
    "    payload = {'ww_x_GPS':gps, 'ww_i_reportmodel':133685247, 'ww_i_reportModelXsl':XslValue}\n",
    "    r = requests.get(url2, params = payload)\n",
    "    return r"
   ]
  },
  {
   "cell_type": "markdown",
   "metadata": {},
   "source": [
    "**2. In this section we will use the previous function to build a table with columns [SCIPER, GENDER, SEMESTER] that contains all semesters spent by students in Bachelor. Hence, a repeated row (n times) means that the student did the corresponding semester n times.**"
   ]
  },
  {
   "cell_type": "code",
   "execution_count": 12,
   "metadata": {
    "collapsed": false
   },
   "outputs": [],
   "source": [
    "# A function that returns a list of students in a degree(Bachelor or Master) in a range of year\n",
    "def getListOfStudents(section,degree,startingYear,endingYear):\n",
    "    \n",
    "    # Create the resulting table\n",
    "    if degree=='B':\n",
    "        table= pd.DataFrame(columns=['SCIPER','GENDER','SEMESTER'])\n",
    "    else:\n",
    "        table= pd.DataFrame(columns=['SCIPER','GENDER','SPECIALIZATION','MINOR','SEMESTER'])\n",
    "    \n",
    "    # First for loop to iterate over all possible years\n",
    "    for i in range(startingYear,endingYear+1):\n",
    "        # Year is the string corresponding to the current year\n",
    "        year=str(i)+\"-\"+str(i+1)\n",
    "        # Calculate number of semesters\n",
    "        if degree=='B':\n",
    "            numberOfSemesters = 6;\n",
    "        else:\n",
    "            numberOfSemesters = 3;\n",
    "    \n",
    "        # Second for loop to iterate over all possible semesters\n",
    "        for j in range(1,numberOfSemesters+1):\n",
    "            # Semester is the string corresponding to the current semester\n",
    "            if degree=='B':\n",
    "                semester=\"Bachelor semestre \"+str(j)\n",
    "            else:\n",
    "                semester=\"Master semestre \"+str(j)\n",
    "            # Load the page corresponding to the informatique section and the current year and semester\n",
    "            request = getPage(section, year, semester)\n",
    "            # Create a BeautifulSoup object for the loaded html page\n",
    "            soup = bs(request.content,'html.parser')\n",
    "            # Use the find all method to extract the list of all students. In this part we used the body of the html answer \n",
    "            # of the ISA server (using Postman) to adjust the index of this list so that each element of the list corresponds\n",
    "            # to a student and not other data.\n",
    "            list_of_students=soup.findAll('tr')[2:]\n",
    "        \n",
    "            # Third loop to go throw the list and extract the student's information\n",
    "            for student in list_of_students:\n",
    "                # Get the list of all the attributes of a current student (again, the positions of the attributes found with Postman)\n",
    "                current_student_infos=student.findAll('td')\n",
    "                # Extract the gender attribute\n",
    "                current_student_gender=current_student_infos[0].string\n",
    "                # Extract the sciper attribute\n",
    "                current_student_sciper=current_student_infos[10].string\n",
    "                # Build a new row (dataFrame) with the extracted information\n",
    "                current_student_new_table_entry = pd.DataFrame([[current_student_sciper,current_student_gender,str(j)]],columns=['SCIPER','GENDER','SEMESTER'])\n",
    "                # Append the new row to the resulting table\n",
    "                table=table.append(current_student_new_table_entry)\n",
    "\n",
    "    # Once the table is populated change 'Monsieur' with 'M' and 'Madame' with 'F' in thegender column\n",
    "    table=table.replace({'GENDER': {'Monsieur': 'M','Madame':'F'}})\n",
    "    #index the resulting table\n",
    "    table.index=range(0,len(table))\n",
    "    return table"
   ]
  },
  {
   "cell_type": "code",
   "execution_count": null,
   "metadata": {
    "collapsed": false
   },
   "outputs": [
    {
     "name": "stderr",
     "output_type": "stream",
     "text": [
      "/Users/Yassine/anaconda/lib/python3.5/site-packages/bs4/__init__.py:181: UserWarning: No parser was explicitly specified, so I'm using the best available HTML parser for this system (\"lxml\"). This usually isn't a problem, but if you run this code on another system, or in a different virtual environment, it may use a different parser and behave differently.\n",
      "\n",
      "The code that caused this warning is on line 184 of the file /Users/Yassine/anaconda/lib/python3.5/runpy.py. To get rid of this warning, change code that looks like this:\n",
      "\n",
      " BeautifulSoup([your markup])\n",
      "\n",
      "to this:\n",
      "\n",
      " BeautifulSoup([your markup], \"lxml\")\n",
      "\n",
      "  markup_type=markup_type))\n"
     ]
    }
   ],
   "source": [
    "# Specify the section, level and years for exercise 1\n",
    "section=\"Informatique\"\n",
    "degree='B'\n",
    "startingYear=2007\n",
    "endingYear=2016\n",
    "sciper_gender_table = getListOfStudents(section,degree,startingYear,endingYear)\n",
    "sciper_gender_table.head()"
   ]
  },
  {
   "cell_type": "markdown",
   "metadata": {},
   "source": [
    "**3. In this part we will compute the set of students that did their semester 1 and 6 between 2007 and 2007 \n",
    "and other sets that we will not use later but just to have an idea of the bachelor cycle of different students of IN**"
   ]
  },
  {
   "cell_type": "code",
   "execution_count": null,
   "metadata": {
    "collapsed": false,
    "scrolled": true
   },
   "outputs": [],
   "source": [
    "#Compute the set of all scipers\n",
    "all_students_distinct= set(sciper_gender_table.SCIPER)\n",
    "\n",
    "#Compute the set of all scipers corresponding to students that did their semester 1 between 2007 and 2017\n",
    "students_with_semester_1_entry=set(sciper_gender_table.loc[sciper_gender_table['SEMESTER']=='1','SCIPER'])\n",
    "\n",
    "#Compute the set of all scipers corresponding to students that did their semester 6 between 2007 and 2017\n",
    "students_with_semester_6_entry=set(sciper_gender_table.loc[sciper_gender_table['SEMESTER']=='6','SCIPER'])\n",
    "\n",
    "#Compute the set of all scipers corresponding to students that did their semester 1 and 6 between 2007 and 2017\n",
    "#THIS IS THE SET WE ARE INTERESTED IN FOR THE TEST\n",
    "students_with_semester_1_and_6_entry=students_with_semester_1_entry.intersection(students_with_semester_6_entry)\n",
    "\n",
    "#Compute the set of all scipers corresponding to students did their semester 6 between 2007 and 2017 but did semester 1 before 2007\n",
    "#by substracting students_with_semester_1_and_6_entry from student_with_semester_6\n",
    "#we nedd to copy students_with_semester_6_entry because the method difference_update that substract doesn't make a copy\n",
    "#and change directly the calling set\n",
    "student_with_semester_6_and_not_1=students_with_semester_6_entry.copy()\n",
    "student_with_semester_6_and_not_1.difference_update(students_with_semester_1_and_6_entry)\n",
    "\n",
    "\n",
    "print(\"The total number of students is: \"+ str(len(all_students_distinct)))\n",
    "print(\"The total number of students that did their semester 1 between 2007 and 2017 is: \"+str(len(students_with_semester_1_entry)))\n",
    "print(\"The total number of students that did their semester 6 between 2007 and 2017 is: \"+str(len(students_with_semester_6_entry)))\n",
    "print(\"The total number of students that did their semester 1 and 6 between 2007 and 2017 is: \"+ str (len(students_with_semester_1_and_6_entry)))\n",
    "print(\"The total number of students that did their semester 6 between 2007 and 2017 but did semester 1 before 2007 is: \"+ str (len(student_with_semester_6_and_not_1)))"
   ]
  },
  {
   "cell_type": "markdown",
   "metadata": {
    "collapsed": true
   },
   "source": [
    "**Coclusion:** The number of students that reached their sixth semester between spring 2007 and spring 2017 are 516 students. But only 379 of them began their firts semester of bachelor in or after autaumn 2007. Students who reached the sixth semester between 2007 and 2017 but their beginning year is unkown from the data are not taken into account because the duration of their bachelor is unkown.**\n",
    "**------------------------------------------------------------------------------------------------------------------**"
   ]
  },
  {
   "cell_type": "markdown",
   "metadata": {
    "collapsed": true
   },
   "source": [
    "**4. In this part we will compute the table showing the total number of month spent in the bachelor relative to the students we found in the previous section (students that did their semester 1 and 6 between 2007 and 2017)**"
   ]
  },
  {
   "cell_type": "markdown",
   "metadata": {},
   "source": [
    "One way to do that is to merge a dataFrame containing one column 'SCIPER' containing all scipers of students that did their semester 1 and 6 between 2007 and 2017 and the original table 'sciper_gender_table' with an **inner join** which will result in all rows in 'sciper_gender_table' that have a scipr numbers we are interested in."
   ]
  },
  {
   "cell_type": "code",
   "execution_count": null,
   "metadata": {
    "collapsed": false
   },
   "outputs": [],
   "source": [
    "#List of students that did their semester 1 and 6 between 2007 and 2017 as a dataFrame\n",
    "students_with_semester_1_and_6_entry_DFrame=pd.DataFrame(list(students_with_semester_1_and_6_entry),columns=['SCIPER'])\n",
    "students_with_semester_1_and_6_entry_DFrame.head()"
   ]
  },
  {
   "cell_type": "code",
   "execution_count": null,
   "metadata": {
    "collapsed": false
   },
   "outputs": [],
   "source": [
    "# merge the previous dataFrame with the original table\n",
    "sciper_gender_table_semester_1_and_6=pd.merge(sciper_gender_table,students_with_semester_1_and_6_entry_DFrame,how='inner')\n",
    "sciper_gender_table_semester_1_and_6.head(10)"
   ]
  },
  {
   "cell_type": "markdown",
   "metadata": {},
   "source": [
    "**Conclusion:** The resulting table consist of multiple raws for each SCIPER. The number of raws with the same SCIPER represents the number of semesters spent by the student with this SCIPER in Bachelor "
   ]
  },
  {
   "cell_type": "markdown",
   "metadata": {},
   "source": [
    "**4. In this section we will group the resulting table by student to compute the number of semesters spent in the bachelor for each students and then transform the number of semesters to the number of months**"
   ]
  },
  {
   "cell_type": "code",
   "execution_count": null,
   "metadata": {
    "collapsed": false
   },
   "outputs": [],
   "source": [
    "# Group by SCIPER and GENDER to get the table of all different students\n",
    "# The count method will count the number of raws corresponding to each SCIPER in the SMESTER column\n",
    "# Which corresponds as we said earlier to the number of semester spent by the student doing his bachelor\n",
    "total_number_of_semesters_of_bachelor=sciper_gender_table_semester_1_and_6.groupby(by=['SCIPER','GENDER']).count()\n",
    "\n",
    "# Change the name of SEMESTER column to 'Number of semesters of bachelor'\n",
    "total_number_of_semesters_of_bachelor.columns=['NUMBER OF SEMESTERS OF BACHELOR']\n",
    "\n",
    "total_number_of_semesters_of_bachelor.head()"
   ]
  },
  {
   "cell_type": "code",
   "execution_count": 221,
   "metadata": {
    "collapsed": false
   },
   "outputs": [
    {
     "data": {
      "text/html": [
       "<div>\n",
       "<table border=\"1\" class=\"dataframe\">\n",
       "  <thead>\n",
       "    <tr style=\"text-align: right;\">\n",
       "      <th></th>\n",
       "      <th></th>\n",
       "      <th>NUMBER OF MONTHS OF BACHELOR</th>\n",
       "    </tr>\n",
       "    <tr>\n",
       "      <th>SCIPER</th>\n",
       "      <th>GENDER</th>\n",
       "      <th></th>\n",
       "    </tr>\n",
       "  </thead>\n",
       "  <tbody>\n",
       "    <tr>\n",
       "      <th>202543</th>\n",
       "      <th>M</th>\n",
       "      <td>36</td>\n",
       "    </tr>\n",
       "    <tr>\n",
       "      <th>205844</th>\n",
       "      <th>M</th>\n",
       "      <td>36</td>\n",
       "    </tr>\n",
       "    <tr>\n",
       "      <th>205709</th>\n",
       "      <th>M</th>\n",
       "      <td>36</td>\n",
       "    </tr>\n",
       "    <tr>\n",
       "      <th>205677</th>\n",
       "      <th>M</th>\n",
       "      <td>36</td>\n",
       "    </tr>\n",
       "    <tr>\n",
       "      <th>205675</th>\n",
       "      <th>M</th>\n",
       "      <td>36</td>\n",
       "    </tr>\n",
       "  </tbody>\n",
       "</table>\n",
       "</div>"
      ],
      "text/plain": [
       "               NUMBER OF MONTHS OF BACHELOR\n",
       "SCIPER GENDER                              \n",
       "202543 M                                 36\n",
       "205844 M                                 36\n",
       "205709 M                                 36\n",
       "205677 M                                 36\n",
       "205675 M                                 36"
      ]
     },
     "execution_count": 221,
     "metadata": {},
     "output_type": "execute_result"
    }
   ],
   "source": [
    "# Create the table that shows the number of months of bachelor per student as a copy from the table of semesters\n",
    "total_number_of_months_of_bachelor=total_number_of_semesters_of_bachelor.copy()\n",
    "\n",
    "# Add a new column that represents the number of months and fill it by multiplyng the correspondent number of\n",
    "#semesters by 6 (1 semester= 6 months)\n",
    "total_number_of_months_of_bachelor['NUMBER OF MONTHS OF BACHELOR']= 6* total_number_of_months_of_bachelor['NUMBER OF SEMESTERS OF BACHELOR']\n",
    "\n",
    "# Remove the column corresponding to the number of semesters and sort according to the number of months\n",
    "total_number_of_months_of_bachelor=total_number_of_months_of_bachelor[['NUMBER OF MONTHS OF BACHELOR']].sort_values('NUMBER OF MONTHS OF BACHELOR')\n",
    "\n",
    "total_number_of_months_of_bachelor.head()\n"
   ]
  },
  {
   "cell_type": "markdown",
   "metadata": {},
   "source": [
    "**Problem**: We can see from the table that the first entry corresponds to a student that finished his bachelor in 24 months while the minimum is 36. The data corresponding to this student is missing for semester 3 and 4 are missing as shown above:"
   ]
  },
  {
   "cell_type": "code",
   "execution_count": 222,
   "metadata": {
    "collapsed": false
   },
   "outputs": [
    {
     "data": {
      "text/html": [
       "<div>\n",
       "<table border=\"1\" class=\"dataframe\">\n",
       "  <thead>\n",
       "    <tr style=\"text-align: right;\">\n",
       "      <th></th>\n",
       "      <th>SCIPER</th>\n",
       "      <th>GENDER</th>\n",
       "      <th>SEMESTER</th>\n",
       "    </tr>\n",
       "  </thead>\n",
       "  <tbody>\n",
       "  </tbody>\n",
       "</table>\n",
       "</div>"
      ],
      "text/plain": [
       "Empty DataFrame\n",
       "Columns: [SCIPER, GENDER, SEMESTER]\n",
       "Index: []"
      ]
     },
     "execution_count": 222,
     "metadata": {},
     "output_type": "execute_result"
    }
   ],
   "source": [
    "# Show all rows with sciper='204222'\n",
    "sciper_gender_table[sciper_gender_table['SCIPER']=='204222']"
   ]
  },
  {
   "cell_type": "markdown",
   "metadata": {},
   "source": [
    "Hence, removing this row will make our data more robust:"
   ]
  },
  {
   "cell_type": "code",
   "execution_count": 223,
   "metadata": {
    "collapsed": false
   },
   "outputs": [
    {
     "data": {
      "text/html": [
       "<div>\n",
       "<table border=\"1\" class=\"dataframe\">\n",
       "  <thead>\n",
       "    <tr style=\"text-align: right;\">\n",
       "      <th></th>\n",
       "      <th></th>\n",
       "      <th>NUMBER OF MONTHS OF BACHELOR</th>\n",
       "    </tr>\n",
       "    <tr>\n",
       "      <th>SCIPER</th>\n",
       "      <th>GENDER</th>\n",
       "      <th></th>\n",
       "    </tr>\n",
       "  </thead>\n",
       "  <tbody>\n",
       "    <tr>\n",
       "      <th>205844</th>\n",
       "      <th>M</th>\n",
       "      <td>36</td>\n",
       "    </tr>\n",
       "    <tr>\n",
       "      <th>205709</th>\n",
       "      <th>M</th>\n",
       "      <td>36</td>\n",
       "    </tr>\n",
       "    <tr>\n",
       "      <th>205677</th>\n",
       "      <th>M</th>\n",
       "      <td>36</td>\n",
       "    </tr>\n",
       "    <tr>\n",
       "      <th>205675</th>\n",
       "      <th>M</th>\n",
       "      <td>36</td>\n",
       "    </tr>\n",
       "    <tr>\n",
       "      <th>205662</th>\n",
       "      <th>M</th>\n",
       "      <td>36</td>\n",
       "    </tr>\n",
       "  </tbody>\n",
       "</table>\n",
       "</div>"
      ],
      "text/plain": [
       "               NUMBER OF MONTHS OF BACHELOR\n",
       "SCIPER GENDER                              \n",
       "205844 M                                 36\n",
       "205709 M                                 36\n",
       "205677 M                                 36\n",
       "205675 M                                 36\n",
       "205662 M                                 36"
      ]
     },
     "execution_count": 223,
     "metadata": {},
     "output_type": "execute_result"
    }
   ],
   "source": [
    "total_number_of_months_of_bachelor=total_number_of_months_of_bachelor[1:]\n",
    "total_number_of_months_of_bachelor.head()"
   ]
  },
  {
   "cell_type": "markdown",
   "metadata": {},
   "source": [
    "Now we can group our table according to the gender we can compute for example the mean number of months spent in the bachelor for each gender:"
   ]
  },
  {
   "cell_type": "code",
   "execution_count": 224,
   "metadata": {
    "collapsed": false
   },
   "outputs": [
    {
     "data": {
      "text/html": [
       "<div>\n",
       "<table border=\"1\" class=\"dataframe\">\n",
       "  <thead>\n",
       "    <tr style=\"text-align: right;\">\n",
       "      <th></th>\n",
       "      <th>Mean number of months spent in the Bachelor</th>\n",
       "    </tr>\n",
       "    <tr>\n",
       "      <th>GENDER</th>\n",
       "      <th></th>\n",
       "    </tr>\n",
       "  </thead>\n",
       "  <tbody>\n",
       "    <tr>\n",
       "      <th>F</th>\n",
       "      <td>44.400000</td>\n",
       "    </tr>\n",
       "    <tr>\n",
       "      <th>M</th>\n",
       "      <td>42.417722</td>\n",
       "    </tr>\n",
       "  </tbody>\n",
       "</table>\n",
       "</div>"
      ],
      "text/plain": [
       "        Mean number of months spent in the Bachelor\n",
       "GENDER                                             \n",
       "F                                         44.400000\n",
       "M                                         42.417722"
      ]
     },
     "execution_count": 224,
     "metadata": {},
     "output_type": "execute_result"
    }
   ],
   "source": [
    "#reindex the table of total number of months because the gender column was an index and then group by GENDER\n",
    "#and compute the mean for each gender and take the 'Number of months of bachelor' column\n",
    "mean_number_of_months_of_bachelor_by_gender=total_number_of_months_of_bachelor.reset_index().groupby(by=['GENDER']).mean()[['NUMBER OF MONTHS OF BACHELOR']]\n",
    "##Rename the column of the mean number of months spent in the Bachelor\n",
    "mean_number_of_months_of_bachelor_by_gender.columns=['Mean number of months spent in the Bachelor']\n",
    "mean_number_of_months_of_bachelor_by_gender"
   ]
  },
  {
   "cell_type": "markdown",
   "metadata": {},
   "source": [
    "**In this section we will apply a test to the data to know whether the difference of the period spent to finish the Bachelor between man and women is statistically significant:**"
   ]
  },
  {
   "cell_type": "markdown",
   "metadata": {},
   "source": [
    "#TEST"
   ]
  },
  {
   "cell_type": "code",
   "execution_count": null,
   "metadata": {
    "collapsed": true
   },
   "outputs": [],
   "source": []
  }
 ],
 "metadata": {
  "anaconda-cloud": {},
  "kernelspec": {
   "display_name": "Python [conda root]",
   "language": "python",
   "name": "conda-root-py"
  },
  "language_info": {
   "codemirror_mode": {
    "name": "ipython",
    "version": 3
   },
   "file_extension": ".py",
   "mimetype": "text/x-python",
   "name": "python",
   "nbconvert_exporter": "python",
   "pygments_lexer": "ipython3",
   "version": "3.5.2"
  }
 },
 "nbformat": 4,
 "nbformat_minor": 1
}
