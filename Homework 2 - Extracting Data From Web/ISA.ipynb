{
 "cells": [
  {
   "cell_type": "code",
   "execution_count": 103,
   "metadata": {
    "collapsed": false
   },
   "outputs": [],
   "source": [
    "# Import libraries we will use for this lab\n",
    "import requests\n",
    "from bs4 import BeautifulSoup as bs\n",
    "import pandas as pd\n",
    "from scipy import stats\n",
    "import numpy as np"
   ]
  },
  {
   "cell_type": "markdown",
   "metadata": {},
   "source": [
    "**1. In this section we will define functions to extract the wanted data from ISA**"
   ]
  },
  {
   "cell_type": "code",
   "execution_count": 2,
   "metadata": {
    "collapsed": false
   },
   "outputs": [
    {
     "name": "stderr",
     "output_type": "stream",
     "text": [
      "/Users/Yassine/anaconda/lib/python3.5/site-packages/bs4/__init__.py:181: UserWarning: No parser was explicitly specified, so I'm using the best available HTML parser for this system (\"lxml\"). This usually isn't a problem, but if you run this code on another system, or in a different virtual environment, it may use a different parser and behave differently.\n",
      "\n",
      "The code that caused this warning is on line 184 of the file /Users/Yassine/anaconda/lib/python3.5/runpy.py. To get rid of this warning, change code that looks like this:\n",
      "\n",
      " BeautifulSoup([your markup])\n",
      "\n",
      "to this:\n",
      "\n",
      " BeautifulSoup([your markup], \"lxml\")\n",
      "\n",
      "  markup_type=markup_type))\n"
     ]
    }
   ],
   "source": [
    "# \n",
    "url1 = \"http://isa.epfl.ch/imoniteur_ISAP/!GEDPUBLICREPORTS.filter\"\n",
    "url2 = \"http://isa.epfl.ch/imoniteur_ISAP/!GEDPUBLICREPORTS.html\"\n",
    "r = requests.get(url1,params={'ww_i_reportmodel':133685247})\n",
    "soup = bs(r.content)\n",
    "\n",
    "# \n",
    "Xsl=soup.find_all(\"input\",{'name':'ww_i_reportModelXsl'})\n",
    "XslValue = int(Xsl[0].get(\"value\"))\n",
    "\n",
    "# Parameters\n",
    "sections = {}\n",
    "years = {}\n",
    "semesters = {}\n",
    "#summerwinter = {}\n",
    "\n",
    "# Returns list of all possible key-value for the parameter\n",
    "def getParameterOptions(parameterName):\n",
    "    result = {}\n",
    "    select = soup.find_all(\"select\",{'name':parameterName})[0]\n",
    "    options = select.find_all(\"option\")\n",
    "    for o in options:\n",
    "        key = o.text\n",
    "        value = o.get(\"value\")\n",
    "        if(value!='null'):\n",
    "            result[key]=int(value)\n",
    "    return result\n",
    "\n",
    "sections = getParameterOptions('ww_x_UNITE_ACAD')\n",
    "years = getParameterOptions('ww_x_PERIODE_ACAD')\n",
    "semesters = getParameterOptions('ww_x_PERIODE_PEDAGO')\n",
    "#summer_winter = getParameterOptions('ww_x_HIVERETE')\n",
    "\n",
    "#def getParameterValues(section, year, semester, summerwinter):\n",
    "def getParameterValues(section, year, semester):\n",
    "    params={'ww_i_reportmodel':133685247,'ww_i_reportModelXsl':XslValue,'ww_b_list':1}\n",
    "    params['ww_x_UNITE_ACAD'] = sections[section]\n",
    "    params['ww_x_PERIODE_ACAD'] = years[year]\n",
    "    params['ww_x_PERIODE_PEDAGO'] = semesters[semester]\n",
    "    #params['ww_x_HIVERETE'] = summer_winter[summerwinter]\n",
    "    return params\n",
    "\n",
    "# We noticed that we can retrieve a page using only the GPS parameter.\n",
    "#def getGPS(section, year, semester, summerwinter):\n",
    "def getGPS(section, year, semester):\n",
    "    #payload = getParameterValues(section, year, semester, summerwinter)\n",
    "    payload = getParameterValues(section, year, semester)\n",
    "    r = requests.get(url1, params = payload)\n",
    "    soup = bs(r.content)\n",
    "    script = soup.find_all(\"a\")[1].get(\"onclick\")\n",
    "    code = script.replace('loadReport(\\'ww_x_GPS=', '')\n",
    "    code = code.replace('\\');return false;','')\n",
    "    return int(code)\n",
    "\n",
    "# Returns the HTML page for the inputs parameters\n",
    "#def getPage(section, year, semester, summerwinter):\n",
    "def getPage(section, year, semester):\n",
    "    #gps = getGPS(section, year, semester, summerwinter)\n",
    "    gps = getGPS(section, year, semester)\n",
    "    payload = {'ww_x_GPS':gps, 'ww_i_reportmodel':133685247, 'ww_i_reportModelXsl':XslValue}\n",
    "    r = requests.get(url2, params = payload)\n",
    "    return r"
   ]
  },
  {
   "cell_type": "markdown",
   "metadata": {},
   "source": [
    "**2. In this section we will use the previous function to build a table with columns [SCIPER, GENDER, SEMESTER] that contains all semesters spent by students in Bachelor. Hence, a repeated row (n times) means that the student did the corresponding semester n times.**"
   ]
  },
  {
   "cell_type": "code",
   "execution_count": 68,
   "metadata": {
    "collapsed": false
   },
   "outputs": [],
   "source": [
    "# A function that returns a list of students in a degree(Bachelor or Master) in a range of year\n",
    "def getListOfStudents(section,degree,startingYear,endingYear):\n",
    "    \n",
    "    # Create the resulting table\n",
    "    if degree=='B':\n",
    "        table= pd.DataFrame(columns=['SCIPER','GENDER','SEMESTER'])\n",
    "    else:\n",
    "        table= pd.DataFrame(columns=['SCIPER','GENDER','SPECIALIZATION','MINOR','SEMESTER','YEAR'])\n",
    "    \n",
    "    # First for loop to iterate over all possible years\n",
    "    for i in range(startingYear,endingYear+1):\n",
    "        # Year is the string corresponding to the current year\n",
    "        year=str(i)+\"-\"+str(i+1)\n",
    "        # Calculate number of semesters\n",
    "        if degree =='B':\n",
    "            numberOfSemesters = 6;\n",
    "        else:\n",
    "            numberOfSemesters = 3;\n",
    "    \n",
    "        # Second for loop to iterate over all possible semesters\n",
    "        for j in range(1,numberOfSemesters+1):\n",
    "            # Semester is the string corresponding to the current semester\n",
    "            if degree=='B':\n",
    "                semester=\"Bachelor semestre \"+str(j)\n",
    "            else:\n",
    "                semester=\"Master semestre \"+str(j)\n",
    "            # Load the page corresponding to the informatique section and the current year and semester\n",
    "            request = getPage(section, year, semester)\n",
    "            # Create a BeautifulSoup object for the loaded html page\n",
    "            soup = bs(request.content,'html.parser')\n",
    "            # Use the find all method to extract the list of all students. In this part we used the body of the html answer \n",
    "            # of the ISA server (using Postman) to adjust the index of this list so that each element of the list corresponds\n",
    "            # to a student and not other data.\n",
    "            list_of_students=soup.findAll('tr')[2:]\n",
    "        \n",
    "            # Third loop to go throw the list and extract the student's information\n",
    "            for student in list_of_students:\n",
    "                # Get the list of all the attributes of a current student (again, the positions of the attributes found with Postman)\n",
    "                current_student_infos=student.findAll('td')\n",
    "                # Extract the gender attribute\n",
    "                current_student_gender=current_student_infos[0].string\n",
    "                # Extract the sciper attribute\n",
    "                current_student_sciper=current_student_infos[10].string\n",
    "                if degree=='M':\n",
    "                    # Extract the minor attribute\n",
    "                    current_student_minor=current_student_infos[6].text\n",
    "                    # Extract the specialization attribute\n",
    "                    current_student_specialization=current_student_infos[4].text\n",
    "                # Build a new row (dataFrame) with the extracted information\n",
    "                if degree=='B':\n",
    "                    current_student_new_table_entry = pd.DataFrame([[current_student_sciper,current_student_gender,str(j)]],columns=['SCIPER','GENDER','SEMESTER'])\n",
    "                else:\n",
    "                    current_student_new_table_entry = pd.DataFrame([[current_student_sciper,current_student_gender,current_student_specialization,current_student_minor,str(j),str(i)]],columns=['SCIPER','GENDER','SPECIALIZATION','MINOR','SEMESTER','YEAR'])\n",
    "                # Append the new row to the resulting table\n",
    "                table=table.append(current_student_new_table_entry)\n",
    "\n",
    "    # Once the table is populated change 'Monsieur' with 'M' and 'Madame' with 'F' in thegender column\n",
    "    table=table.replace({'GENDER': {'Monsieur': 'M','Madame':'F'}})\n",
    "    #index the resulting table\n",
    "    table.index=range(0,len(table))\n",
    "    return table"
   ]
  },
  {
   "cell_type": "code",
   "execution_count": 5,
   "metadata": {
    "collapsed": false
   },
   "outputs": [
    {
     "name": "stderr",
     "output_type": "stream",
     "text": [
      "/Users/haniboudabous/anaconda/lib/python3.5/site-packages/bs4/__init__.py:166: UserWarning: No parser was explicitly specified, so I'm using the best available HTML parser for this system (\"lxml\"). This usually isn't a problem, but if you run this code on another system, or in a different virtual environment, it may use a different parser and behave differently.\n",
      "\n",
      "To get rid of this warning, change this:\n",
      "\n",
      " BeautifulSoup([your markup])\n",
      "\n",
      "to this:\n",
      "\n",
      " BeautifulSoup([your markup], \"lxml\")\n",
      "\n",
      "  markup_type=markup_type))\n"
     ]
    },
    {
     "data": {
      "text/html": [
       "<div>\n",
       "<table border=\"1\" class=\"dataframe\">\n",
       "  <thead>\n",
       "    <tr style=\"text-align: right;\">\n",
       "      <th></th>\n",
       "      <th>SCIPER</th>\n",
       "      <th>GENDER</th>\n",
       "      <th>SEMESTER</th>\n",
       "    </tr>\n",
       "  </thead>\n",
       "  <tbody>\n",
       "    <tr>\n",
       "      <th>0</th>\n",
       "      <td>169569</td>\n",
       "      <td>M</td>\n",
       "      <td>1</td>\n",
       "    </tr>\n",
       "    <tr>\n",
       "      <th>1</th>\n",
       "      <td>174905</td>\n",
       "      <td>M</td>\n",
       "      <td>1</td>\n",
       "    </tr>\n",
       "    <tr>\n",
       "      <th>2</th>\n",
       "      <td>173922</td>\n",
       "      <td>M</td>\n",
       "      <td>1</td>\n",
       "    </tr>\n",
       "    <tr>\n",
       "      <th>3</th>\n",
       "      <td>179406</td>\n",
       "      <td>M</td>\n",
       "      <td>1</td>\n",
       "    </tr>\n",
       "    <tr>\n",
       "      <th>4</th>\n",
       "      <td>179428</td>\n",
       "      <td>M</td>\n",
       "      <td>1</td>\n",
       "    </tr>\n",
       "  </tbody>\n",
       "</table>\n",
       "</div>"
      ],
      "text/plain": [
       "   SCIPER GENDER SEMESTER\n",
       "0  169569      M        1\n",
       "1  174905      M        1\n",
       "2  173922      M        1\n",
       "3  179406      M        1\n",
       "4  179428      M        1"
      ]
     },
     "execution_count": 5,
     "metadata": {},
     "output_type": "execute_result"
    }
   ],
   "source": [
    "# Specify the section, level and years for exercise 1\n",
    "section=\"Informatique\"\n",
    "degree='B'\n",
    "startingYear=2007\n",
    "endingYear=2016\n",
    "sciper_gender_table = getListOfStudents(section,degree,startingYear,endingYear)\n",
    "sciper_gender_table.head()"
   ]
  },
  {
   "cell_type": "markdown",
   "metadata": {},
   "source": [
    "**3. In this part we will compute the set of students that did their semester 1 and 6 between 2007 and 2007 \n",
    "and other sets that we will not use later but just to have an idea of the bachelor cycle of different students of IN**"
   ]
  },
  {
   "cell_type": "code",
   "execution_count": 6,
   "metadata": {
    "collapsed": false,
    "scrolled": true
   },
   "outputs": [
    {
     "name": "stdout",
     "output_type": "stream",
     "text": [
      "The total number of students is: 1477\n",
      "The total number of students that did their semester 1 between 2007 and 2017 is: 1323\n",
      "The total number of students that did their semester 6 between 2007 and 2017 is: 516\n",
      "The total number of students that did their semester 1 and 6 between 2007 and 2017 is: 397\n",
      "The total number of students that did their semester 6 between 2007 and 2017 but did semester 1 before 2007 is: 119\n"
     ]
    }
   ],
   "source": [
    "#Compute the set of all scipers\n",
    "all_students_distinct= set(sciper_gender_table.SCIPER)\n",
    "\n",
    "#Compute the set of all scipers corresponding to students that did their semester 1 between 2007 and 2017\n",
    "students_with_semester_1_entry=set(sciper_gender_table.loc[sciper_gender_table['SEMESTER']=='1','SCIPER'])\n",
    "\n",
    "#Compute the set of all scipers corresponding to students that did their semester 6 between 2007 and 2017\n",
    "students_with_semester_6_entry=set(sciper_gender_table.loc[sciper_gender_table['SEMESTER']=='6','SCIPER'])\n",
    "\n",
    "#Compute the set of all scipers corresponding to students that did their semester 1 and 6 between 2007 and 2017\n",
    "#THIS IS THE SET WE ARE INTERESTED IN FOR THE TEST\n",
    "students_with_semester_1_and_6_entry=students_with_semester_1_entry.intersection(students_with_semester_6_entry)\n",
    "\n",
    "#Compute the set of all scipers corresponding to students did their semester 6 between 2007 and 2017 but did semester 1 before 2007\n",
    "#by substracting students_with_semester_1_and_6_entry from student_with_semester_6\n",
    "#we nedd to copy students_with_semester_6_entry because the method difference_update that substract doesn't make a copy\n",
    "#and change directly the calling set\n",
    "student_with_semester_6_and_not_1=students_with_semester_6_entry.copy()\n",
    "student_with_semester_6_and_not_1.difference_update(students_with_semester_1_and_6_entry)\n",
    "\n",
    "\n",
    "print(\"The total number of students is: \"+ str(len(all_students_distinct)))\n",
    "print(\"The total number of students that did their semester 1 between 2007 and 2017 is: \"+str(len(students_with_semester_1_entry)))\n",
    "print(\"The total number of students that did their semester 6 between 2007 and 2017 is: \"+str(len(students_with_semester_6_entry)))\n",
    "print(\"The total number of students that did their semester 1 and 6 between 2007 and 2017 is: \"+ str (len(students_with_semester_1_and_6_entry)))\n",
    "print(\"The total number of students that did their semester 6 between 2007 and 2017 but did semester 1 before 2007 is: \"+ str (len(student_with_semester_6_and_not_1)))"
   ]
  },
  {
   "cell_type": "markdown",
   "metadata": {
    "collapsed": true
   },
   "source": [
    "**Coclusion:** The number of students that reached their sixth semester between spring 2007 and spring 2017 are 516 students. But only 379 of them began their firts semester of bachelor in or after autaumn 2007. Students who reached the sixth semester between 2007 and 2017 but their beginning year is unkown from the data are not taken into account because the duration of their bachelor is unkown.**\n",
    "**------------------------------------------------------------------------------------------------------------------**"
   ]
  },
  {
   "cell_type": "markdown",
   "metadata": {
    "collapsed": true
   },
   "source": [
    "**4. In this part we will compute the table showing the total number of month spent in the bachelor relative to the students we found in the previous section (students that did their semester 1 and 6 between 2007 and 2017)**"
   ]
  },
  {
   "cell_type": "markdown",
   "metadata": {},
   "source": [
    "One way to do that is to merge a dataFrame containing one column 'SCIPER' containing all scipers of students that did their semester 1 and 6 between 2007 and 2017 and the original table 'sciper_gender_table' with an **inner join** which will result in all rows in 'sciper_gender_table' that have a scipr numbers we are interested in."
   ]
  },
  {
   "cell_type": "code",
   "execution_count": 7,
   "metadata": {
    "collapsed": false
   },
   "outputs": [
    {
     "data": {
      "text/html": [
       "<div>\n",
       "<table border=\"1\" class=\"dataframe\">\n",
       "  <thead>\n",
       "    <tr style=\"text-align: right;\">\n",
       "      <th></th>\n",
       "      <th>SCIPER</th>\n",
       "    </tr>\n",
       "  </thead>\n",
       "  <tbody>\n",
       "    <tr>\n",
       "      <th>0</th>\n",
       "      <td>185934</td>\n",
       "    </tr>\n",
       "    <tr>\n",
       "      <th>1</th>\n",
       "      <td>175407</td>\n",
       "    </tr>\n",
       "    <tr>\n",
       "      <th>2</th>\n",
       "      <td>201253</td>\n",
       "    </tr>\n",
       "    <tr>\n",
       "      <th>3</th>\n",
       "      <td>245782</td>\n",
       "    </tr>\n",
       "    <tr>\n",
       "      <th>4</th>\n",
       "      <td>247328</td>\n",
       "    </tr>\n",
       "  </tbody>\n",
       "</table>\n",
       "</div>"
      ],
      "text/plain": [
       "   SCIPER\n",
       "0  185934\n",
       "1  175407\n",
       "2  201253\n",
       "3  245782\n",
       "4  247328"
      ]
     },
     "execution_count": 7,
     "metadata": {},
     "output_type": "execute_result"
    }
   ],
   "source": [
    "#List of students that did their semester 1 and 6 between 2007 and 2017 as a dataFrame\n",
    "students_with_semester_1_and_6_entry_DFrame=pd.DataFrame(list(students_with_semester_1_and_6_entry),columns=['SCIPER'])\n",
    "students_with_semester_1_and_6_entry_DFrame.head()"
   ]
  },
  {
   "cell_type": "code",
   "execution_count": 8,
   "metadata": {
    "collapsed": false
   },
   "outputs": [
    {
     "data": {
      "text/html": [
       "<div>\n",
       "<table border=\"1\" class=\"dataframe\">\n",
       "  <thead>\n",
       "    <tr style=\"text-align: right;\">\n",
       "      <th></th>\n",
       "      <th>SCIPER</th>\n",
       "      <th>GENDER</th>\n",
       "      <th>SEMESTER</th>\n",
       "    </tr>\n",
       "  </thead>\n",
       "  <tbody>\n",
       "    <tr>\n",
       "      <th>0</th>\n",
       "      <td>169569</td>\n",
       "      <td>M</td>\n",
       "      <td>1</td>\n",
       "    </tr>\n",
       "    <tr>\n",
       "      <th>1</th>\n",
       "      <td>169569</td>\n",
       "      <td>M</td>\n",
       "      <td>2</td>\n",
       "    </tr>\n",
       "    <tr>\n",
       "      <th>2</th>\n",
       "      <td>169569</td>\n",
       "      <td>M</td>\n",
       "      <td>3</td>\n",
       "    </tr>\n",
       "    <tr>\n",
       "      <th>3</th>\n",
       "      <td>169569</td>\n",
       "      <td>M</td>\n",
       "      <td>4</td>\n",
       "    </tr>\n",
       "    <tr>\n",
       "      <th>4</th>\n",
       "      <td>169569</td>\n",
       "      <td>M</td>\n",
       "      <td>5</td>\n",
       "    </tr>\n",
       "    <tr>\n",
       "      <th>5</th>\n",
       "      <td>169569</td>\n",
       "      <td>M</td>\n",
       "      <td>6</td>\n",
       "    </tr>\n",
       "    <tr>\n",
       "      <th>6</th>\n",
       "      <td>174905</td>\n",
       "      <td>M</td>\n",
       "      <td>1</td>\n",
       "    </tr>\n",
       "    <tr>\n",
       "      <th>7</th>\n",
       "      <td>174905</td>\n",
       "      <td>M</td>\n",
       "      <td>2</td>\n",
       "    </tr>\n",
       "    <tr>\n",
       "      <th>8</th>\n",
       "      <td>174905</td>\n",
       "      <td>M</td>\n",
       "      <td>3</td>\n",
       "    </tr>\n",
       "    <tr>\n",
       "      <th>9</th>\n",
       "      <td>174905</td>\n",
       "      <td>M</td>\n",
       "      <td>4</td>\n",
       "    </tr>\n",
       "  </tbody>\n",
       "</table>\n",
       "</div>"
      ],
      "text/plain": [
       "   SCIPER GENDER SEMESTER\n",
       "0  169569      M        1\n",
       "1  169569      M        2\n",
       "2  169569      M        3\n",
       "3  169569      M        4\n",
       "4  169569      M        5\n",
       "5  169569      M        6\n",
       "6  174905      M        1\n",
       "7  174905      M        2\n",
       "8  174905      M        3\n",
       "9  174905      M        4"
      ]
     },
     "execution_count": 8,
     "metadata": {},
     "output_type": "execute_result"
    }
   ],
   "source": [
    "# merge the previous dataFrame with the original table\n",
    "sciper_gender_table_semester_1_and_6=pd.merge(sciper_gender_table,students_with_semester_1_and_6_entry_DFrame,how='inner')\n",
    "sciper_gender_table_semester_1_and_6.head(10)"
   ]
  },
  {
   "cell_type": "markdown",
   "metadata": {},
   "source": [
    "**Conclusion:** The resulting table consist of multiple raws for each SCIPER. The number of raws with the same SCIPER represents the number of semesters spent by the student with this SCIPER in Bachelor. \n",
    "Hence, we are assuming that a semester during which **a student is not registred in any course doesn't count in the total number of semesters a student spend in Bachelor.** This assumption avoid us to count extra semesters where students are not registred so are not taking any course. Hence, we only count semesters in which the student is effectively regestred and taking at least ine course."
   ]
  },
  {
   "cell_type": "markdown",
   "metadata": {},
   "source": [
    "**5. In this section we will group the resulting table by student to compute the number of semesters spent in the bachelor for each students and then transform the number of semesters to the number of months**"
   ]
  },
  {
   "cell_type": "code",
   "execution_count": 9,
   "metadata": {
    "collapsed": false
   },
   "outputs": [
    {
     "data": {
      "text/html": [
       "<div>\n",
       "<table border=\"1\" class=\"dataframe\">\n",
       "  <thead>\n",
       "    <tr style=\"text-align: right;\">\n",
       "      <th></th>\n",
       "      <th></th>\n",
       "      <th>NUMBER OF SEMESTERS OF BACHELOR</th>\n",
       "    </tr>\n",
       "    <tr>\n",
       "      <th>SCIPER</th>\n",
       "      <th>GENDER</th>\n",
       "      <th></th>\n",
       "    </tr>\n",
       "  </thead>\n",
       "  <tbody>\n",
       "    <tr>\n",
       "      <th>147008</th>\n",
       "      <th>M</th>\n",
       "      <td>6</td>\n",
       "    </tr>\n",
       "    <tr>\n",
       "      <th>169569</th>\n",
       "      <th>M</th>\n",
       "      <td>6</td>\n",
       "    </tr>\n",
       "    <tr>\n",
       "      <th>169731</th>\n",
       "      <th>M</th>\n",
       "      <td>8</td>\n",
       "    </tr>\n",
       "    <tr>\n",
       "      <th>169795</th>\n",
       "      <th>M</th>\n",
       "      <td>9</td>\n",
       "    </tr>\n",
       "    <tr>\n",
       "      <th>171195</th>\n",
       "      <th>M</th>\n",
       "      <td>6</td>\n",
       "    </tr>\n",
       "  </tbody>\n",
       "</table>\n",
       "</div>"
      ],
      "text/plain": [
       "               NUMBER OF SEMESTERS OF BACHELOR\n",
       "SCIPER GENDER                                 \n",
       "147008 M                                     6\n",
       "169569 M                                     6\n",
       "169731 M                                     8\n",
       "169795 M                                     9\n",
       "171195 M                                     6"
      ]
     },
     "execution_count": 9,
     "metadata": {},
     "output_type": "execute_result"
    }
   ],
   "source": [
    "# Group by SCIPER and GENDER to get the table of all different students\n",
    "# The count method will count the number of raws corresponding to each SCIPER in the SMESTER column\n",
    "# Which corresponds as we said earlier to the number of semester spent by the student doing his bachelor\n",
    "total_number_of_semesters_of_bachelor=sciper_gender_table_semester_1_and_6.groupby(by=['SCIPER','GENDER']).count()\n",
    "\n",
    "# Change the name of SEMESTER column to 'Number of semesters of bachelor'\n",
    "total_number_of_semesters_of_bachelor.columns=['NUMBER OF SEMESTERS OF BACHELOR']\n",
    "\n",
    "total_number_of_semesters_of_bachelor.head()"
   ]
  },
  {
   "cell_type": "code",
   "execution_count": 10,
   "metadata": {
    "collapsed": false
   },
   "outputs": [
    {
     "data": {
      "text/html": [
       "<div>\n",
       "<table border=\"1\" class=\"dataframe\">\n",
       "  <thead>\n",
       "    <tr style=\"text-align: right;\">\n",
       "      <th></th>\n",
       "      <th></th>\n",
       "      <th>NUMBER OF MONTHS OF BACHELOR</th>\n",
       "    </tr>\n",
       "    <tr>\n",
       "      <th>SCIPER</th>\n",
       "      <th>GENDER</th>\n",
       "      <th></th>\n",
       "    </tr>\n",
       "  </thead>\n",
       "  <tbody>\n",
       "    <tr>\n",
       "      <th>204222</th>\n",
       "      <th>M</th>\n",
       "      <td>24</td>\n",
       "    </tr>\n",
       "    <tr>\n",
       "      <th>147008</th>\n",
       "      <th>M</th>\n",
       "      <td>36</td>\n",
       "    </tr>\n",
       "    <tr>\n",
       "      <th>217629</th>\n",
       "      <th>M</th>\n",
       "      <td>36</td>\n",
       "    </tr>\n",
       "    <tr>\n",
       "      <th>217612</th>\n",
       "      <th>M</th>\n",
       "      <td>36</td>\n",
       "    </tr>\n",
       "    <tr>\n",
       "      <th>217530</th>\n",
       "      <th>M</th>\n",
       "      <td>36</td>\n",
       "    </tr>\n",
       "  </tbody>\n",
       "</table>\n",
       "</div>"
      ],
      "text/plain": [
       "               NUMBER OF MONTHS OF BACHELOR\n",
       "SCIPER GENDER                              \n",
       "204222 M                                 24\n",
       "147008 M                                 36\n",
       "217629 M                                 36\n",
       "217612 M                                 36\n",
       "217530 M                                 36"
      ]
     },
     "execution_count": 10,
     "metadata": {},
     "output_type": "execute_result"
    }
   ],
   "source": [
    "# Create the table that shows the number of months of bachelor per student as a copy from the table of semesters\n",
    "total_number_of_months_of_bachelor=total_number_of_semesters_of_bachelor.copy()\n",
    "\n",
    "# Add a new column that represents the number of months and fill it by multiplyng the correspondent number of\n",
    "#semesters by 6 (1 semester= 6 months)\n",
    "total_number_of_months_of_bachelor['NUMBER OF MONTHS OF BACHELOR']= 6* total_number_of_months_of_bachelor['NUMBER OF SEMESTERS OF BACHELOR']\n",
    "\n",
    "# Remove the column corresponding to the number of semesters and sort according to the number of months\n",
    "total_number_of_months_of_bachelor=total_number_of_months_of_bachelor[['NUMBER OF MONTHS OF BACHELOR']].sort_values('NUMBER OF MONTHS OF BACHELOR')\n",
    "\n",
    "total_number_of_months_of_bachelor.head()\n"
   ]
  },
  {
   "cell_type": "markdown",
   "metadata": {},
   "source": [
    "**Problem**: We can see from the table that the first entry corresponds to a student that finished his bachelor in 24 months while the minimum is 36. The data corresponding to this student is missing for semester 3 and 4 are missing as shown above:"
   ]
  },
  {
   "cell_type": "code",
   "execution_count": 11,
   "metadata": {
    "collapsed": false
   },
   "outputs": [
    {
     "data": {
      "text/html": [
       "<div>\n",
       "<table border=\"1\" class=\"dataframe\">\n",
       "  <thead>\n",
       "    <tr style=\"text-align: right;\">\n",
       "      <th></th>\n",
       "      <th>SCIPER</th>\n",
       "      <th>GENDER</th>\n",
       "      <th>SEMESTER</th>\n",
       "    </tr>\n",
       "  </thead>\n",
       "  <tbody>\n",
       "    <tr>\n",
       "      <th>1830</th>\n",
       "      <td>204222</td>\n",
       "      <td>M</td>\n",
       "      <td>1</td>\n",
       "    </tr>\n",
       "    <tr>\n",
       "      <th>1955</th>\n",
       "      <td>204222</td>\n",
       "      <td>M</td>\n",
       "      <td>2</td>\n",
       "    </tr>\n",
       "    <tr>\n",
       "      <th>4389</th>\n",
       "      <td>204222</td>\n",
       "      <td>M</td>\n",
       "      <td>5</td>\n",
       "    </tr>\n",
       "    <tr>\n",
       "      <th>4508</th>\n",
       "      <td>204222</td>\n",
       "      <td>M</td>\n",
       "      <td>6</td>\n",
       "    </tr>\n",
       "  </tbody>\n",
       "</table>\n",
       "</div>"
      ],
      "text/plain": [
       "      SCIPER GENDER SEMESTER\n",
       "1830  204222      M        1\n",
       "1955  204222      M        2\n",
       "4389  204222      M        5\n",
       "4508  204222      M        6"
      ]
     },
     "execution_count": 11,
     "metadata": {},
     "output_type": "execute_result"
    }
   ],
   "source": [
    "# Show all rows with sciper='204222'\n",
    "sciper_gender_table[sciper_gender_table['SCIPER']=='204222']"
   ]
  },
  {
   "cell_type": "markdown",
   "metadata": {},
   "source": [
    "Hence, removing this row will make our data more robust:"
   ]
  },
  {
   "cell_type": "code",
   "execution_count": 12,
   "metadata": {
    "collapsed": false
   },
   "outputs": [
    {
     "data": {
      "text/html": [
       "<div>\n",
       "<table border=\"1\" class=\"dataframe\">\n",
       "  <thead>\n",
       "    <tr style=\"text-align: right;\">\n",
       "      <th></th>\n",
       "      <th></th>\n",
       "      <th>NUMBER OF MONTHS OF BACHELOR</th>\n",
       "    </tr>\n",
       "    <tr>\n",
       "      <th>SCIPER</th>\n",
       "      <th>GENDER</th>\n",
       "      <th></th>\n",
       "    </tr>\n",
       "  </thead>\n",
       "  <tbody>\n",
       "    <tr>\n",
       "      <th>147008</th>\n",
       "      <th>M</th>\n",
       "      <td>36</td>\n",
       "    </tr>\n",
       "    <tr>\n",
       "      <th>217629</th>\n",
       "      <th>M</th>\n",
       "      <td>36</td>\n",
       "    </tr>\n",
       "    <tr>\n",
       "      <th>217612</th>\n",
       "      <th>M</th>\n",
       "      <td>36</td>\n",
       "    </tr>\n",
       "    <tr>\n",
       "      <th>217530</th>\n",
       "      <th>M</th>\n",
       "      <td>36</td>\n",
       "    </tr>\n",
       "    <tr>\n",
       "      <th>217469</th>\n",
       "      <th>M</th>\n",
       "      <td>36</td>\n",
       "    </tr>\n",
       "  </tbody>\n",
       "</table>\n",
       "</div>"
      ],
      "text/plain": [
       "               NUMBER OF MONTHS OF BACHELOR\n",
       "SCIPER GENDER                              \n",
       "147008 M                                 36\n",
       "217629 M                                 36\n",
       "217612 M                                 36\n",
       "217530 M                                 36\n",
       "217469 M                                 36"
      ]
     },
     "execution_count": 12,
     "metadata": {},
     "output_type": "execute_result"
    }
   ],
   "source": [
    "total_number_of_months_of_bachelor=total_number_of_months_of_bachelor[1:]\n",
    "total_number_of_months_of_bachelor.head()"
   ]
  },
  {
   "cell_type": "markdown",
   "metadata": {},
   "source": [
    "Now we can group our table according to the gender we can compute for example the mean number of months spent in the bachelor for each gender:"
   ]
  },
  {
   "cell_type": "code",
   "execution_count": 13,
   "metadata": {
    "collapsed": false
   },
   "outputs": [
    {
     "data": {
      "text/html": [
       "<div>\n",
       "<table border=\"1\" class=\"dataframe\">\n",
       "  <thead>\n",
       "    <tr style=\"text-align: right;\">\n",
       "      <th></th>\n",
       "      <th>MEAN NUMBER OF MONTHS SPENT IN BACHELOR</th>\n",
       "    </tr>\n",
       "    <tr>\n",
       "      <th>GENDER</th>\n",
       "      <th></th>\n",
       "    </tr>\n",
       "  </thead>\n",
       "  <tbody>\n",
       "    <tr>\n",
       "      <th>F</th>\n",
       "      <td>40.758621</td>\n",
       "    </tr>\n",
       "    <tr>\n",
       "      <th>M</th>\n",
       "      <td>42.686649</td>\n",
       "    </tr>\n",
       "  </tbody>\n",
       "</table>\n",
       "</div>"
      ],
      "text/plain": [
       "        MEAN NUMBER OF MONTHS SPENT IN BACHELOR\n",
       "GENDER                                         \n",
       "F                                     40.758621\n",
       "M                                     42.686649"
      ]
     },
     "execution_count": 13,
     "metadata": {},
     "output_type": "execute_result"
    }
   ],
   "source": [
    "# Reindex the table of total number of months because the gender column was an index and then group by GENDER\n",
    "# and compute the mean for each gender and take the 'Number of months of bachelor' column\n",
    "mean_number_of_months_of_bachelor_by_gender=total_number_of_months_of_bachelor.reset_index().groupby(by=['GENDER']).mean()[['NUMBER OF MONTHS OF BACHELOR']]\n",
    "## Rename the column of the mean number of months spent in the Bachelor\n",
    "mean_number_of_months_of_bachelor_by_gender.columns=['MEAN NUMBER OF MONTHS SPENT IN BACHELOR']\n",
    "mean_number_of_months_of_bachelor_by_gender"
   ]
  },
  {
   "cell_type": "markdown",
   "metadata": {},
   "source": [
    "**6. In this section we will apply a test to the data to know whether the difference of the period spent to finish the Bachelor between man and women is statistically significant:**"
   ]
  },
  {
   "cell_type": "markdown",
   "metadata": {},
   "source": [
    "We decided to use a two-tailed Welch's t-test for the following reasons:\n",
    "    - A Welch's t-test’s statistical significance indicates whether or not the difference between two groups’ averages most likely reflects a “real” difference in the population from which the groups were sampled. Hence satisfies the aim of the question.\n",
    "    - Our two samples don't have the same size and is Welch's t-test is more reliable when the two samples have unequal variances and unequal sample sizes than the Student's t-test.\n",
    "    - We need to use two tailed test because we are interested in knowing whether the difference of averege number of months spent in Bachelor for each gender is statistically significant in both directions: males spend more months in the bachelor than females or the opposite."
   ]
  },
  {
   "cell_type": "code",
   "execution_count": 14,
   "metadata": {
    "collapsed": false
   },
   "outputs": [
    {
     "data": {
      "text/html": [
       "<div>\n",
       "<table border=\"1\" class=\"dataframe\">\n",
       "  <thead>\n",
       "    <tr style=\"text-align: right;\">\n",
       "      <th></th>\n",
       "      <th>NUMBER OF MONTHS OF BACHELOR</th>\n",
       "    </tr>\n",
       "    <tr>\n",
       "      <th>GENDER</th>\n",
       "      <th></th>\n",
       "    </tr>\n",
       "  </thead>\n",
       "  <tbody>\n",
       "    <tr>\n",
       "      <th>F</th>\n",
       "      <td>36</td>\n",
       "    </tr>\n",
       "    <tr>\n",
       "      <th>F</th>\n",
       "      <td>36</td>\n",
       "    </tr>\n",
       "    <tr>\n",
       "      <th>F</th>\n",
       "      <td>36</td>\n",
       "    </tr>\n",
       "    <tr>\n",
       "      <th>F</th>\n",
       "      <td>36</td>\n",
       "    </tr>\n",
       "    <tr>\n",
       "      <th>F</th>\n",
       "      <td>36</td>\n",
       "    </tr>\n",
       "  </tbody>\n",
       "</table>\n",
       "</div>"
      ],
      "text/plain": [
       "        NUMBER OF MONTHS OF BACHELOR\n",
       "GENDER                              \n",
       "F                                 36\n",
       "F                                 36\n",
       "F                                 36\n",
       "F                                 36\n",
       "F                                 36"
      ]
     },
     "execution_count": 14,
     "metadata": {},
     "output_type": "execute_result"
    }
   ],
   "source": [
    "# From the total number of months in Bachelor table, we compute the male and female samples\n",
    "male_sample=total_number_of_months_of_bachelor.reset_index().set_index(['GENDER']).loc['M'][['NUMBER OF MONTHS OF BACHELOR']]\n",
    "female_sample=total_number_of_months_of_bachelor.reset_index().set_index(['GENDER']).loc['F'][['NUMBER OF MONTHS OF BACHELOR']]\n",
    "\n",
    "female_sample.head()"
   ]
  },
  {
   "cell_type": "code",
   "execution_count": 20,
   "metadata": {
    "collapsed": false
   },
   "outputs": [
    {
     "data": {
      "text/plain": [
       "Ttest_indResult(statistic=array([ 1.22426904]), pvalue=array([ 0.22927095]))"
      ]
     },
     "execution_count": 20,
     "metadata": {},
     "output_type": "execute_result"
    }
   ],
   "source": [
    "# We run the Welch's t-test \n",
    "stats.ttest_ind(male_sample,female_sample,equal_var=False)"
   ]
  },
  {
   "cell_type": "markdown",
   "metadata": {},
   "source": [
    "**Conclusion:** The null hypothesis is that the averege number of months spent in the Bachelor for male and female is the same. The found pvalue=0.22 is larger than 0.05. Hence, we cannot reject the null hypothesis. In other words, the difference in average is not statistically significant "
   ]
  },
  {
   "cell_type": "code",
   "execution_count": 69,
   "metadata": {
    "collapsed": false
   },
   "outputs": [
    {
     "name": "stderr",
     "output_type": "stream",
     "text": [
      "/Users/Yassine/anaconda/lib/python3.5/site-packages/bs4/__init__.py:181: UserWarning: No parser was explicitly specified, so I'm using the best available HTML parser for this system (\"lxml\"). This usually isn't a problem, but if you run this code on another system, or in a different virtual environment, it may use a different parser and behave differently.\n",
      "\n",
      "The code that caused this warning is on line 184 of the file /Users/Yassine/anaconda/lib/python3.5/runpy.py. To get rid of this warning, change code that looks like this:\n",
      "\n",
      " BeautifulSoup([your markup])\n",
      "\n",
      "to this:\n",
      "\n",
      " BeautifulSoup([your markup], \"lxml\")\n",
      "\n",
      "  markup_type=markup_type))\n"
     ]
    },
    {
     "data": {
      "text/html": [
       "<div>\n",
       "<table border=\"1\" class=\"dataframe\">\n",
       "  <thead>\n",
       "    <tr style=\"text-align: right;\">\n",
       "      <th></th>\n",
       "      <th>SCIPER</th>\n",
       "      <th>GENDER</th>\n",
       "      <th>SPECIALIZATION</th>\n",
       "      <th>MINOR</th>\n",
       "      <th>SEMESTER</th>\n",
       "      <th>YEAR</th>\n",
       "    </tr>\n",
       "  </thead>\n",
       "  <tbody>\n",
       "    <tr>\n",
       "      <th>0</th>\n",
       "      <td>153066</td>\n",
       "      <td>M</td>\n",
       "      <td></td>\n",
       "      <td></td>\n",
       "      <td>1</td>\n",
       "      <td>2007</td>\n",
       "    </tr>\n",
       "    <tr>\n",
       "      <th>1</th>\n",
       "      <td>180027</td>\n",
       "      <td>F</td>\n",
       "      <td></td>\n",
       "      <td></td>\n",
       "      <td>1</td>\n",
       "      <td>2007</td>\n",
       "    </tr>\n",
       "    <tr>\n",
       "      <th>2</th>\n",
       "      <td>152232</td>\n",
       "      <td>M</td>\n",
       "      <td></td>\n",
       "      <td></td>\n",
       "      <td>1</td>\n",
       "      <td>2007</td>\n",
       "    </tr>\n",
       "    <tr>\n",
       "      <th>3</th>\n",
       "      <td>177395</td>\n",
       "      <td>M</td>\n",
       "      <td></td>\n",
       "      <td></td>\n",
       "      <td>1</td>\n",
       "      <td>2007</td>\n",
       "    </tr>\n",
       "    <tr>\n",
       "      <th>4</th>\n",
       "      <td>161970</td>\n",
       "      <td>M</td>\n",
       "      <td></td>\n",
       "      <td></td>\n",
       "      <td>1</td>\n",
       "      <td>2007</td>\n",
       "    </tr>\n",
       "  </tbody>\n",
       "</table>\n",
       "</div>"
      ],
      "text/plain": [
       "   SCIPER GENDER SPECIALIZATION MINOR SEMESTER  YEAR\n",
       "0  153066      M                             1  2007\n",
       "1  180027      F                             1  2007\n",
       "2  152232      M                             1  2007\n",
       "3  177395      M                             1  2007\n",
       "4  161970      M                             1  2007"
      ]
     },
     "execution_count": 69,
     "metadata": {},
     "output_type": "execute_result"
    }
   ],
   "source": [
    "# Specify the section, level and years for exercise 2\n",
    "section=\"Informatique\"\n",
    "degree='M'\n",
    "startingYear=2007\n",
    "endingYear=2016\n",
    "sciper_gender_table = getListOfStudents(section,degree,startingYear,endingYear)\n",
    "sciper_gender_table.head()"
   ]
  },
  {
   "cell_type": "code",
   "execution_count": 70,
   "metadata": {
    "collapsed": false
   },
   "outputs": [],
   "source": [
    "#Compute the set of all scipers\n",
    "all_students_distinct= set(sciper_gender_table.SCIPER)\n",
    "\n",
    "students_with_speciality=set(sciper_gender_table.loc[sciper_gender_table['SPECIALIZATION']!='','SCIPER'])\n",
    "students_with_minor=set(sciper_gender_table.loc[sciper_gender_table['MINOR']!='','SCIPER'])\n",
    "students_with_minor_or_speciality=students_with_minor.union(students_with_speciality)\n",
    "students_without_minor_nor_speciality=all_students_distinct.copy()\n",
    "students_without_minor_nor_speciality.difference_update(students_with_minor_or_speciality)\n",
    "\n",
    "#Compute the set of all scipers corresponding to students that did their semester 1 between 2007 and 2017\n",
    "students_with_semester_1_entry=set(sciper_gender_table.loc[sciper_gender_table['SEMESTER']=='1','SCIPER'])\n",
    "\n",
    "#Compute the set of all scipers corresponding to students that did their semester 2 between 2007 and 2017\n",
    "students_with_semester_2_entry=set(sciper_gender_table.loc[sciper_gender_table['SEMESTER']=='2','SCIPER'])\n",
    "\n",
    "#Compute the set of all scipers corresponding to students that did their semester 2 between 2007 and 2017\n",
    "students_with_semester_3_entry=set(sciper_gender_table.loc[sciper_gender_table['SEMESTER']=='3','SCIPER'])\n",
    "\n",
    "final_list_without_minor_nor_speciality=students_with_semester_1_entry.intersection(students_with_semester_2_entry).intersection(students_without_minor_nor_speciality)\n",
    "final_list_with_minor_or_speciality=students_with_semester_1_entry.intersection(students_with_semester_3_entry).intersection(students_with_minor_or_speciality)\n",
    "\n",
    "#Compute the set of all scipers corresponding to students that did their semester 1 and 6 between 2007 and 2017\n",
    "#THIS IS THE SET WE ARE INTERESTED IN FOR THE TEST\n",
    "final_list_students = final_list_without_minor_nor_speciality.union(final_list_with_minor_or_speciality)"
   ]
  },
  {
   "cell_type": "code",
   "execution_count": 71,
   "metadata": {
    "collapsed": false
   },
   "outputs": [
    {
     "data": {
      "text/html": [
       "<div>\n",
       "<table border=\"1\" class=\"dataframe\">\n",
       "  <thead>\n",
       "    <tr style=\"text-align: right;\">\n",
       "      <th></th>\n",
       "      <th>SCIPER</th>\n",
       "    </tr>\n",
       "  </thead>\n",
       "  <tbody>\n",
       "    <tr>\n",
       "      <th>0</th>\n",
       "      <td>214101</td>\n",
       "    </tr>\n",
       "    <tr>\n",
       "      <th>1</th>\n",
       "      <td>201232</td>\n",
       "    </tr>\n",
       "    <tr>\n",
       "      <th>2</th>\n",
       "      <td>180968</td>\n",
       "    </tr>\n",
       "    <tr>\n",
       "      <th>3</th>\n",
       "      <td>187169</td>\n",
       "    </tr>\n",
       "    <tr>\n",
       "      <th>4</th>\n",
       "      <td>227660</td>\n",
       "    </tr>\n",
       "  </tbody>\n",
       "</table>\n",
       "</div>"
      ],
      "text/plain": [
       "   SCIPER\n",
       "0  214101\n",
       "1  201232\n",
       "2  180968\n",
       "3  187169\n",
       "4  227660"
      ]
     },
     "execution_count": 71,
     "metadata": {},
     "output_type": "execute_result"
    }
   ],
   "source": [
    "#List of students that did their semester 1 and 6 between 2007 and 2017 as a dataFrame\n",
    "final_list_students_DFrame=pd.DataFrame(list(final_list_students),columns=['SCIPER'])\n",
    "final_list_students_DFrame.head()"
   ]
  },
  {
   "cell_type": "code",
   "execution_count": 72,
   "metadata": {
    "collapsed": false
   },
   "outputs": [],
   "source": [
    "# merge the previous dataFrame with the original table\n",
    "# For specialization, we took the last entry. For example, if we have an entry for specialization in Semester 2\n",
    "# and a null entry in Semester 3, we consider that the student dropped the specialization\n",
    "sciper_gender_table_semester_final=pd.merge(sciper_gender_table,final_list_students_DFrame,how='inner')\n",
    "for sciper in final_list_students:\n",
    "    entries = sciper_gender_table_semester_final.loc[sciper_gender_table_semester_final['SCIPER']==sciper]\n",
    "    n = len(entries)\n",
    "    spe=entries.iloc[n-1].loc['SPECIALIZATION']\n",
    "    minor=entries.iloc[n-1].loc['MINOR']\n",
    "    sciper_gender_table_semester_final.loc[sciper_gender_table_semester_final['SCIPER']==sciper,'SPECIALIZATION']=spe\n",
    "    sciper_gender_table_semester_final.loc[sciper_gender_table_semester_final['SCIPER']==sciper,'MINOR']=minor"
   ]
  },
  {
   "cell_type": "code",
   "execution_count": 140,
   "metadata": {
    "collapsed": false
   },
   "outputs": [
    {
     "data": {
      "text/html": [
       "<div>\n",
       "<table border=\"1\" class=\"dataframe\">\n",
       "  <thead>\n",
       "    <tr style=\"text-align: right;\">\n",
       "      <th></th>\n",
       "      <th></th>\n",
       "      <th></th>\n",
       "      <th></th>\n",
       "      <th>NUMBER OF SEMESTERS OF MASTER</th>\n",
       "      <th>FINISHING YEAR</th>\n",
       "    </tr>\n",
       "    <tr>\n",
       "      <th>SCIPER</th>\n",
       "      <th>GENDER</th>\n",
       "      <th>SPECIALIZATION</th>\n",
       "      <th>MINOR</th>\n",
       "      <th></th>\n",
       "      <th></th>\n",
       "    </tr>\n",
       "  </thead>\n",
       "  <tbody>\n",
       "    <tr>\n",
       "      <th>146330</th>\n",
       "      <th>M</th>\n",
       "      <th></th>\n",
       "      <th></th>\n",
       "      <td>3</td>\n",
       "      <td>2008</td>\n",
       "    </tr>\n",
       "    <tr>\n",
       "      <th>146742</th>\n",
       "      <th>M</th>\n",
       "      <th>Signals, Images and Interfaces</th>\n",
       "      <th></th>\n",
       "      <td>5</td>\n",
       "      <td>2012</td>\n",
       "    </tr>\n",
       "    <tr>\n",
       "      <th>146929</th>\n",
       "      <th>M</th>\n",
       "      <th></th>\n",
       "      <th></th>\n",
       "      <td>2</td>\n",
       "      <td>2007</td>\n",
       "    </tr>\n",
       "    <tr>\n",
       "      <th>147008</th>\n",
       "      <th>M</th>\n",
       "      <th></th>\n",
       "      <th></th>\n",
       "      <td>4</td>\n",
       "      <td>2012</td>\n",
       "    </tr>\n",
       "    <tr>\n",
       "      <th>152232</th>\n",
       "      <th>M</th>\n",
       "      <th></th>\n",
       "      <th>Mineur en Management, technologie et entrepreneuriat</th>\n",
       "      <td>3</td>\n",
       "      <td>2008</td>\n",
       "    </tr>\n",
       "  </tbody>\n",
       "</table>\n",
       "</div>"
      ],
      "text/plain": [
       "                                                                                                 NUMBER OF SEMESTERS OF MASTER  \\\n",
       "SCIPER GENDER SPECIALIZATION                 MINOR                                                                               \n",
       "146330 M                                                                                                                     3   \n",
       "146742 M      Signals, Images and Interfaces                                                                                 5   \n",
       "146929 M                                                                                                                     2   \n",
       "147008 M                                                                                                                     4   \n",
       "152232 M                                     Mineur en Management, technologie et entreprene...                              3   \n",
       "\n",
       "                                                                                                FINISHING YEAR  \n",
       "SCIPER GENDER SPECIALIZATION                 MINOR                                                              \n",
       "146330 M                                                                                                  2008  \n",
       "146742 M      Signals, Images and Interfaces                                                              2012  \n",
       "146929 M                                                                                                  2007  \n",
       "147008 M                                                                                                  2012  \n",
       "152232 M                                     Mineur en Management, technologie et entreprene...           2008  "
      ]
     },
     "execution_count": 140,
     "metadata": {},
     "output_type": "execute_result"
    }
   ],
   "source": [
    "# Group by SCIPER and GENDER to get the table of all different students\n",
    "# The count method will count the number of raws corresponding to each SCIPER in the SMESTER column\n",
    "# Which corresponds as we said earlier to the number of semester spent by the student doing his bachelor\n",
    "grouped=sciper_gender_table_semester_final.groupby(by=['SCIPER','GENDER','SPECIALIZATION','MINOR'])\n",
    "f = {'SEMESTER':'count', 'YEAR':'max'}\n",
    "total_number_of_semesters_of_master=grouped.agg(f)\n",
    "#total_number_of_semesters_of_master_with_count.columns['NUMBER OF SEMESTERS OF MASTER']\n",
    "#total_number_of_semesters_of_master_with_year=grouped\n",
    "total_number_of_semesters_of_master.columns=['NUMBER OF SEMESTERS OF MASTER','FINISHING YEAR']\n",
    "#total_number_of_semesters_of_master_with_year\n",
    "#total_number_of_semesters_of_master=pd.merge(total_number_of_semesters_of_master_with_count,total_number_of_semesters_of_master_with_year,how='inner')\n",
    "\n",
    "total_number_of_semesters_of_master.head()"
   ]
  },
  {
   "cell_type": "code",
   "execution_count": 144,
   "metadata": {
    "collapsed": false
   },
   "outputs": [
    {
     "data": {
      "text/html": [
       "<div>\n",
       "<table border=\"1\" class=\"dataframe\">\n",
       "  <thead>\n",
       "    <tr style=\"text-align: right;\">\n",
       "      <th></th>\n",
       "      <th></th>\n",
       "      <th></th>\n",
       "      <th></th>\n",
       "      <th>NUMBER OF MONTHS OF MASTER</th>\n",
       "      <th>FINISHING YEAR</th>\n",
       "    </tr>\n",
       "    <tr>\n",
       "      <th>SCIPER</th>\n",
       "      <th>GENDER</th>\n",
       "      <th>SPECIALIZATION</th>\n",
       "      <th>MINOR</th>\n",
       "      <th></th>\n",
       "      <th></th>\n",
       "    </tr>\n",
       "  </thead>\n",
       "  <tbody>\n",
       "    <tr>\n",
       "      <th>211251</th>\n",
       "      <th>M</th>\n",
       "      <th></th>\n",
       "      <th></th>\n",
       "      <td>12</td>\n",
       "      <td>2011</td>\n",
       "    </tr>\n",
       "    <tr>\n",
       "      <th>191447</th>\n",
       "      <th>M</th>\n",
       "      <th></th>\n",
       "      <th></th>\n",
       "      <td>12</td>\n",
       "      <td>2011</td>\n",
       "    </tr>\n",
       "    <tr>\n",
       "      <th>175503</th>\n",
       "      <th>M</th>\n",
       "      <th></th>\n",
       "      <th></th>\n",
       "      <td>12</td>\n",
       "      <td>2009</td>\n",
       "    </tr>\n",
       "    <tr>\n",
       "      <th>233210</th>\n",
       "      <th>M</th>\n",
       "      <th></th>\n",
       "      <th></th>\n",
       "      <td>12</td>\n",
       "      <td>2013</td>\n",
       "    </tr>\n",
       "    <tr>\n",
       "      <th>191313</th>\n",
       "      <th>M</th>\n",
       "      <th></th>\n",
       "      <th></th>\n",
       "      <td>12</td>\n",
       "      <td>2009</td>\n",
       "    </tr>\n",
       "  </tbody>\n",
       "</table>\n",
       "</div>"
      ],
      "text/plain": [
       "                                    NUMBER OF MONTHS OF MASTER FINISHING YEAR\n",
       "SCIPER GENDER SPECIALIZATION MINOR                                           \n",
       "211251 M                                                    12           2011\n",
       "191447 M                                                    12           2011\n",
       "175503 M                                                    12           2009\n",
       "233210 M                                                    12           2013\n",
       "191313 M                                                    12           2009"
      ]
     },
     "execution_count": 144,
     "metadata": {},
     "output_type": "execute_result"
    }
   ],
   "source": [
    "# Create the table that shows the number of months of bachelor per student as a copy from the table of semesters\n",
    "total_number_of_months_of_master=total_number_of_semesters_of_master.copy()\n",
    "\n",
    "# Add a new column that represents the number of months and fill it by multiplyng the correspondent number of\n",
    "#semesters by 6 (1 semester= 6 months)\n",
    "total_number_of_months_of_master['NUMBER OF MONTHS OF MASTER']= 6* total_number_of_months_of_master['NUMBER OF SEMESTERS OF MASTER']\n",
    "\n",
    "# Remove the column corresponding to the number of semesters and sort according to the number of months\n",
    "total_number_of_months_of_master=total_number_of_months_of_master[['NUMBER OF MONTHS OF MASTER','FINISHING YEAR']].sort_values('NUMBER OF MONTHS OF MASTER')\n",
    "\n",
    "total_number_of_months_of_master.head()\n"
   ]
  },
  {
   "cell_type": "code",
   "execution_count": 145,
   "metadata": {
    "collapsed": false
   },
   "outputs": [
    {
     "data": {
      "text/plain": [
       "NUMBER OF MONTHS OF MASTER    19.467914\n",
       "FINISHING YEAR                      inf\n",
       "dtype: float64"
      ]
     },
     "execution_count": 145,
     "metadata": {},
     "output_type": "execute_result"
    }
   ],
   "source": [
    "average_stay=total_number_of_months_of_master.mean()\n",
    "average_stay"
   ]
  },
  {
   "cell_type": "code",
   "execution_count": 146,
   "metadata": {
    "collapsed": false
   },
   "outputs": [
    {
     "data": {
      "text/html": [
       "<div>\n",
       "<table border=\"1\" class=\"dataframe\">\n",
       "  <thead>\n",
       "    <tr style=\"text-align: right;\">\n",
       "      <th></th>\n",
       "      <th></th>\n",
       "      <th>MEAN NUMBER OF MONTHS SPENT IN MASTER</th>\n",
       "    </tr>\n",
       "    <tr>\n",
       "      <th>SPECIALIZATION</th>\n",
       "      <th>MINOR</th>\n",
       "      <th></th>\n",
       "    </tr>\n",
       "  </thead>\n",
       "  <tbody>\n",
       "    <tr>\n",
       "      <th rowspan=\"12\" valign=\"top\"></th>\n",
       "      <th></th>\n",
       "      <td>17.533477</td>\n",
       "    </tr>\n",
       "    <tr>\n",
       "      <th>Area and Cultural Studies minor</th>\n",
       "      <td>20.000000</td>\n",
       "    </tr>\n",
       "    <tr>\n",
       "      <th>Information security minor</th>\n",
       "      <td>21.500000</td>\n",
       "    </tr>\n",
       "    <tr>\n",
       "      <th>Mineur en Biocomputing</th>\n",
       "      <td>22.285714</td>\n",
       "    </tr>\n",
       "    <tr>\n",
       "      <th>Mineur en Etudes asiatiques contemporaines</th>\n",
       "      <td>30.000000</td>\n",
       "    </tr>\n",
       "    <tr>\n",
       "      <th>Mineur en Ingénierie financière</th>\n",
       "      <td>22.285714</td>\n",
       "    </tr>\n",
       "    <tr>\n",
       "      <th>Mineur en Management, technologie et entrepreneuriat</th>\n",
       "      <td>23.062500</td>\n",
       "    </tr>\n",
       "    <tr>\n",
       "      <th>Mineur en Mathématiques</th>\n",
       "      <td>27.000000</td>\n",
       "    </tr>\n",
       "    <tr>\n",
       "      <th>Mineur en Microtechnique</th>\n",
       "      <td>18.000000</td>\n",
       "    </tr>\n",
       "    <tr>\n",
       "      <th>Mineur en Neuroprosthétiques</th>\n",
       "      <td>18.000000</td>\n",
       "    </tr>\n",
       "    <tr>\n",
       "      <th>Mineur en Neurosciences computationnelles</th>\n",
       "      <td>24.000000</td>\n",
       "    </tr>\n",
       "    <tr>\n",
       "      <th>Mineur en Technologies spatiales</th>\n",
       "      <td>27.000000</td>\n",
       "    </tr>\n",
       "    <tr>\n",
       "      <th>Biocomputing</th>\n",
       "      <th></th>\n",
       "      <td>26.000000</td>\n",
       "    </tr>\n",
       "    <tr>\n",
       "      <th>Computer Engineering - SP</th>\n",
       "      <th></th>\n",
       "      <td>21.666667</td>\n",
       "    </tr>\n",
       "    <tr>\n",
       "      <th>Computer Science Theory</th>\n",
       "      <th></th>\n",
       "      <td>18.000000</td>\n",
       "    </tr>\n",
       "    <tr>\n",
       "      <th>Data Analytics</th>\n",
       "      <th></th>\n",
       "      <td>18.000000</td>\n",
       "    </tr>\n",
       "    <tr>\n",
       "      <th>Foundations of Software</th>\n",
       "      <th></th>\n",
       "      <td>23.379310</td>\n",
       "    </tr>\n",
       "    <tr>\n",
       "      <th>Information Security - SP</th>\n",
       "      <th></th>\n",
       "      <td>19.000000</td>\n",
       "    </tr>\n",
       "    <tr>\n",
       "      <th>Internet Information Systems</th>\n",
       "      <th></th>\n",
       "      <td>18.000000</td>\n",
       "    </tr>\n",
       "    <tr>\n",
       "      <th>Internet computing</th>\n",
       "      <th></th>\n",
       "      <td>22.390244</td>\n",
       "    </tr>\n",
       "    <tr>\n",
       "      <th>Service science</th>\n",
       "      <th></th>\n",
       "      <td>20.000000</td>\n",
       "    </tr>\n",
       "    <tr>\n",
       "      <th>Signals, Images and Interfaces</th>\n",
       "      <th></th>\n",
       "      <td>25.500000</td>\n",
       "    </tr>\n",
       "    <tr>\n",
       "      <th>Software Systems</th>\n",
       "      <th></th>\n",
       "      <td>20.000000</td>\n",
       "    </tr>\n",
       "  </tbody>\n",
       "</table>\n",
       "</div>"
      ],
      "text/plain": [
       "                                                                                   MEAN NUMBER OF MONTHS SPENT IN MASTER\n",
       "SPECIALIZATION                 MINOR                                                                                    \n",
       "                                                                                                               17.533477\n",
       "                               Area and Cultural Studies minor                                                 20.000000\n",
       "                               Information security minor                                                      21.500000\n",
       "                               Mineur en Biocomputing                                                          22.285714\n",
       "                               Mineur en Etudes asiatiques contemporaines                                      30.000000\n",
       "                               Mineur en Ingénierie financière                                                 22.285714\n",
       "                               Mineur en Management, technologie et entreprene...                              23.062500\n",
       "                               Mineur en Mathématiques                                                         27.000000\n",
       "                               Mineur en Microtechnique                                                        18.000000\n",
       "                               Mineur en Neuroprosthétiques                                                    18.000000\n",
       "                               Mineur en Neurosciences computationnelles                                       24.000000\n",
       "                               Mineur en Technologies spatiales                                                27.000000\n",
       "Biocomputing                                                                                                   26.000000\n",
       "Computer Engineering - SP                                                                                      21.666667\n",
       "Computer Science Theory                                                                                        18.000000\n",
       "Data Analytics                                                                                                 18.000000\n",
       "Foundations of Software                                                                                        23.379310\n",
       "Information Security - SP                                                                                      19.000000\n",
       "Internet Information Systems                                                                                   18.000000\n",
       "Internet computing                                                                                             22.390244\n",
       "Service science                                                                                                20.000000\n",
       "Signals, Images and Interfaces                                                                                 25.500000\n",
       "Software Systems                                                                                               20.000000"
      ]
     },
     "execution_count": 146,
     "metadata": {},
     "output_type": "execute_result"
    }
   ],
   "source": [
    "# Reindex the table of total number of months because the gender column was an index and then group by GENDER\n",
    "# and compute the mean for each gender and take the 'Number of months of bachelor' column\n",
    "mean_number_of_months_of_master_by_speciality=total_number_of_months_of_master.reset_index().groupby(by=['SPECIALIZATION','MINOR']).mean()[['NUMBER OF MONTHS OF MASTER']]\n",
    "## Rename the column of the mean number of months spent in the Bachelor\n",
    "mean_number_of_months_of_master_by_speciality.columns=['MEAN NUMBER OF MONTHS SPENT IN MASTER']\n",
    "mean_number_of_months_of_master_by_speciality"
   ]
  },
  {
   "cell_type": "code",
   "execution_count": 147,
   "metadata": {
    "collapsed": false
   },
   "outputs": [
    {
     "data": {
      "text/html": [
       "<div>\n",
       "<table border=\"1\" class=\"dataframe\">\n",
       "  <thead>\n",
       "    <tr style=\"text-align: right;\">\n",
       "      <th></th>\n",
       "      <th>MEAN NUMBER OF MONTHS SPENT IN MASTER</th>\n",
       "    </tr>\n",
       "    <tr>\n",
       "      <th>GENDER</th>\n",
       "      <th></th>\n",
       "    </tr>\n",
       "  </thead>\n",
       "  <tbody>\n",
       "    <tr>\n",
       "      <th>F</th>\n",
       "      <td>19.636364</td>\n",
       "    </tr>\n",
       "    <tr>\n",
       "      <th>M</th>\n",
       "      <td>19.442219</td>\n",
       "    </tr>\n",
       "  </tbody>\n",
       "</table>\n",
       "</div>"
      ],
      "text/plain": [
       "        MEAN NUMBER OF MONTHS SPENT IN MASTER\n",
       "GENDER                                       \n",
       "F                                   19.636364\n",
       "M                                   19.442219"
      ]
     },
     "execution_count": 147,
     "metadata": {},
     "output_type": "execute_result"
    }
   ],
   "source": [
    "# Reindex the table of total number of months because the gender column was an index and then group by GENDER\n",
    "# and compute the mean for each gender and take the 'Number of months of bachelor' column\n",
    "mean_number_of_months_of_master_by_gender=total_number_of_months_of_master.reset_index().groupby(by=['GENDER']).mean()[['NUMBER OF MONTHS OF MASTER']]\n",
    "## Rename the column of the mean number of months spent in the Bachelor\n",
    "mean_number_of_months_of_master_by_gender.columns=['MEAN NUMBER OF MONTHS SPENT IN MASTER']\n",
    "mean_number_of_months_of_master_by_gender"
   ]
  },
  {
   "cell_type": "code",
   "execution_count": 149,
   "metadata": {
    "collapsed": false
   },
   "outputs": [
    {
     "data": {
      "text/html": [
       "<div>\n",
       "<table border=\"1\" class=\"dataframe\">\n",
       "  <thead>\n",
       "    <tr style=\"text-align: right;\">\n",
       "      <th></th>\n",
       "      <th></th>\n",
       "      <th>MEAN NUMBER OF MONTHS SPENT IN MASTER</th>\n",
       "    </tr>\n",
       "    <tr>\n",
       "      <th>GENDER</th>\n",
       "      <th>FINISHING YEAR</th>\n",
       "      <th></th>\n",
       "    </tr>\n",
       "  </thead>\n",
       "  <tbody>\n",
       "    <tr>\n",
       "      <th rowspan=\"10\" valign=\"top\">F</th>\n",
       "      <th>2007</th>\n",
       "      <td>12.000000</td>\n",
       "    </tr>\n",
       "    <tr>\n",
       "      <th>2008</th>\n",
       "      <td>15.000000</td>\n",
       "    </tr>\n",
       "    <tr>\n",
       "      <th>2009</th>\n",
       "      <td>22.800000</td>\n",
       "    </tr>\n",
       "    <tr>\n",
       "      <th>2010</th>\n",
       "      <td>16.000000</td>\n",
       "    </tr>\n",
       "    <tr>\n",
       "      <th>2011</th>\n",
       "      <td>17.142857</td>\n",
       "    </tr>\n",
       "    <tr>\n",
       "      <th>2012</th>\n",
       "      <td>20.333333</td>\n",
       "    </tr>\n",
       "    <tr>\n",
       "      <th>2013</th>\n",
       "      <td>24.000000</td>\n",
       "    </tr>\n",
       "    <tr>\n",
       "      <th>2014</th>\n",
       "      <td>19.125000</td>\n",
       "    </tr>\n",
       "    <tr>\n",
       "      <th>2015</th>\n",
       "      <td>23.333333</td>\n",
       "    </tr>\n",
       "    <tr>\n",
       "      <th>2016</th>\n",
       "      <td>20.470588</td>\n",
       "    </tr>\n",
       "    <tr>\n",
       "      <th rowspan=\"10\" valign=\"top\">M</th>\n",
       "      <th>2007</th>\n",
       "      <td>12.000000</td>\n",
       "    </tr>\n",
       "    <tr>\n",
       "      <th>2008</th>\n",
       "      <td>16.372881</td>\n",
       "    </tr>\n",
       "    <tr>\n",
       "      <th>2009</th>\n",
       "      <td>19.272727</td>\n",
       "    </tr>\n",
       "    <tr>\n",
       "      <th>2010</th>\n",
       "      <td>17.689655</td>\n",
       "    </tr>\n",
       "    <tr>\n",
       "      <th>2011</th>\n",
       "      <td>18.468750</td>\n",
       "    </tr>\n",
       "    <tr>\n",
       "      <th>2012</th>\n",
       "      <td>21.166667</td>\n",
       "    </tr>\n",
       "    <tr>\n",
       "      <th>2013</th>\n",
       "      <td>20.605263</td>\n",
       "    </tr>\n",
       "    <tr>\n",
       "      <th>2014</th>\n",
       "      <td>20.750000</td>\n",
       "    </tr>\n",
       "    <tr>\n",
       "      <th>2015</th>\n",
       "      <td>20.344828</td>\n",
       "    </tr>\n",
       "    <tr>\n",
       "      <th>2016</th>\n",
       "      <td>20.052632</td>\n",
       "    </tr>\n",
       "  </tbody>\n",
       "</table>\n",
       "</div>"
      ],
      "text/plain": [
       "                       MEAN NUMBER OF MONTHS SPENT IN MASTER\n",
       "GENDER FINISHING YEAR                                       \n",
       "F      2007                                        12.000000\n",
       "       2008                                        15.000000\n",
       "       2009                                        22.800000\n",
       "       2010                                        16.000000\n",
       "       2011                                        17.142857\n",
       "       2012                                        20.333333\n",
       "       2013                                        24.000000\n",
       "       2014                                        19.125000\n",
       "       2015                                        23.333333\n",
       "       2016                                        20.470588\n",
       "M      2007                                        12.000000\n",
       "       2008                                        16.372881\n",
       "       2009                                        19.272727\n",
       "       2010                                        17.689655\n",
       "       2011                                        18.468750\n",
       "       2012                                        21.166667\n",
       "       2013                                        20.605263\n",
       "       2014                                        20.750000\n",
       "       2015                                        20.344828\n",
       "       2016                                        20.052632"
      ]
     },
     "execution_count": 149,
     "metadata": {},
     "output_type": "execute_result"
    }
   ],
   "source": [
    "# Reindex the table of total number of months because the gender column was an index and then group by GENDER\n",
    "# and compute the mean for each gender and take the 'Number of months of bachelor' column\n",
    "mean_number_of_months_of_master_by_gender=total_number_of_months_of_master.reset_index().groupby(by=['GENDER','FINISHING YEAR']).mean()[['NUMBER OF MONTHS OF MASTER']]\n",
    "## Rename the column of the mean number of months spent in the Bachelor\n",
    "mean_number_of_months_of_master_by_gender.columns=['MEAN NUMBER OF MONTHS SPENT IN MASTER']\n",
    "mean_number_of_months_of_master_by_gender"
   ]
  },
  {
   "cell_type": "code",
   "execution_count": null,
   "metadata": {
    "collapsed": true
   },
   "outputs": [],
   "source": []
  }
 ],
 "metadata": {
  "anaconda-cloud": {},
  "kernelspec": {
   "display_name": "Python [conda root]",
   "language": "python",
   "name": "conda-root-py"
  },
  "language_info": {
   "codemirror_mode": {
    "name": "ipython",
    "version": 3
   },
   "file_extension": ".py",
   "mimetype": "text/x-python",
   "name": "python",
   "nbconvert_exporter": "python",
   "pygments_lexer": "ipython3",
   "version": "3.5.2"
  }
 },
 "nbformat": 4,
 "nbformat_minor": 1
}
