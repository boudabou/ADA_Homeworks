{
 "cells": [
  {
   "cell_type": "code",
   "execution_count": 272,
   "metadata": {
    "collapsed": false
   },
   "outputs": [],
   "source": [
    "import pandas as pd\n",
    "import numpy as np\n",
    "from sklearn.preprocessing import LabelEncoder\n",
    "from sklearn.model_selection import train_test_split\n",
    "from sklearn.ensemble import RandomForestClassifier\n",
    "import matplotlib.pyplot as plt\n",
    "%matplotlib inline\n",
    "from sklearn.cluster import KMeans\n",
    "from sklearn import metrics\n",
    "from sklearn.preprocessing import StandardScaler\n",
    "from IPython.display import Image"
   ]
  },
  {
   "cell_type": "markdown",
   "metadata": {},
   "source": [
    "# 1. Data exploration & cleaning"
   ]
  },
  {
   "cell_type": "markdown",
   "metadata": {},
   "source": [
    "In this section we will clean the data to output a dataset on which we can learn our models."
   ]
  },
  {
   "cell_type": "code",
   "execution_count": 173,
   "metadata": {
    "collapsed": false
   },
   "outputs": [],
   "source": [
    "# Import data\n",
    "data = pd.read_csv('CrowdstormingDataJuly1st.csv')"
   ]
  },
  {
   "cell_type": "code",
   "execution_count": 174,
   "metadata": {
    "collapsed": false
   },
   "outputs": [
    {
     "data": {
      "text/html": [
       "<div>\n",
       "<table border=\"1\" class=\"dataframe\">\n",
       "  <thead>\n",
       "    <tr style=\"text-align: right;\">\n",
       "      <th></th>\n",
       "      <th>playerShort</th>\n",
       "      <th>player</th>\n",
       "      <th>club</th>\n",
       "      <th>leagueCountry</th>\n",
       "      <th>birthday</th>\n",
       "      <th>height</th>\n",
       "      <th>weight</th>\n",
       "      <th>position</th>\n",
       "      <th>games</th>\n",
       "      <th>victories</th>\n",
       "      <th>ties</th>\n",
       "      <th>defeats</th>\n",
       "      <th>goals</th>\n",
       "      <th>yellowCards</th>\n",
       "    </tr>\n",
       "  </thead>\n",
       "  <tbody>\n",
       "    <tr>\n",
       "      <th>0</th>\n",
       "      <td>lucas-wilchez</td>\n",
       "      <td>Lucas Wilchez</td>\n",
       "      <td>Real Zaragoza</td>\n",
       "      <td>Spain</td>\n",
       "      <td>31.08.1983</td>\n",
       "      <td>177.0</td>\n",
       "      <td>72.0</td>\n",
       "      <td>Attacking Midfielder</td>\n",
       "      <td>1</td>\n",
       "      <td>0</td>\n",
       "      <td>0</td>\n",
       "      <td>1</td>\n",
       "      <td>0</td>\n",
       "      <td>0</td>\n",
       "    </tr>\n",
       "    <tr>\n",
       "      <th>1</th>\n",
       "      <td>john-utaka</td>\n",
       "      <td>John Utaka</td>\n",
       "      <td>Montpellier HSC</td>\n",
       "      <td>France</td>\n",
       "      <td>08.01.1982</td>\n",
       "      <td>179.0</td>\n",
       "      <td>82.0</td>\n",
       "      <td>Right Winger</td>\n",
       "      <td>1</td>\n",
       "      <td>0</td>\n",
       "      <td>0</td>\n",
       "      <td>1</td>\n",
       "      <td>0</td>\n",
       "      <td>1</td>\n",
       "    </tr>\n",
       "    <tr>\n",
       "      <th>2</th>\n",
       "      <td>abdon-prats</td>\n",
       "      <td>Abdón Prats</td>\n",
       "      <td>RCD Mallorca</td>\n",
       "      <td>Spain</td>\n",
       "      <td>17.12.1992</td>\n",
       "      <td>181.0</td>\n",
       "      <td>79.0</td>\n",
       "      <td>NaN</td>\n",
       "      <td>1</td>\n",
       "      <td>0</td>\n",
       "      <td>1</td>\n",
       "      <td>0</td>\n",
       "      <td>0</td>\n",
       "      <td>1</td>\n",
       "    </tr>\n",
       "    <tr>\n",
       "      <th>3</th>\n",
       "      <td>pablo-mari</td>\n",
       "      <td>Pablo Marí</td>\n",
       "      <td>RCD Mallorca</td>\n",
       "      <td>Spain</td>\n",
       "      <td>31.08.1993</td>\n",
       "      <td>191.0</td>\n",
       "      <td>87.0</td>\n",
       "      <td>Center Back</td>\n",
       "      <td>1</td>\n",
       "      <td>1</td>\n",
       "      <td>0</td>\n",
       "      <td>0</td>\n",
       "      <td>0</td>\n",
       "      <td>0</td>\n",
       "    </tr>\n",
       "  </tbody>\n",
       "</table>\n",
       "</div>"
      ],
      "text/plain": [
       "     playerShort         player             club leagueCountry    birthday  \\\n",
       "0  lucas-wilchez  Lucas Wilchez    Real Zaragoza         Spain  31.08.1983   \n",
       "1     john-utaka     John Utaka  Montpellier HSC        France  08.01.1982   \n",
       "2    abdon-prats    Abdón Prats     RCD Mallorca         Spain  17.12.1992   \n",
       "3     pablo-mari     Pablo Marí     RCD Mallorca         Spain  31.08.1993   \n",
       "\n",
       "   height  weight              position  games  victories  ties  defeats  \\\n",
       "0   177.0    72.0  Attacking Midfielder      1          0     0        1   \n",
       "1   179.0    82.0          Right Winger      1          0     0        1   \n",
       "2   181.0    79.0                   NaN      1          0     1        0   \n",
       "3   191.0    87.0           Center Back      1          1     0        0   \n",
       "\n",
       "   goals  yellowCards  \n",
       "0      0            0  \n",
       "1      0            1  \n",
       "2      0            1  \n",
       "3      0            0  "
      ]
     },
     "execution_count": 174,
     "metadata": {},
     "output_type": "execute_result"
    }
   ],
   "source": [
    "data.ix[:3,:14]"
   ]
  },
  {
   "cell_type": "code",
   "execution_count": 175,
   "metadata": {
    "collapsed": false
   },
   "outputs": [
    {
     "data": {
      "text/html": [
       "<div>\n",
       "<table border=\"1\" class=\"dataframe\">\n",
       "  <thead>\n",
       "    <tr style=\"text-align: right;\">\n",
       "      <th></th>\n",
       "      <th>yellowReds</th>\n",
       "      <th>redCards</th>\n",
       "      <th>photoID</th>\n",
       "      <th>rater1</th>\n",
       "      <th>rater2</th>\n",
       "      <th>refNum</th>\n",
       "      <th>refCountry</th>\n",
       "      <th>Alpha_3</th>\n",
       "      <th>meanIAT</th>\n",
       "      <th>nIAT</th>\n",
       "      <th>seIAT</th>\n",
       "      <th>meanExp</th>\n",
       "      <th>nExp</th>\n",
       "      <th>seExp</th>\n",
       "    </tr>\n",
       "  </thead>\n",
       "  <tbody>\n",
       "    <tr>\n",
       "      <th>0</th>\n",
       "      <td>0</td>\n",
       "      <td>0</td>\n",
       "      <td>95212.jpg</td>\n",
       "      <td>0.25</td>\n",
       "      <td>0.50</td>\n",
       "      <td>1</td>\n",
       "      <td>1</td>\n",
       "      <td>GRC</td>\n",
       "      <td>0.326391</td>\n",
       "      <td>712.0</td>\n",
       "      <td>0.000564</td>\n",
       "      <td>0.396000</td>\n",
       "      <td>750.0</td>\n",
       "      <td>0.002696</td>\n",
       "    </tr>\n",
       "    <tr>\n",
       "      <th>1</th>\n",
       "      <td>0</td>\n",
       "      <td>0</td>\n",
       "      <td>1663.jpg</td>\n",
       "      <td>0.75</td>\n",
       "      <td>0.75</td>\n",
       "      <td>2</td>\n",
       "      <td>2</td>\n",
       "      <td>ZMB</td>\n",
       "      <td>0.203375</td>\n",
       "      <td>40.0</td>\n",
       "      <td>0.010875</td>\n",
       "      <td>-0.204082</td>\n",
       "      <td>49.0</td>\n",
       "      <td>0.061504</td>\n",
       "    </tr>\n",
       "    <tr>\n",
       "      <th>2</th>\n",
       "      <td>0</td>\n",
       "      <td>0</td>\n",
       "      <td>NaN</td>\n",
       "      <td>NaN</td>\n",
       "      <td>NaN</td>\n",
       "      <td>3</td>\n",
       "      <td>3</td>\n",
       "      <td>ESP</td>\n",
       "      <td>0.369894</td>\n",
       "      <td>1785.0</td>\n",
       "      <td>0.000229</td>\n",
       "      <td>0.588297</td>\n",
       "      <td>1897.0</td>\n",
       "      <td>0.001002</td>\n",
       "    </tr>\n",
       "    <tr>\n",
       "      <th>3</th>\n",
       "      <td>0</td>\n",
       "      <td>0</td>\n",
       "      <td>NaN</td>\n",
       "      <td>NaN</td>\n",
       "      <td>NaN</td>\n",
       "      <td>3</td>\n",
       "      <td>3</td>\n",
       "      <td>ESP</td>\n",
       "      <td>0.369894</td>\n",
       "      <td>1785.0</td>\n",
       "      <td>0.000229</td>\n",
       "      <td>0.588297</td>\n",
       "      <td>1897.0</td>\n",
       "      <td>0.001002</td>\n",
       "    </tr>\n",
       "  </tbody>\n",
       "</table>\n",
       "</div>"
      ],
      "text/plain": [
       "   yellowReds  redCards    photoID  rater1  rater2  refNum  refCountry  \\\n",
       "0           0         0  95212.jpg    0.25    0.50       1           1   \n",
       "1           0         0   1663.jpg    0.75    0.75       2           2   \n",
       "2           0         0        NaN     NaN     NaN       3           3   \n",
       "3           0         0        NaN     NaN     NaN       3           3   \n",
       "\n",
       "  Alpha_3   meanIAT    nIAT     seIAT   meanExp    nExp     seExp  \n",
       "0     GRC  0.326391   712.0  0.000564  0.396000   750.0  0.002696  \n",
       "1     ZMB  0.203375    40.0  0.010875 -0.204082    49.0  0.061504  \n",
       "2     ESP  0.369894  1785.0  0.000229  0.588297  1897.0  0.001002  \n",
       "3     ESP  0.369894  1785.0  0.000229  0.588297  1897.0  0.001002  "
      ]
     },
     "execution_count": 175,
     "metadata": {},
     "output_type": "execute_result"
    }
   ],
   "source": [
    "data.ix[:3,14:]"
   ]
  },
  {
   "cell_type": "code",
   "execution_count": 176,
   "metadata": {
    "collapsed": false
   },
   "outputs": [],
   "source": [
    "# We noticed that for some players, there isn't a photo, so their skin tone couldn't be rated.\n",
    "# So we decided to drop all rows without photoID.\n",
    "data.dropna(subset=[\"photoID\"],inplace=True)"
   ]
  },
  {
   "cell_type": "code",
   "execution_count": 177,
   "metadata": {
    "collapsed": false
   },
   "outputs": [
    {
     "name": "stdout",
     "output_type": "stream",
     "text": [
      "The index (player,refNum) is unique: False\n"
     ]
    }
   ],
   "source": [
    "# Since the data is consisted of dyads of players and referees, we make sure that we have only one entry per dyad\n",
    "indexed_data=data.set_index(keys=['player','refNum'])\n",
    "print(\"The index (player,refNum) is unique: \"+str(indexed_data.index.is_unique))"
   ]
  },
  {
   "cell_type": "markdown",
   "metadata": {},
   "source": [
    "There is not a single player-referee dyad. This is the first problem we need to fix. Let's figure out what is going on:"
   ]
  },
  {
   "cell_type": "code",
   "execution_count": 178,
   "metadata": {
    "collapsed": false
   },
   "outputs": [
    {
     "data": {
      "text/html": [
       "<div>\n",
       "<table border=\"1\" class=\"dataframe\">\n",
       "  <thead>\n",
       "    <tr style=\"text-align: right;\">\n",
       "      <th></th>\n",
       "      <th></th>\n",
       "      <th>playerShort</th>\n",
       "      <th>club</th>\n",
       "      <th>leagueCountry</th>\n",
       "      <th>birthday</th>\n",
       "      <th>height</th>\n",
       "      <th>weight</th>\n",
       "      <th>position</th>\n",
       "      <th>games</th>\n",
       "      <th>victories</th>\n",
       "      <th>ties</th>\n",
       "      <th>...</th>\n",
       "      <th>rater1</th>\n",
       "      <th>rater2</th>\n",
       "      <th>refCountry</th>\n",
       "      <th>Alpha_3</th>\n",
       "      <th>meanIAT</th>\n",
       "      <th>nIAT</th>\n",
       "      <th>seIAT</th>\n",
       "      <th>meanExp</th>\n",
       "      <th>nExp</th>\n",
       "      <th>seExp</th>\n",
       "    </tr>\n",
       "    <tr>\n",
       "      <th>player</th>\n",
       "      <th>refNum</th>\n",
       "      <th></th>\n",
       "      <th></th>\n",
       "      <th></th>\n",
       "      <th></th>\n",
       "      <th></th>\n",
       "      <th></th>\n",
       "      <th></th>\n",
       "      <th></th>\n",
       "      <th></th>\n",
       "      <th></th>\n",
       "      <th></th>\n",
       "      <th></th>\n",
       "      <th></th>\n",
       "      <th></th>\n",
       "      <th></th>\n",
       "      <th></th>\n",
       "      <th></th>\n",
       "      <th></th>\n",
       "      <th></th>\n",
       "      <th></th>\n",
       "      <th></th>\n",
       "    </tr>\n",
       "  </thead>\n",
       "  <tbody>\n",
       "    <tr>\n",
       "      <th rowspan=\"2\" valign=\"top\">André Santos</th>\n",
       "      <th>88</th>\n",
       "      <td>andre-santos</td>\n",
       "      <td>Arsenal FC</td>\n",
       "      <td>England</td>\n",
       "      <td>08.03.1983</td>\n",
       "      <td>180.0</td>\n",
       "      <td>74.0</td>\n",
       "      <td>Left Fullback</td>\n",
       "      <td>1</td>\n",
       "      <td>0</td>\n",
       "      <td>0</td>\n",
       "      <td>...</td>\n",
       "      <td>0.50</td>\n",
       "      <td>0.50</td>\n",
       "      <td>3</td>\n",
       "      <td>ESP</td>\n",
       "      <td>0.369894</td>\n",
       "      <td>1785.0</td>\n",
       "      <td>0.000229</td>\n",
       "      <td>0.588297</td>\n",
       "      <td>1897.0</td>\n",
       "      <td>0.001002</td>\n",
       "    </tr>\n",
       "    <tr>\n",
       "      <th>88</th>\n",
       "      <td>andre-santos_2</td>\n",
       "      <td>Deportivo La Coruña</td>\n",
       "      <td>Spain</td>\n",
       "      <td>02.03.1989</td>\n",
       "      <td>178.0</td>\n",
       "      <td>72.0</td>\n",
       "      <td>Center Midfielder</td>\n",
       "      <td>1</td>\n",
       "      <td>0</td>\n",
       "      <td>1</td>\n",
       "      <td>...</td>\n",
       "      <td>0.25</td>\n",
       "      <td>0.25</td>\n",
       "      <td>3</td>\n",
       "      <td>ESP</td>\n",
       "      <td>0.369894</td>\n",
       "      <td>1785.0</td>\n",
       "      <td>0.000229</td>\n",
       "      <td>0.588297</td>\n",
       "      <td>1897.0</td>\n",
       "      <td>0.001002</td>\n",
       "    </tr>\n",
       "  </tbody>\n",
       "</table>\n",
       "<p>2 rows × 26 columns</p>\n",
       "</div>"
      ],
      "text/plain": [
       "                         playerShort                 club leagueCountry  \\\n",
       "player        refNum                                                      \n",
       " André Santos 88        andre-santos           Arsenal FC       England   \n",
       "              88      andre-santos_2  Deportivo La Coruña         Spain   \n",
       "\n",
       "                        birthday  height  weight           position  games  \\\n",
       "player        refNum                                                         \n",
       " André Santos 88      08.03.1983   180.0    74.0      Left Fullback      1   \n",
       "              88      02.03.1989   178.0    72.0  Center Midfielder      1   \n",
       "\n",
       "                      victories  ties    ...     rater1  rater2  refCountry  \\\n",
       "player        refNum                     ...                                  \n",
       " André Santos 88              0     0    ...       0.50    0.50           3   \n",
       "              88              0     1    ...       0.25    0.25           3   \n",
       "\n",
       "                      Alpha_3   meanIAT    nIAT     seIAT   meanExp    nExp  \\\n",
       "player        refNum                                                          \n",
       " André Santos 88          ESP  0.369894  1785.0  0.000229  0.588297  1897.0   \n",
       "              88          ESP  0.369894  1785.0  0.000229  0.588297  1897.0   \n",
       "\n",
       "                         seExp  \n",
       "player        refNum            \n",
       " André Santos 88      0.001002  \n",
       "              88      0.001002  \n",
       "\n",
       "[2 rows x 26 columns]"
      ]
     },
     "execution_count": 178,
     "metadata": {},
     "output_type": "execute_result"
    }
   ],
   "source": [
    "### A CHANGER ###\n",
    "duplicated_data = data.groupby(by=['player','refNum']).count()\n",
    "duplicated_data = duplicated_data.loc[duplicated_data['club']>1]\n",
    "indexed_data.loc[duplicated_data.index].head(2)"
   ]
  },
  {
   "cell_type": "markdown",
   "metadata": {},
   "source": [
    "Now we can see that the origin of the problem is that some players that are transfered from a club to another may have multiple entries for the same referee (one entry per club).\n",
    "So we have two possible solutions:\n",
    "1. Merge these entries into one single entry so that we have a single entry per player-ref and aggregate the club and leagueCountry features.\n",
    "2. Add the club to the index to get an entry per (player,refNum,club)."
   ]
  },
  {
   "cell_type": "markdown",
   "metadata": {},
   "source": [
    "Since we think that the club may be useful to our classification, we decided to explore the 2nd solution."
   ]
  },
  {
   "cell_type": "code",
   "execution_count": 179,
   "metadata": {
    "collapsed": false
   },
   "outputs": [
    {
     "name": "stdout",
     "output_type": "stream",
     "text": [
      "The index (player,refNum,club) is unique: True\n"
     ]
    }
   ],
   "source": [
    "indexed_data=data.set_index(keys=['player','refNum','club'])\n",
    "print(\"The index (player,refNum,club) is unique: \"+str(indexed_data.index.is_unique))"
   ]
  },
  {
   "cell_type": "markdown",
   "metadata": {},
   "source": [
    "## Skintone ratings:"
   ]
  },
  {
   "cell_type": "markdown",
   "metadata": {},
   "source": [
    "By observing the rating value, we can see that this value does not represent a real classification of players into 5 different classes: It is actually a degree of skin darkness that goes from 0 to 1. So we think that a binary classification is more suited than a multi-class classification. We decided to take the mean of all rates given for every player to decide whether he belongs to class 1 or 0. A problem can arise with people having a mean very close to 0.5, and we decided to compute this proportion of people to decide if we can safely remove them from our data."
   ]
  },
  {
   "cell_type": "code",
   "execution_count": 180,
   "metadata": {
    "collapsed": false
   },
   "outputs": [
    {
     "name": "stdout",
     "output_type": "stream",
     "text": [
      "We found that 7.38% of the players belongs to the class 0.5\n"
     ]
    }
   ],
   "source": [
    "#For the classification, we need to unify all the ratings for a given player.\n",
    "ratings = indexed_data.reset_index().groupby(by=[\"player\"]).agg({\"rater1\":np.mean,\"rater2\":np.mean})\n",
    "ratings[\"skinRating\"]=(ratings[\"rater1\"]+ratings[\"rater2\"])/2\n",
    "def classify(averageRating):\n",
    "    if averageRating<=0.375:\n",
    "        return 0\n",
    "    elif averageRating>=0.625:\n",
    "        return 1\n",
    "    else:\n",
    "        return 0.5\n",
    "ratings[\"class\"]=ratings.skinRating.apply(classify)\n",
    "numberOfPlayer=len(ratings.loc[ratings[\"class\"]==0.5])\n",
    "total=len(ratings)\n",
    "print(\"We found that \"\n",
    "      +str(round((len(ratings.loc[ratings[\"class\"]==0.5])/len(ratings))*100,2))+\n",
    "      \"% of the players belongs to the class 0.5\")"
   ]
  },
  {
   "cell_type": "markdown",
   "metadata": {},
   "source": [
    "We decide to remove these players and go for a binary classification: 0 is light skin and 1 is dark skin."
   ]
  },
  {
   "cell_type": "code",
   "execution_count": 181,
   "metadata": {
    "collapsed": false
   },
   "outputs": [
    {
     "data": {
      "text/html": [
       "<div>\n",
       "<table border=\"1\" class=\"dataframe\">\n",
       "  <thead>\n",
       "    <tr style=\"text-align: right;\">\n",
       "      <th></th>\n",
       "      <th></th>\n",
       "      <th></th>\n",
       "      <th>playerShort</th>\n",
       "      <th>leagueCountry</th>\n",
       "      <th>birthday</th>\n",
       "      <th>height</th>\n",
       "      <th>weight</th>\n",
       "      <th>position</th>\n",
       "      <th>games</th>\n",
       "      <th>victories</th>\n",
       "      <th>ties</th>\n",
       "      <th>defeats</th>\n",
       "      <th>...</th>\n",
       "      <th>photoID</th>\n",
       "      <th>refCountry</th>\n",
       "      <th>Alpha_3</th>\n",
       "      <th>meanIAT</th>\n",
       "      <th>nIAT</th>\n",
       "      <th>seIAT</th>\n",
       "      <th>meanExp</th>\n",
       "      <th>nExp</th>\n",
       "      <th>seExp</th>\n",
       "      <th>rater</th>\n",
       "    </tr>\n",
       "    <tr>\n",
       "      <th>player</th>\n",
       "      <th>refNum</th>\n",
       "      <th>club</th>\n",
       "      <th></th>\n",
       "      <th></th>\n",
       "      <th></th>\n",
       "      <th></th>\n",
       "      <th></th>\n",
       "      <th></th>\n",
       "      <th></th>\n",
       "      <th></th>\n",
       "      <th></th>\n",
       "      <th></th>\n",
       "      <th></th>\n",
       "      <th></th>\n",
       "      <th></th>\n",
       "      <th></th>\n",
       "      <th></th>\n",
       "      <th></th>\n",
       "      <th></th>\n",
       "      <th></th>\n",
       "      <th></th>\n",
       "      <th></th>\n",
       "      <th></th>\n",
       "    </tr>\n",
       "  </thead>\n",
       "  <tbody>\n",
       "    <tr>\n",
       "      <th>Lucas Wilchez</th>\n",
       "      <th>1</th>\n",
       "      <th>Real Zaragoza</th>\n",
       "      <td>lucas-wilchez</td>\n",
       "      <td>Spain</td>\n",
       "      <td>31.08.1983</td>\n",
       "      <td>177.0</td>\n",
       "      <td>72.0</td>\n",
       "      <td>Attacking Midfielder</td>\n",
       "      <td>1</td>\n",
       "      <td>0</td>\n",
       "      <td>0</td>\n",
       "      <td>1</td>\n",
       "      <td>...</td>\n",
       "      <td>95212.jpg</td>\n",
       "      <td>1</td>\n",
       "      <td>GRC</td>\n",
       "      <td>0.326391</td>\n",
       "      <td>712.0</td>\n",
       "      <td>0.000564</td>\n",
       "      <td>0.396000</td>\n",
       "      <td>750.0</td>\n",
       "      <td>0.002696</td>\n",
       "      <td>0.0</td>\n",
       "    </tr>\n",
       "    <tr>\n",
       "      <th>John Utaka</th>\n",
       "      <th>2</th>\n",
       "      <th>Montpellier HSC</th>\n",
       "      <td>john-utaka</td>\n",
       "      <td>France</td>\n",
       "      <td>08.01.1982</td>\n",
       "      <td>179.0</td>\n",
       "      <td>82.0</td>\n",
       "      <td>Right Winger</td>\n",
       "      <td>1</td>\n",
       "      <td>0</td>\n",
       "      <td>0</td>\n",
       "      <td>1</td>\n",
       "      <td>...</td>\n",
       "      <td>1663.jpg</td>\n",
       "      <td>2</td>\n",
       "      <td>ZMB</td>\n",
       "      <td>0.203375</td>\n",
       "      <td>40.0</td>\n",
       "      <td>0.010875</td>\n",
       "      <td>-0.204082</td>\n",
       "      <td>49.0</td>\n",
       "      <td>0.061504</td>\n",
       "      <td>1.0</td>\n",
       "    </tr>\n",
       "    <tr>\n",
       "      <th>Aaron Hughes</th>\n",
       "      <th>4</th>\n",
       "      <th>Fulham FC</th>\n",
       "      <td>aaron-hughes</td>\n",
       "      <td>England</td>\n",
       "      <td>08.11.1979</td>\n",
       "      <td>182.0</td>\n",
       "      <td>71.0</td>\n",
       "      <td>Center Back</td>\n",
       "      <td>1</td>\n",
       "      <td>0</td>\n",
       "      <td>0</td>\n",
       "      <td>1</td>\n",
       "      <td>...</td>\n",
       "      <td>3868.jpg</td>\n",
       "      <td>4</td>\n",
       "      <td>LUX</td>\n",
       "      <td>0.325185</td>\n",
       "      <td>127.0</td>\n",
       "      <td>0.003297</td>\n",
       "      <td>0.538462</td>\n",
       "      <td>130.0</td>\n",
       "      <td>0.013752</td>\n",
       "      <td>0.0</td>\n",
       "    </tr>\n",
       "    <tr>\n",
       "      <th>Aleksandar Kolarov</th>\n",
       "      <th>4</th>\n",
       "      <th>Manchester City</th>\n",
       "      <td>aleksandar-kolarov</td>\n",
       "      <td>England</td>\n",
       "      <td>10.11.1985</td>\n",
       "      <td>187.0</td>\n",
       "      <td>80.0</td>\n",
       "      <td>Left Fullback</td>\n",
       "      <td>1</td>\n",
       "      <td>1</td>\n",
       "      <td>0</td>\n",
       "      <td>0</td>\n",
       "      <td>...</td>\n",
       "      <td>47704.jpg</td>\n",
       "      <td>4</td>\n",
       "      <td>LUX</td>\n",
       "      <td>0.325185</td>\n",
       "      <td>127.0</td>\n",
       "      <td>0.003297</td>\n",
       "      <td>0.538462</td>\n",
       "      <td>130.0</td>\n",
       "      <td>0.013752</td>\n",
       "      <td>0.0</td>\n",
       "    </tr>\n",
       "    <tr>\n",
       "      <th>Alexander Tettey</th>\n",
       "      <th>4</th>\n",
       "      <th>Norwich City</th>\n",
       "      <td>alexander-tettey</td>\n",
       "      <td>England</td>\n",
       "      <td>04.04.1986</td>\n",
       "      <td>180.0</td>\n",
       "      <td>68.0</td>\n",
       "      <td>Defensive Midfielder</td>\n",
       "      <td>1</td>\n",
       "      <td>0</td>\n",
       "      <td>0</td>\n",
       "      <td>1</td>\n",
       "      <td>...</td>\n",
       "      <td>22356.jpg</td>\n",
       "      <td>4</td>\n",
       "      <td>LUX</td>\n",
       "      <td>0.325185</td>\n",
       "      <td>127.0</td>\n",
       "      <td>0.003297</td>\n",
       "      <td>0.538462</td>\n",
       "      <td>130.0</td>\n",
       "      <td>0.013752</td>\n",
       "      <td>1.0</td>\n",
       "    </tr>\n",
       "  </tbody>\n",
       "</table>\n",
       "<p>5 rows × 24 columns</p>\n",
       "</div>"
      ],
      "text/plain": [
       "                                                  playerShort leagueCountry  \\\n",
       "player             refNum club                                                \n",
       "Lucas Wilchez      1      Real Zaragoza         lucas-wilchez         Spain   \n",
       "John Utaka         2      Montpellier HSC          john-utaka        France   \n",
       "Aaron Hughes       4      Fulham FC              aaron-hughes       England   \n",
       "Aleksandar Kolarov 4      Manchester City  aleksandar-kolarov       England   \n",
       "Alexander Tettey   4      Norwich City       alexander-tettey       England   \n",
       "\n",
       "                                             birthday  height  weight  \\\n",
       "player             refNum club                                          \n",
       "Lucas Wilchez      1      Real Zaragoza    31.08.1983   177.0    72.0   \n",
       "John Utaka         2      Montpellier HSC  08.01.1982   179.0    82.0   \n",
       "Aaron Hughes       4      Fulham FC        08.11.1979   182.0    71.0   \n",
       "Aleksandar Kolarov 4      Manchester City  10.11.1985   187.0    80.0   \n",
       "Alexander Tettey   4      Norwich City     04.04.1986   180.0    68.0   \n",
       "\n",
       "                                                       position  games  \\\n",
       "player             refNum club                                           \n",
       "Lucas Wilchez      1      Real Zaragoza    Attacking Midfielder      1   \n",
       "John Utaka         2      Montpellier HSC          Right Winger      1   \n",
       "Aaron Hughes       4      Fulham FC                 Center Back      1   \n",
       "Aleksandar Kolarov 4      Manchester City         Left Fullback      1   \n",
       "Alexander Tettey   4      Norwich City     Defensive Midfielder      1   \n",
       "\n",
       "                                           victories  ties  defeats  ...    \\\n",
       "player             refNum club                                       ...     \n",
       "Lucas Wilchez      1      Real Zaragoza            0     0        1  ...     \n",
       "John Utaka         2      Montpellier HSC          0     0        1  ...     \n",
       "Aaron Hughes       4      Fulham FC                0     0        1  ...     \n",
       "Aleksandar Kolarov 4      Manchester City          1     0        0  ...     \n",
       "Alexander Tettey   4      Norwich City             0     0        1  ...     \n",
       "\n",
       "                                             photoID  refCountry  Alpha_3  \\\n",
       "player             refNum club                                              \n",
       "Lucas Wilchez      1      Real Zaragoza    95212.jpg           1      GRC   \n",
       "John Utaka         2      Montpellier HSC   1663.jpg           2      ZMB   \n",
       "Aaron Hughes       4      Fulham FC         3868.jpg           4      LUX   \n",
       "Aleksandar Kolarov 4      Manchester City  47704.jpg           4      LUX   \n",
       "Alexander Tettey   4      Norwich City     22356.jpg           4      LUX   \n",
       "\n",
       "                                            meanIAT   nIAT     seIAT  \\\n",
       "player             refNum club                                         \n",
       "Lucas Wilchez      1      Real Zaragoza    0.326391  712.0  0.000564   \n",
       "John Utaka         2      Montpellier HSC  0.203375   40.0  0.010875   \n",
       "Aaron Hughes       4      Fulham FC        0.325185  127.0  0.003297   \n",
       "Aleksandar Kolarov 4      Manchester City  0.325185  127.0  0.003297   \n",
       "Alexander Tettey   4      Norwich City     0.325185  127.0  0.003297   \n",
       "\n",
       "                                            meanExp   nExp     seExp  rater  \n",
       "player             refNum club                                               \n",
       "Lucas Wilchez      1      Real Zaragoza    0.396000  750.0  0.002696    0.0  \n",
       "John Utaka         2      Montpellier HSC -0.204082   49.0  0.061504    1.0  \n",
       "Aaron Hughes       4      Fulham FC        0.538462  130.0  0.013752    0.0  \n",
       "Aleksandar Kolarov 4      Manchester City  0.538462  130.0  0.013752    0.0  \n",
       "Alexander Tettey   4      Norwich City     0.538462  130.0  0.013752    1.0  \n",
       "\n",
       "[5 rows x 24 columns]"
      ]
     },
     "execution_count": 181,
     "metadata": {},
     "output_type": "execute_result"
    }
   ],
   "source": [
    "ratings=ratings.drop([\"rater1\",\"rater2\",\"skinRating\"],axis=1)\n",
    "ratings.columns=[\"rater\"]\n",
    "final_data = indexed_data.join(ratings)\n",
    "final_data = final_data.drop([\"rater1\",\"rater2\"],axis=1)\n",
    "final_data = final_data[final_data.rater!=0.5]\n",
    "final_data.head()"
   ]
  },
  {
   "cell_type": "markdown",
   "metadata": {},
   "source": [
    "# 2. Supervised classification"
   ]
  },
  {
   "cell_type": "markdown",
   "metadata": {},
   "source": [
    "## 1. Data pre-processing"
   ]
  },
  {
   "cell_type": "markdown",
   "metadata": {},
   "source": [
    "In this section we will use a random forest classifier that given a soccer player description outputs his skin color. Since we were grouping our data by (player-referee-club) we will have multiple values per player, we decided to allow this even if it seems wrong at a first sight because the ref and club informations: Some refrees are known of being racist and this may help in the classification. Also, some clubs are known to prefer at a point of time a specific playing style of a specific nation, this may effects the skin color of the players in the club (For example, Barcelona prefers spanish player and style, while Chelsea prefers african players and style)."
   ]
  },
  {
   "cell_type": "markdown",
   "metadata": {},
   "source": [
    "And to tackle the problem that may arise from our choice, we decided to proceed as follow:\n",
    "1. Split the player list into players for Test and players for Train. Then split the data according to that: All entries of players for Test will belong to X_Test and all entries of players for Train will belong to X_Train. This prevents us from having some players having data in the boths set which will cause a lot of mistakes is the analysis.\n",
    "2. Once a model is fitted and a prediction is found, we group all the prediction of entries of every player and take the value that is most proposed as a prediction for that player.\n",
    "3. We created our own computeScore function that computes the score from the prediction for players instead of prediction for entries (player-ref-club)."
   ]
  },
  {
   "cell_type": "code",
   "execution_count": 239,
   "metadata": {
    "collapsed": false
   },
   "outputs": [],
   "source": [
    "supervisedData=final_data.reset_index().set_index([\"player\"]).drop(['playerShort',# Duplicated data\n",
    "                                          'photoID',    # Noise\n",
    "                                          'Alpha_3',     # Duplicated\n",
    "                                          'meanIAT',    # Related to referee country\n",
    "                                          'nIAT',       # Related to referee country\n",
    "                                          'seIAT',      # Related to referee country\n",
    "                                          'meanExp',    # Related to referee country\n",
    "                                          'nExp',       # Related to referee country\n",
    "                                          'seExp',      # Related to referee country\n",
    "                                         ], axis=1)\n",
    "players = final_data.reset_index().groupby(by=[\"player\"]).agg({\"rater\":\"first\"})"
   ]
  },
  {
   "cell_type": "code",
   "execution_count": 241,
   "metadata": {
    "collapsed": false
   },
   "outputs": [],
   "source": [
    "# Split the players into training and testing players\n",
    "players_train, players_test  = train_test_split(players, test_size=0.25)"
   ]
  },
  {
   "cell_type": "markdown",
   "metadata": {},
   "source": [
    "Now, we need to encode string labels (i.e. club, position..) into integer values so that we can use as input to our classifier that doesn't accept string type. We will use class **sklearn.preprocessing.LabelEncoder**"
   ]
  },
  {
   "cell_type": "code",
   "execution_count": 242,
   "metadata": {
    "collapsed": false
   },
   "outputs": [],
   "source": [
    "# All data\n",
    "X = supervisedData.drop('rater',axis=1)\n",
    "\n",
    "# Encode string columns\n",
    "le = LabelEncoder()\n",
    "X[\"club\"] = le.fit(X.club).transform(X.club)\n",
    "X[\"birthday\"] = le.fit(X.birthday).transform(X.birthday)\n",
    "X[\"leagueCountry\"] = le.fit(X.leagueCountry).transform(X.leagueCountry)\n",
    "# Position column contain some nan values so we need to convert the type to string before encoding\n",
    "X.position = X.position.apply(lambda x:str(x))\n",
    "X[\"position\"] = le.fit(X.position).transform(X.position)\n",
    "\n",
    "# For height and weight column we will replace nan values with the mean height/weight\n",
    "#X.weight=X.weight.apply(lambda x:round(float(x),1))\n",
    "meanWeight = round(X.weight.mean(),0)\n",
    "X.weight = X.weight.fillna(meanWeight)\n",
    "#X.height=X.height.apply(lambda x:round(float(x),1))\n",
    "meanHeight = round(X.height.mean(),0)\n",
    "X.height = X.height.fillna(meanHeight)\n",
    "\n",
    "X_train = X.reset_index().set_index([\"player\"])\n",
    "X_train = X_train.loc[players_train.index]\n",
    "X_test = X.reset_index().set_index([\"player\"])\n",
    "X_test = X_test.loc[players_test.index]"
   ]
  },
  {
   "cell_type": "code",
   "execution_count": 243,
   "metadata": {
    "collapsed": false
   },
   "outputs": [],
   "source": [
    "y_train = supervisedData.reset_index().set_index([\"player\"])\n",
    "y_train = y_train.loc[players_train.index][\"rater\"]\n",
    "y_test = supervisedData.reset_index().set_index([\"player\"])\n",
    "y_test = y_test.loc[players_test.index][\"rater\"]\n",
    "\n",
    "# Encode the labels y\n",
    "y_train = le.fit(y_train).transform(y_train)\n",
    "y_test = le.fit(y_test).transform(y_test)"
   ]
  },
  {
   "cell_type": "code",
   "execution_count": 244,
   "metadata": {
    "collapsed": false
   },
   "outputs": [
    {
     "data": {
      "text/html": [
       "<div>\n",
       "<table border=\"1\" class=\"dataframe\">\n",
       "  <thead>\n",
       "    <tr style=\"text-align: right;\">\n",
       "      <th></th>\n",
       "      <th>refNum</th>\n",
       "      <th>club</th>\n",
       "      <th>leagueCountry</th>\n",
       "      <th>birthday</th>\n",
       "      <th>height</th>\n",
       "      <th>weight</th>\n",
       "      <th>position</th>\n",
       "      <th>games</th>\n",
       "      <th>victories</th>\n",
       "      <th>ties</th>\n",
       "      <th>defeats</th>\n",
       "      <th>goals</th>\n",
       "      <th>yellowCards</th>\n",
       "      <th>yellowReds</th>\n",
       "      <th>redCards</th>\n",
       "      <th>refCountry</th>\n",
       "    </tr>\n",
       "    <tr>\n",
       "      <th>player</th>\n",
       "      <th></th>\n",
       "      <th></th>\n",
       "      <th></th>\n",
       "      <th></th>\n",
       "      <th></th>\n",
       "      <th></th>\n",
       "      <th></th>\n",
       "      <th></th>\n",
       "      <th></th>\n",
       "      <th></th>\n",
       "      <th></th>\n",
       "      <th></th>\n",
       "      <th></th>\n",
       "      <th></th>\n",
       "      <th></th>\n",
       "      <th></th>\n",
       "    </tr>\n",
       "  </thead>\n",
       "  <tbody>\n",
       "    <tr>\n",
       "      <th>Roberto Lago</th>\n",
       "      <td>88</td>\n",
       "      <td>19</td>\n",
       "      <td>3</td>\n",
       "      <td>1274</td>\n",
       "      <td>178.0</td>\n",
       "      <td>76.0</td>\n",
       "      <td>7</td>\n",
       "      <td>4</td>\n",
       "      <td>1</td>\n",
       "      <td>2</td>\n",
       "      <td>1</td>\n",
       "      <td>1</td>\n",
       "      <td>0</td>\n",
       "      <td>0</td>\n",
       "      <td>0</td>\n",
       "      <td>3</td>\n",
       "    </tr>\n",
       "    <tr>\n",
       "      <th>Roberto Lago</th>\n",
       "      <td>94</td>\n",
       "      <td>19</td>\n",
       "      <td>3</td>\n",
       "      <td>1274</td>\n",
       "      <td>178.0</td>\n",
       "      <td>76.0</td>\n",
       "      <td>7</td>\n",
       "      <td>9</td>\n",
       "      <td>4</td>\n",
       "      <td>3</td>\n",
       "      <td>2</td>\n",
       "      <td>0</td>\n",
       "      <td>2</td>\n",
       "      <td>0</td>\n",
       "      <td>0</td>\n",
       "      <td>3</td>\n",
       "    </tr>\n",
       "  </tbody>\n",
       "</table>\n",
       "</div>"
      ],
      "text/plain": [
       "               refNum  club  leagueCountry  birthday  height  weight  \\\n",
       "player                                                                 \n",
       " Roberto Lago      88    19              3      1274   178.0    76.0   \n",
       " Roberto Lago      94    19              3      1274   178.0    76.0   \n",
       "\n",
       "               position  games  victories  ties  defeats  goals  yellowCards  \\\n",
       "player                                                                         \n",
       " Roberto Lago         7      4          1     2        1      1            0   \n",
       " Roberto Lago         7      9          4     3        2      0            2   \n",
       "\n",
       "               yellowReds  redCards  refCountry  \n",
       "player                                           \n",
       " Roberto Lago           0         0           3  \n",
       " Roberto Lago           0         0           3  "
      ]
     },
     "execution_count": 244,
     "metadata": {},
     "output_type": "execute_result"
    }
   ],
   "source": [
    "X_train.head(2)"
   ]
  },
  {
   "cell_type": "code",
   "execution_count": 245,
   "metadata": {
    "collapsed": false
   },
   "outputs": [
    {
     "data": {
      "text/plain": [
       "array([0, 0, 0, 0, 0])"
      ]
     },
     "execution_count": 245,
     "metadata": {},
     "output_type": "execute_result"
    }
   ],
   "source": [
    "y_train[:5]"
   ]
  },
  {
   "cell_type": "markdown",
   "metadata": {},
   "source": [
    "## 2. Helper functions:"
   ]
  },
  {
   "cell_type": "code",
   "execution_count": 247,
   "metadata": {
    "collapsed": false
   },
   "outputs": [],
   "source": [
    "#The helper function that takes the predictions of all entries with a player and outputs the final prediction for him.\n",
    "def getPrediction(model,X):\n",
    "    yHat = model.predict(X)\n",
    "    yHat = pd.DataFrame(index=X.index, data=yHat)\n",
    "    yHat.columns=[\"yHat\"]\n",
    "    result = yHat.join(X,how=\"left\")\n",
    "    result = result.reset_index().groupby(by=[\"player\"]).agg({\"yHat\":lambda x:x.value_counts().index[0]})\n",
    "    return result"
   ]
  },
  {
   "cell_type": "code",
   "execution_count": 248,
   "metadata": {
    "collapsed": false
   },
   "outputs": [],
   "source": [
    "#Our own computePrecision that uses the predictions of player instead of predictions of entries.\n",
    "def computePrecision(model,X):\n",
    "    yHat = getPrediction(model,X)\n",
    "    y = final_data.reset_index().groupby(by=[\"player\"]).agg({\"rater\":lambda x:x.value_counts().index[0]})\n",
    "    comparison = yHat.join(y,how=\"left\")\n",
    "    comparison[\"error\"]=comparison[\"yHat\"]==comparison[\"rater\"]\n",
    "    total = len(comparison)\n",
    "    correct = len(comparison.loc[comparison.error==True])\n",
    "    return round((correct/total)*100,2)"
   ]
  },
  {
   "cell_type": "markdown",
   "metadata": {},
   "source": [
    "## 3. Model construction & validation:"
   ]
  },
  {
   "cell_type": "markdown",
   "metadata": {},
   "source": [
    "First, let's try a random forest classifier with these basic parameters:\n",
    "- The number of trees in the forst: **n_estimators=20**\n",
    "- Unrestricted size: **max depth=None**\n",
    "- The minimum number of samples required to be at a leaf node: **min_samples_leaf=1**\n",
    "- Each node can be splitted further if it contains at least two samples **min_samples_splits=2**"
   ]
  },
  {
   "cell_type": "code",
   "execution_count": 249,
   "metadata": {
    "collapsed": false
   },
   "outputs": [
    {
     "data": {
      "text/plain": [
       "RandomForestClassifier(bootstrap=True, class_weight=None, criterion='gini',\n",
       "            max_depth=None, max_features='auto', max_leaf_nodes=None,\n",
       "            min_impurity_split=1e-07, min_samples_leaf=1,\n",
       "            min_samples_split=2, min_weight_fraction_leaf=0.0,\n",
       "            n_estimators=20, n_jobs=1, oob_score=False, random_state=None,\n",
       "            verbose=0, warm_start=False)"
      ]
     },
     "execution_count": 249,
     "metadata": {},
     "output_type": "execute_result"
    }
   ],
   "source": [
    "# Create the classifier\n",
    "clf = RandomForestClassifier(n_estimators=20)\n",
    "clf"
   ]
  },
  {
   "cell_type": "code",
   "execution_count": 250,
   "metadata": {
    "collapsed": false
   },
   "outputs": [
    {
     "data": {
      "text/plain": [
       "RandomForestClassifier(bootstrap=True, class_weight=None, criterion='gini',\n",
       "            max_depth=None, max_features='auto', max_leaf_nodes=None,\n",
       "            min_impurity_split=1e-07, min_samples_leaf=1,\n",
       "            min_samples_split=2, min_weight_fraction_leaf=0.0,\n",
       "            n_estimators=20, n_jobs=1, oob_score=False, random_state=None,\n",
       "            verbose=0, warm_start=False)"
      ]
     },
     "execution_count": 250,
     "metadata": {},
     "output_type": "execute_result"
    }
   ],
   "source": [
    "# Build a forest of trees from the training set\n",
    "clf.fit(X_train, y_train)"
   ]
  },
  {
   "cell_type": "code",
   "execution_count": 251,
   "metadata": {
    "collapsed": false
   },
   "outputs": [
    {
     "name": "stdout",
     "output_type": "stream",
     "text": [
      "The score of our model on the training set is 100.0%\n"
     ]
    }
   ],
   "source": [
    "# Score of our model on the training set\n",
    "print (\"The score of our model on the training set is \"+str(computePrecision(clf,X_train))+\"%\")"
   ]
  },
  {
   "cell_type": "code",
   "execution_count": 252,
   "metadata": {
    "collapsed": false
   },
   "outputs": [
    {
     "name": "stdout",
     "output_type": "stream",
     "text": [
      "The score of our model on the validation data is 80.77%\n"
     ]
    }
   ],
   "source": [
    "# Score of our model on the validation set\n",
    "print (\"The score of our model on the validation data is \"+str(computePrecision(clf,X_test))+\"%\")"
   ]
  },
  {
   "cell_type": "markdown",
   "metadata": {
    "collapsed": true
   },
   "source": [
    "We clearly have an overvitting, let's study how the different parameters change the occuracy."
   ]
  },
  {
   "cell_type": "markdown",
   "metadata": {},
   "source": [
    "## 3. Parameters & Overfitting:"
   ]
  },
  {
   "cell_type": "markdown",
   "metadata": {},
   "source": [
    "**Note that: For more reliable result, for a fixed set of parameters, we will compute the median of the score over 100 test for these parameters. This avoids extreme results caused by the random samples selection of the random forest algorithm: Althought this will increase complexity, it will produce more reliable results.**"
   ]
  },
  {
   "cell_type": "markdown",
   "metadata": {},
   "source": [
    "### a. Number of trees (n_estimators):"
   ]
  },
  {
   "cell_type": "markdown",
   "metadata": {},
   "source": [
    "We will plot the score (on the validation data) as a function of Number of trees. All the other parameters are unchanged:"
   ]
  },
  {
   "cell_type": "code",
   "execution_count": 253,
   "metadata": {
    "collapsed": true
   },
   "outputs": [],
   "source": [
    "# Function that given the number of trees return the score of the model on the validation data\n",
    "def scoreFromNumEstim (n_estimators):\n",
    "    obs=[]\n",
    "    for i in range(1,40):\n",
    "        clf = RandomForestClassifier(n_estimators).fit(X_train, y_train)\n",
    "        obs.append(computePrecision(clf,X_test))\n",
    "    return np.median(obs)"
   ]
  },
  {
   "cell_type": "code",
   "execution_count": 254,
   "metadata": {
    "collapsed": false
   },
   "outputs": [
    {
     "data": {
      "image/png": "[encoded data removed]",
      "text/plain": [
       "<matplotlib.figure.Figure at 0x1157f8208>"
      ]
     },
     "metadata": {},
     "output_type": "display_data"
    }
   ],
   "source": [
    "# Plot the score (on the validation data) as a function of Number of trees\n",
    "treeNum = np.arange(1, 41, 1)\n",
    "#l1,= plt.plot(treeNum, np.vectorize(scoreFromNumEstim)(n_estimators=treeNum),'bs-.')\n",
    "plt.xlabel('Number of trees')\n",
    "plt.ylabel('Score')\n",
    "plt.title('Effect of the number of forest trees on the score')\n",
    "plt.show()"
   ]
  },
  {
   "cell_type": "markdown",
   "metadata": {},
   "source": [
    "**Observation:** We can see from this plot that the score increase linearly with the number of trees until reaching a local maximum (~16 trees). For the number of trees above this local maximum, the score will vary around 81%."
   ]
  },
  {
   "cell_type": "markdown",
   "metadata": {},
   "source": [
    "**Conclusion:** The bigger the number of trees is the better performance the model can achieve (especially if the number of trees is relatively small). In fact, the more trees the more **variance** reduction through the ensemble aggregate. However, as seen in this plot, as the number of trees become very large, the performance is not improved that much and there is a tradeoff between complexity and performance."
   ]
  },
  {
   "cell_type": "markdown",
   "metadata": {},
   "source": [
    "### b. Max depth:"
   ]
  },
  {
   "cell_type": "markdown",
   "metadata": {},
   "source": [
    "We will plot the score (on the test set) as a function of the max depth of the tree. All the other parameters are unchanged:"
   ]
  },
  {
   "cell_type": "code",
   "execution_count": 255,
   "metadata": {
    "collapsed": true
   },
   "outputs": [],
   "source": [
    "def scoreFromMaxDepth (max_depth):\n",
    "    obs=[]\n",
    "    for i in range(1,20):\n",
    "        clf = RandomForestClassifier(n_estimators=20,max_depth=max_depth).fit(X_train, y_train)\n",
    "        obs.append(computePrecision(clf,X_test))\n",
    "    return np.median(obs)"
   ]
  },
  {
   "cell_type": "code",
   "execution_count": 207,
   "metadata": {
    "collapsed": false
   },
   "outputs": [
    {
     "data": {
      "image/png": "[encoded data removed]",
      "text/plain": [
       "<matplotlib.figure.Figure at 0x1267a9a58>"
      ]
     },
     "metadata": {},
     "output_type": "display_data"
    }
   ],
   "source": [
    "maxDepth = np.arange(1, 21, 1)\n",
    "#l1,= plt.plot(maxDepth, np.vectorize(scoreFromMaxDepth)(max_depth=maxDepth),'rs-.')\n",
    "plt.xlabel('Max depth')\n",
    "plt.ylabel('Score')\n",
    "plt.title('Effect of the max depth of the trees on the score')\n",
    "plt.show()"
   ]
  },
  {
   "cell_type": "markdown",
   "metadata": {},
   "source": [
    "**Observation:** We can see from this plot that the score increases with the maximal depth of the tree until reaching a global maximum (Max depth ~8). Then a slight decrease in performance is observed as max depth increases."
   ]
  },
  {
   "cell_type": "markdown",
   "metadata": {},
   "source": [
    "**Conclusion:** The performance increases when we increase the depth of the trees because depth reduce biais especially when the depth is relatively small which cause high biais leading to  poor performance. However, very large depth may cause overfitting: Hence reduce performance."
   ]
  },
  {
   "cell_type": "markdown",
   "metadata": {},
   "source": [
    "### c. Minimal number of samples per leaf:**"
   ]
  },
  {
   "cell_type": "markdown",
   "metadata": {},
   "source": [
    "We will plot the score (on the validation data) as a function of the minimal sample leaf of the tree. All the other parameters are unchanged:"
   ]
  },
  {
   "cell_type": "code",
   "execution_count": 256,
   "metadata": {
    "collapsed": true
   },
   "outputs": [],
   "source": [
    "def scoreFromMinSamlpleLeaf (min_samples_leaf):\n",
    "    obs=[]\n",
    "    for i in range(1,20):\n",
    "        clf = RandomForestClassifier(n_estimators=20,min_samples_leaf=min_samples_leaf).fit(X_train, y_train)\n",
    "        obs.append(computePrecision(clf,X_test))\n",
    "    return np.median(obs)"
   ]
  },
  {
   "cell_type": "code",
   "execution_count": 211,
   "metadata": {
    "collapsed": false
   },
   "outputs": [
    {
     "data": {
      "image/png": "[encoded data removed]",
      "text/plain": [
       "<matplotlib.figure.Figure at 0x12724cef0>"
      ]
     },
     "metadata": {},
     "output_type": "display_data"
    }
   ],
   "source": [
    "minSamplesLeafs = np.arange(1, 21, 1)\n",
    "#l1,= plt.plot(minSamplesLeafs, np.vectorize(scoreFromMinSamlpleLeaf)(min_samples_leaf=minSamplesLeafs),'gs-.')\n",
    "plt.xlabel('Minimal samples leaf')\n",
    "plt.ylabel('Score')\n",
    "plt.title('Effect of the minimal samples leaf of the trees on the score')\n",
    "plt.show()"
   ]
  },
  {
   "cell_type": "markdown",
   "metadata": {},
   "source": [
    "**Observation:** We can see from this plot that the score is minimal when the minimal number of samples allowed per leaf is very small and when it is very large. In fact optimal scores corresponds to minimal samples leaf values around 17 samples."
   ]
  },
  {
   "cell_type": "markdown",
   "metadata": {},
   "source": [
    "**Conclusion:** A small number of samples per leaf means further splitting and hence deeper trees. So as we saw with Max_depth, althought deep trees decrease biais, they cause overfitting which is clear from the increasing part of the curve (increasing min samples/leaf increases performance). On the other hand, further increase of the min number of samples per leaf decreases performance. In fact, large number of samples per leaf means shorter trees and hence increase in the biais which decrease the performance. Hence, not surprising, the optimal value is not too smal nor too large."
   ]
  },
  {
   "cell_type": "markdown",
   "metadata": {},
   "source": [
    "### d. Minimal sample split:"
   ]
  },
  {
   "cell_type": "markdown",
   "metadata": {},
   "source": [
    "We will plot the score (on the validation data) as a function of the minimal sample split of the tree. It means the minimum number of samples above which we can split further. All the other parameters are unchanged:"
   ]
  },
  {
   "cell_type": "code",
   "execution_count": 257,
   "metadata": {
    "collapsed": true
   },
   "outputs": [],
   "source": [
    "def scoreFromMinSamlpleSplit (min_samples_split):\n",
    "    obs=[]\n",
    "    for i in range(2,20):\n",
    "        clf = RandomForestClassifier(n_estimators=20,min_samples_split=min_samples_split).fit(X_train, y_train)\n",
    "        obs.append(computePrecision(clf,X_test))\n",
    "    return np.median(obs)"
   ]
  },
  {
   "cell_type": "code",
   "execution_count": 215,
   "metadata": {
    "collapsed": false
   },
   "outputs": [
    {
     "data": {
      "image/png": "[encoded data removed]",
      "text/plain": [
       "<matplotlib.figure.Figure at 0x115865f60>"
      ]
     },
     "metadata": {},
     "output_type": "display_data"
    }
   ],
   "source": [
    "minSamplesSplit = np.arange(2, 21, 1)\n",
    "#l1,= plt.plot(minSamplesSplit, np.vectorize(scoreFromMinSamlpleSplit)(min_samples_split=minSamplesSplit),'ys-.')\n",
    "plt.xlabel('Minimal samples to split')\n",
    "plt.ylabel('Score')\n",
    "plt.title('Effect of the minimal samples to split of the trees on the score')\n",
    "plt.show()"
   ]
  },
  {
   "cell_type": "markdown",
   "metadata": {},
   "source": [
    "**Observation:** Not surprisingly, we can see that the shape of this curve is similar to the minimal sample split curve. In fact, the minimal samples to split is twice to the number of samples per leaf. In other words, splitting when a node has at least 2n samples is equivalent to having a maximal number of samples per leaf of n samples. So the same observation and conclusion of the previous part hold."
   ]
  },
  {
   "cell_type": "markdown",
   "metadata": {},
   "source": [
    "### e. Max features:"
   ]
  },
  {
   "cell_type": "markdown",
   "metadata": {},
   "source": [
    "We will plot the score (on the validation data) as a function of the max number of features to consider when looking for the best split."
   ]
  },
  {
   "cell_type": "code",
   "execution_count": 258,
   "metadata": {
    "collapsed": true
   },
   "outputs": [],
   "source": [
    "def scoreFromMaxFeatures(max_features):\n",
    "    obs=[]\n",
    "    for i in range(1,10):\n",
    "        clf = RandomForestClassifier(n_estimators=20,max_features=max_features).fit(X_train, y_train)\n",
    "        obs.append(computePrecision(clf,X_test))\n",
    "    return np.median(obs)"
   ]
  },
  {
   "cell_type": "code",
   "execution_count": 219,
   "metadata": {
    "collapsed": false
   },
   "outputs": [
    {
     "data": {
      "image/png": "[encoded data removed]",
      "text/plain": [
       "<matplotlib.figure.Figure at 0x1158045f8>"
      ]
     },
     "metadata": {},
     "output_type": "display_data"
    }
   ],
   "source": [
    "maxFeaturesCont = np.arange(0.1,1,0.1)\n",
    "fig, axes = plt.subplots(nrows=1, ncols=2, figsize=(15, 7))\n",
    "maxFeaturesFunc = ['sqrt','log2',None]\n",
    "#scores=np.vectorize(scoreFromMaxFeatures)(max_features=maxFeaturesFunc)\n",
    "width = 0.35 \n",
    "# Plot the score as a function of the number of features\n",
    "#axes[0].plot(maxFeaturesCont, np.vectorize(scoreFromMaxFeatures)(max_features=maxFeaturesCont),'bs-.')\n",
    "axes[0].set_xlabel('Percentage of total number of features for the best split',fontsize=15)\n",
    "axes[0].set_ylabel('Score',fontsize=15)\n",
    "\n",
    "# Plot a bar chart for scores for pre-built functions\n",
    "axes[1].bar(range(len(maxFeaturesFunc)), scores, width,align='center')\n",
    "axes[1].set_xlabel('Number of features for the best split as a function of total number  of features',fontsize=15)\n",
    "axes[1].set_ylabel('Score',fontsize=15)\n",
    "plt.sca(axes[1])\n",
    "plt.xticks(range(len(maxFeaturesFunc )), maxFeaturesFunc, size=\"medium\")\n",
    "\n",
    "# Translate subplots for better visiualisation\n",
    "pos = axes[1].get_position()\n",
    "axes[1].set_position(pos.translated(tx =-0.1,ty=0.1))\n",
    "fig.suptitle('Effect of the max number of features used for the bes split on the score', fontsize=20)\n",
    "fig.tight_layout()"
   ]
  },
  {
   "cell_type": "markdown",
   "metadata": {},
   "source": [
    "**Observation:** Both graphs agree on the fact that the more number of fetures you pick for the best split, the better the performance is. This is shown on the first graph by the increasing aspect of the curve and on the second graph by an optimal score for the 'None' argument (note that None means fetures selected= all features)."
   ]
  },
  {
   "cell_type": "markdown",
   "metadata": {},
   "source": [
    "**Conclusion:** Normally a big number of features is more likely to causes an overfitting problem because at each split all features will be taken into account. In our case a big number of features does not seem to cause overfitting maybe because of the big difference of importance among features."
   ]
  },
  {
   "cell_type": "markdown",
   "metadata": {},
   "source": [
    "### Our final model:"
   ]
  },
  {
   "cell_type": "markdown",
   "metadata": {},
   "source": [
    "Our final model will have theese paramaters:\n",
    "- The number of trees in the forst: **n_estimators=20**\n",
    "- Unrestricted size: **max depth=8**\n",
    "- The minimum number of samples required to be at a leaf node: **min_samples_leaf=17**\n",
    "- Each node can be splitted further if it contains at least two samples **min_samples_splits=12**\n",
    "- Max_features used: **5**"
   ]
  },
  {
   "cell_type": "code",
   "execution_count": 260,
   "metadata": {
    "collapsed": true
   },
   "outputs": [],
   "source": [
    "clf = RandomForestClassifier(20,max_depth=8,min_samples_leaf=17,min_samples_split=12,max_features=5).fit(X_train, y_train)"
   ]
  },
  {
   "cell_type": "code",
   "execution_count": 238,
   "metadata": {
    "collapsed": false
   },
   "outputs": [
    {
     "name": "stdout",
     "output_type": "stream",
     "text": [
      "The score of our model on the training set is 87.27%\n",
      "The score of our model on the validation data is 80.22%\n"
     ]
    }
   ],
   "source": [
    "# Score of our model on the training set\n",
    "print (\"The score of our model on the training set is \"+str(computePrecision(clf,X_train))+\"%\")\n",
    "# Score of our model on the validation set\n",
    "print (\"The score of our model on the validation data is \"+str(computePrecision(clf,X_test))+\"%\")"
   ]
  },
  {
   "cell_type": "markdown",
   "metadata": {},
   "source": [
    "Now we try to get the most important features with our model."
   ]
  },
  {
   "cell_type": "code",
   "execution_count": 224,
   "metadata": {
    "collapsed": false
   },
   "outputs": [
    {
     "name": "stdout",
     "output_type": "stream",
     "text": [
      "Feature ranking:\n",
      "1. feature 2 (0.202125)\n",
      "2. feature 3 (0.196192)\n",
      "3. feature 1 (0.165366)\n",
      "4. feature 5 (0.145302)\n",
      "5. feature 4 (0.140294)\n",
      "6. feature 6 (0.109646)\n",
      "7. feature 15 (0.032281)\n",
      "8. feature 11 (0.002681)\n",
      "9. feature 7 (0.001842)\n",
      "10. feature 10 (0.001780)\n",
      "11. feature 0 (0.000973)\n",
      "12. feature 8 (0.000865)\n",
      "13. feature 12 (0.000324)\n",
      "14. feature 9 (0.000307)\n",
      "15. feature 13 (0.000022)\n",
      "16. feature 14 (0.000000)\n"
     ]
    },
    {
     "data": {
      "image/png": "[encoded data removed]",
      "text/plain": [
       "<matplotlib.figure.Figure at 0x1158657f0>"
      ]
     },
     "metadata": {},
     "output_type": "display_data"
    }
   ],
   "source": [
    "importances = clf.feature_importances_\n",
    "std = np.std([tree.feature_importances_ for tree in clf.estimators_],\n",
    "             axis=0)\n",
    "indices = np.argsort(importances)[::-1]\n",
    "\n",
    "# Print the feature ranking\n",
    "print(\"Feature ranking:\")\n",
    "\n",
    "for f in range(X.shape[1]):\n",
    "    print(\"%d. feature %d (%f)\" % (f + 1, indices[f], importances[indices[f]]))\n",
    "\n",
    "# Plot the feature importances of the forest\n",
    "plt.figure()\n",
    "plt.title(\"Feature importances\")\n",
    "plt.bar(range(X.shape[1]), importances[indices],\n",
    "       color=\"r\", yerr=std[indices], align=\"center\")\n",
    "plt.xticks(range(X.shape[1]), indices)\n",
    "plt.xlim([-1, X.shape[1]])\n",
    "plt.show()"
   ]
  },
  {
   "cell_type": "markdown",
   "metadata": {},
   "source": [
    "We found that the club and the league are the most important feature, followed by the refNum, the height, the birthday and the weight. The refCountry is also important, and all the other features are unsignficant."
   ]
  },
  {
   "cell_type": "markdown",
   "metadata": {},
   "source": [
    "We notice that the birthday is more important than what he shoul be, so we decided to remove it from the bigining, he might be increasing the overfitting of our model."
   ]
  },
  {
   "cell_type": "code",
   "execution_count": 235,
   "metadata": {
    "collapsed": false
   },
   "outputs": [
    {
     "data": {
      "text/html": [
       "<div>\n",
       "<table border=\"1\" class=\"dataframe\">\n",
       "  <thead>\n",
       "    <tr style=\"text-align: right;\">\n",
       "      <th></th>\n",
       "      <th>refNum</th>\n",
       "      <th>club</th>\n",
       "      <th>leagueCountry</th>\n",
       "      <th>height</th>\n",
       "      <th>weight</th>\n",
       "      <th>position</th>\n",
       "      <th>games</th>\n",
       "      <th>victories</th>\n",
       "      <th>ties</th>\n",
       "      <th>defeats</th>\n",
       "      <th>goals</th>\n",
       "      <th>yellowCards</th>\n",
       "      <th>yellowReds</th>\n",
       "      <th>redCards</th>\n",
       "      <th>refCountry</th>\n",
       "    </tr>\n",
       "    <tr>\n",
       "      <th>player</th>\n",
       "      <th></th>\n",
       "      <th></th>\n",
       "      <th></th>\n",
       "      <th></th>\n",
       "      <th></th>\n",
       "      <th></th>\n",
       "      <th></th>\n",
       "      <th></th>\n",
       "      <th></th>\n",
       "      <th></th>\n",
       "      <th></th>\n",
       "      <th></th>\n",
       "      <th></th>\n",
       "      <th></th>\n",
       "      <th></th>\n",
       "    </tr>\n",
       "  </thead>\n",
       "  <tbody>\n",
       "    <tr>\n",
       "      <th>Lucas Wilchez</th>\n",
       "      <td>1</td>\n",
       "      <td>67</td>\n",
       "      <td>3</td>\n",
       "      <td>177.0</td>\n",
       "      <td>72.0</td>\n",
       "      <td>0</td>\n",
       "      <td>1</td>\n",
       "      <td>0</td>\n",
       "      <td>0</td>\n",
       "      <td>1</td>\n",
       "      <td>0</td>\n",
       "      <td>0</td>\n",
       "      <td>0</td>\n",
       "      <td>0</td>\n",
       "      <td>1</td>\n",
       "    </tr>\n",
       "    <tr>\n",
       "      <th>John Utaka</th>\n",
       "      <td>2</td>\n",
       "      <td>48</td>\n",
       "      <td>1</td>\n",
       "      <td>179.0</td>\n",
       "      <td>82.0</td>\n",
       "      <td>11</td>\n",
       "      <td>1</td>\n",
       "      <td>0</td>\n",
       "      <td>0</td>\n",
       "      <td>1</td>\n",
       "      <td>0</td>\n",
       "      <td>1</td>\n",
       "      <td>0</td>\n",
       "      <td>0</td>\n",
       "      <td>2</td>\n",
       "    </tr>\n",
       "    <tr>\n",
       "      <th>Aaron Hughes</th>\n",
       "      <td>4</td>\n",
       "      <td>33</td>\n",
       "      <td>0</td>\n",
       "      <td>182.0</td>\n",
       "      <td>71.0</td>\n",
       "      <td>1</td>\n",
       "      <td>1</td>\n",
       "      <td>0</td>\n",
       "      <td>0</td>\n",
       "      <td>1</td>\n",
       "      <td>0</td>\n",
       "      <td>0</td>\n",
       "      <td>0</td>\n",
       "      <td>0</td>\n",
       "      <td>4</td>\n",
       "    </tr>\n",
       "    <tr>\n",
       "      <th>Aleksandar Kolarov</th>\n",
       "      <td>4</td>\n",
       "      <td>45</td>\n",
       "      <td>0</td>\n",
       "      <td>187.0</td>\n",
       "      <td>80.0</td>\n",
       "      <td>6</td>\n",
       "      <td>1</td>\n",
       "      <td>1</td>\n",
       "      <td>0</td>\n",
       "      <td>0</td>\n",
       "      <td>0</td>\n",
       "      <td>0</td>\n",
       "      <td>0</td>\n",
       "      <td>0</td>\n",
       "      <td>4</td>\n",
       "    </tr>\n",
       "    <tr>\n",
       "      <th>Alexander Tettey</th>\n",
       "      <td>4</td>\n",
       "      <td>51</td>\n",
       "      <td>0</td>\n",
       "      <td>180.0</td>\n",
       "      <td>68.0</td>\n",
       "      <td>4</td>\n",
       "      <td>1</td>\n",
       "      <td>0</td>\n",
       "      <td>0</td>\n",
       "      <td>1</td>\n",
       "      <td>0</td>\n",
       "      <td>0</td>\n",
       "      <td>0</td>\n",
       "      <td>0</td>\n",
       "      <td>4</td>\n",
       "    </tr>\n",
       "  </tbody>\n",
       "</table>\n",
       "</div>"
      ],
      "text/plain": [
       "                    refNum  club  leagueCountry  height  weight  position  \\\n",
       "player                                                                      \n",
       "Lucas Wilchez            1    67              3   177.0    72.0         0   \n",
       "John Utaka               2    48              1   179.0    82.0        11   \n",
       "Aaron Hughes             4    33              0   182.0    71.0         1   \n",
       "Aleksandar Kolarov       4    45              0   187.0    80.0         6   \n",
       "Alexander Tettey         4    51              0   180.0    68.0         4   \n",
       "\n",
       "                    games  victories  ties  defeats  goals  yellowCards  \\\n",
       "player                                                                    \n",
       "Lucas Wilchez           1          0     0        1      0            0   \n",
       "John Utaka              1          0     0        1      0            1   \n",
       "Aaron Hughes            1          0     0        1      0            0   \n",
       "Aleksandar Kolarov      1          1     0        0      0            0   \n",
       "Alexander Tettey        1          0     0        1      0            0   \n",
       "\n",
       "                    yellowReds  redCards  refCountry  \n",
       "player                                                \n",
       "Lucas Wilchez                0         0           1  \n",
       "John Utaka                   0         0           2  \n",
       "Aaron Hughes                 0         0           4  \n",
       "Aleksandar Kolarov           0         0           4  \n",
       "Alexander Tettey             0         0           4  "
      ]
     },
     "execution_count": 235,
     "metadata": {},
     "output_type": "execute_result"
    }
   ],
   "source": [
    "newX_train = X_train.drop(\"birthday\",axis=1)\n",
    "newX_test = X_test.drop(\"birthday\",axis=1)\n",
    "newX = X.drop(\"birthday\",axis=1)\n",
    "newX.head()"
   ]
  },
  {
   "cell_type": "code",
   "execution_count": 228,
   "metadata": {
    "collapsed": true
   },
   "outputs": [],
   "source": [
    "clf = RandomForestClassifier(20,max_depth=8,min_samples_leaf=17,min_samples_split=12,max_features=5).fit(newX_train, y_train)"
   ]
  },
  {
   "cell_type": "code",
   "execution_count": 229,
   "metadata": {
    "collapsed": false
   },
   "outputs": [
    {
     "name": "stdout",
     "output_type": "stream",
     "text": [
      "The score of our model on the training set is 85.53%\n",
      "The score of our model on the validation data is 79.95%\n"
     ]
    }
   ],
   "source": [
    "# Score of our model on the training set\n",
    "print (\"The score of our model on the training set is \"+str(computePrecision(clf,newX_train))+\"%\")\n",
    "# Score of our model on the validation set\n",
    "print (\"The score of our model on the validation data is \"+str(computePrecision(clf,newX_test))+\"%\")"
   ]
  },
  {
   "cell_type": "code",
   "execution_count": 232,
   "metadata": {
    "collapsed": false
   },
   "outputs": [
    {
     "name": "stdout",
     "output_type": "stream",
     "text": [
      "Feature ranking:\n",
      "1. feature 2 (0.231361)\n",
      "2. feature 1 (0.199386)\n",
      "3. feature 4 (0.186873)\n",
      "4. feature 3 (0.173742)\n",
      "5. feature 5 (0.170604)\n",
      "6. feature 14 (0.025705)\n",
      "7. feature 10 (0.004156)\n",
      "8. feature 6 (0.002638)\n",
      "9. feature 9 (0.002030)\n",
      "10. feature 0 (0.001207)\n",
      "11. feature 7 (0.000965)\n",
      "12. feature 11 (0.000956)\n",
      "13. feature 8 (0.000378)\n",
      "14. feature 13 (0.000000)\n",
      "15. feature 12 (0.000000)\n"
     ]
    },
    {
     "data": {
      "image/png": "[encoded data removed]",
      "text/plain": [
       "<matplotlib.figure.Figure at 0x1144fac88>"
      ]
     },
     "metadata": {},
     "output_type": "display_data"
    }
   ],
   "source": [
    "importances = clf.feature_importances_\n",
    "std = np.std([tree.feature_importances_ for tree in clf.estimators_],\n",
    "             axis=0)\n",
    "indices = np.argsort(importances)[::-1]\n",
    "\n",
    "# Print the feature ranking\n",
    "print(\"Feature ranking:\")\n",
    "\n",
    "for f in range(newX.shape[1]):\n",
    "    print(\"%d. feature %d (%f)\" % (f + 1, indices[f], importances[indices[f]]))\n",
    "\n",
    "# Plot the feature importances of the forest\n",
    "plt.figure()\n",
    "plt.title(\"Feature importances\")\n",
    "plt.bar(range(newX.shape[1]), importances[indices],\n",
    "       color=\"r\", yerr=std[indices], align=\"center\")\n",
    "plt.xticks(range(newX.shape[1]), indices)\n",
    "plt.xlim([-1, newX.shape[1]])\n",
    "plt.show()"
   ]
  },
  {
   "cell_type": "markdown",
   "metadata": {},
   "source": [
    "We found out that the most important features after removing the birthday doesn't change a lot: club, refree, height, leagueCountry and weight. Then the refCountry is less important than the first 5 but more important than the others."
   ]
  },
  {
   "cell_type": "markdown",
   "metadata": {},
   "source": [
    "# 2. Unsupervised Learning"
   ]
  },
  {
   "cell_type": "markdown",
   "metadata": {},
   "source": [
    "## 1. Data pre-processing"
   ]
  },
  {
   "cell_type": "code",
   "execution_count": 262,
   "metadata": {
    "collapsed": false
   },
   "outputs": [
    {
     "data": {
      "text/html": [
       "<div>\n",
       "<table border=\"1\" class=\"dataframe\">\n",
       "  <thead>\n",
       "    <tr style=\"text-align: right;\">\n",
       "      <th></th>\n",
       "      <th>defeats</th>\n",
       "      <th>ties</th>\n",
       "      <th>redCards</th>\n",
       "      <th>height</th>\n",
       "      <th>rater</th>\n",
       "      <th>yellowCards</th>\n",
       "      <th>position</th>\n",
       "      <th>weight</th>\n",
       "      <th>goals</th>\n",
       "      <th>yellowReds</th>\n",
       "      <th>games</th>\n",
       "      <th>victories</th>\n",
       "    </tr>\n",
       "    <tr>\n",
       "      <th>player</th>\n",
       "      <th></th>\n",
       "      <th></th>\n",
       "      <th></th>\n",
       "      <th></th>\n",
       "      <th></th>\n",
       "      <th></th>\n",
       "      <th></th>\n",
       "      <th></th>\n",
       "      <th></th>\n",
       "      <th></th>\n",
       "      <th></th>\n",
       "      <th></th>\n",
       "    </tr>\n",
       "  </thead>\n",
       "  <tbody>\n",
       "    <tr>\n",
       "      <th>Adriano</th>\n",
       "      <td>85</td>\n",
       "      <td>59</td>\n",
       "      <td>3</td>\n",
       "      <td>172.0</td>\n",
       "      <td>0.0</td>\n",
       "      <td>58</td>\n",
       "      <td>7</td>\n",
       "      <td>67.0</td>\n",
       "      <td>33</td>\n",
       "      <td>1</td>\n",
       "      <td>373</td>\n",
       "      <td>229</td>\n",
       "    </tr>\n",
       "    <tr>\n",
       "      <th>Adrián</th>\n",
       "      <td>95</td>\n",
       "      <td>73</td>\n",
       "      <td>0</td>\n",
       "      <td>184.0</td>\n",
       "      <td>0.0</td>\n",
       "      <td>19</td>\n",
       "      <td>2</td>\n",
       "      <td>75.0</td>\n",
       "      <td>60</td>\n",
       "      <td>0</td>\n",
       "      <td>323</td>\n",
       "      <td>155</td>\n",
       "    </tr>\n",
       "    <tr>\n",
       "      <th>Adrián Colunga</th>\n",
       "      <td>82</td>\n",
       "      <td>43</td>\n",
       "      <td>0</td>\n",
       "      <td>171.0</td>\n",
       "      <td>0.0</td>\n",
       "      <td>22</td>\n",
       "      <td>2</td>\n",
       "      <td>69.0</td>\n",
       "      <td>39</td>\n",
       "      <td>1</td>\n",
       "      <td>178</td>\n",
       "      <td>53</td>\n",
       "    </tr>\n",
       "    <tr>\n",
       "      <th>Aduriz</th>\n",
       "      <td>115</td>\n",
       "      <td>82</td>\n",
       "      <td>4</td>\n",
       "      <td>182.0</td>\n",
       "      <td>0.0</td>\n",
       "      <td>68</td>\n",
       "      <td>2</td>\n",
       "      <td>78.0</td>\n",
       "      <td>105</td>\n",
       "      <td>3</td>\n",
       "      <td>322</td>\n",
       "      <td>125</td>\n",
       "    </tr>\n",
       "    <tr>\n",
       "      <th>Adán</th>\n",
       "      <td>16</td>\n",
       "      <td>6</td>\n",
       "      <td>1</td>\n",
       "      <td>190.0</td>\n",
       "      <td>0.0</td>\n",
       "      <td>1</td>\n",
       "      <td>5</td>\n",
       "      <td>88.0</td>\n",
       "      <td>0</td>\n",
       "      <td>0</td>\n",
       "      <td>44</td>\n",
       "      <td>22</td>\n",
       "    </tr>\n",
       "  </tbody>\n",
       "</table>\n",
       "</div>"
      ],
      "text/plain": [
       "                 defeats  ties  redCards  height  rater  yellowCards  \\\n",
       "player                                                                 \n",
       " Adriano              85    59         3   172.0    0.0           58   \n",
       " Adrián               95    73         0   184.0    0.0           19   \n",
       " Adrián Colunga       82    43         0   171.0    0.0           22   \n",
       " Aduriz              115    82         4   182.0    0.0           68   \n",
       " Adán                 16     6         1   190.0    0.0            1   \n",
       "\n",
       "                 position  weight  goals  yellowReds  games  victories  \n",
       "player                                                                  \n",
       " Adriano                7    67.0     33           1    373        229  \n",
       " Adrián                 2    75.0     60           0    323        155  \n",
       " Adrián Colunga         2    69.0     39           1    178         53  \n",
       " Aduriz                 2    78.0    105           3    322        125  \n",
       " Adán                   5    88.0      0           0     44         22  "
      ]
     },
     "execution_count": 262,
     "metadata": {},
     "output_type": "execute_result"
    }
   ],
   "source": [
    "unsupervisedData = supervisedData.copy()\n",
    "\n",
    "# Encode string columns\n",
    "le = LabelEncoder()\n",
    "# Position column contain some nan values so we need to convert the type to string before encoding\n",
    "unsupervisedData.position = unsupervisedData.position.apply(lambda x:str(x))\n",
    "unsupervisedData[\"position\"] = le.fit(unsupervisedData.position).transform(unsupervisedData.position)\n",
    "\n",
    "# For height and weight column we will replace nan values with the mean height/weight\n",
    "meanWeight = round(unsupervisedData.weight.mean(),0)\n",
    "unsupervisedData.weight = unsupervisedData.weight.fillna(meanWeight)\n",
    "meanHeight = round(unsupervisedData.height.mean(),0)\n",
    "unsupervisedData.height = unsupervisedData.height.fillna(meanHeight)\n",
    "\n",
    "aggregationFunction={\n",
    "     'height': np.mean,\n",
    "     'weight':np.mean,\n",
    "     'position':lambda x:x.value_counts().index[0],\n",
    "     'games': np.sum,\n",
    "     'victories':np.sum,\n",
    "     'ties': np.sum,\n",
    "     'defeats': np.sum,\n",
    "     'goals': np.sum,\n",
    "     'yellowCards':np.sum,\n",
    "     'yellowReds': np.sum,\n",
    "     'redCards':np.sum,\n",
    "     'rater':'first', \n",
    "}\n",
    "\n",
    "\n",
    "unsupervisedData = unsupervisedData.reset_index().drop(['refNum',     # Related to the referee\n",
    "                                                        'refCountry',# Related to the referee\n",
    "                                                        'club', \n",
    "                                                        'birthday',\n",
    "                                                        'leagueCountry'], axis=1)\n",
    "unsupervisedData = unsupervisedData.sort_values(by='player').groupby('player').agg(aggregationFunction)\n",
    "unsupervisedData[\"height\"] = round(unsupervisedData[\"height\"],0)\n",
    "unsupervisedData[\"weight\"] = round(unsupervisedData[\"weight\"],0)\n",
    "\n",
    "unsupervisedData.head()"
   ]
  },
  {
   "cell_type": "code",
   "execution_count": 263,
   "metadata": {
    "collapsed": true
   },
   "outputs": [],
   "source": [
    "X_unsupervised = unsupervisedData.drop('rater',axis = 1)\n",
    "y_unsupervised = unsupervisedData['rater']\n",
    "y_unsupervised = le.fit(y_unsupervised).transform(y_unsupervised)"
   ]
  },
  {
   "cell_type": "markdown",
   "metadata": {},
   "source": [
    "# 2. Clustering KMeans "
   ]
  },
  {
   "cell_type": "code",
   "execution_count": 264,
   "metadata": {
    "collapsed": true
   },
   "outputs": [],
   "source": [
    "def clusteringScore(model, X, y):\n",
    "    labels = model.labels_\n",
    "    silhouette_score = metrics.silhouette_score(X, labels, metric='euclidean')\n",
    "    return silhouette_score\n",
    "    #print(\"silhouette score: \"+ str(silhouette_score))"
   ]
  },
  {
   "cell_type": "code",
   "execution_count": 265,
   "metadata": {
    "collapsed": true
   },
   "outputs": [],
   "source": [
    "# Remove features iteratively, and at each step perform again the clustering and compute the silhouette score\n",
    "def clustering(X, y, previousBestScore):\n",
    "    actualBestScore=-1\n",
    "    for i in range(0, X.columns.size):\n",
    "        newX = X.drop(X.columns[i], axis=1)\n",
    "        kmeans_model = KMeans(n_clusters=2, random_state=1).fit(newX)\n",
    "        score = clusteringScore(kmeans_model, newX, y)\n",
    "        if(score > actualBestScore):\n",
    "            actualBestScore = score\n",
    "            idxColumnToDrop = i\n",
    "    #print(actualBestScore)\n",
    "    #print(previousBestScore)\n",
    "    if (actualBestScore>previousBestScore and X.columns.size>2 ):\n",
    "        toDrop = X.columns[idxColumnToDrop]\n",
    "        #print(toDrop)\n",
    "        return clustering(X.drop([toDrop],axis=1),y,actualBestScore)\n",
    "    else:\n",
    "        finalBestScore = round(clusteringScore(KMeans(n_clusters=2, random_state=1).fit(X), X, y),3)\n",
    "        print(\"The highest silhouette score is \" +str(finalBestScore)+ \" with features: \")\n",
    "        return X.head()"
   ]
  },
  {
   "cell_type": "code",
   "execution_count": 270,
   "metadata": {
    "collapsed": false
   },
   "outputs": [
    {
     "name": "stdout",
     "output_type": "stream",
     "text": [
      "The highest silhouette score is 0.605 with features: \n"
     ]
    },
    {
     "data": {
      "text/html": [
       "<div>\n",
       "<table border=\"1\" class=\"dataframe\">\n",
       "  <thead>\n",
       "    <tr style=\"text-align: right;\">\n",
       "      <th></th>\n",
       "      <th>redCards</th>\n",
       "      <th>games</th>\n",
       "    </tr>\n",
       "    <tr>\n",
       "      <th>player</th>\n",
       "      <th></th>\n",
       "      <th></th>\n",
       "    </tr>\n",
       "  </thead>\n",
       "  <tbody>\n",
       "    <tr>\n",
       "      <th>Adriano</th>\n",
       "      <td>3</td>\n",
       "      <td>373</td>\n",
       "    </tr>\n",
       "    <tr>\n",
       "      <th>Adrián</th>\n",
       "      <td>0</td>\n",
       "      <td>323</td>\n",
       "    </tr>\n",
       "    <tr>\n",
       "      <th>Adrián Colunga</th>\n",
       "      <td>0</td>\n",
       "      <td>178</td>\n",
       "    </tr>\n",
       "    <tr>\n",
       "      <th>Aduriz</th>\n",
       "      <td>4</td>\n",
       "      <td>322</td>\n",
       "    </tr>\n",
       "    <tr>\n",
       "      <th>Adán</th>\n",
       "      <td>1</td>\n",
       "      <td>44</td>\n",
       "    </tr>\n",
       "  </tbody>\n",
       "</table>\n",
       "</div>"
      ],
      "text/plain": [
       "                 redCards  games\n",
       "player                          \n",
       " Adriano                3    373\n",
       " Adrián                 0    323\n",
       " Adrián Colunga         0    178\n",
       " Aduriz                 4    322\n",
       " Adán                   1     44"
      ]
     },
     "execution_count": 270,
     "metadata": {},
     "output_type": "execute_result"
    }
   ],
   "source": [
    "clustering(X_unsupervised, y_unsupervised,-1)"
   ]
  },
  {
   "cell_type": "markdown",
   "metadata": {},
   "source": [
    "## 3. Conclusion:"
   ]
  },
  {
   "cell_type": "markdown",
   "metadata": {},
   "source": [
    "With only the two features 'games' and 'redCards', we obtain the highest silhouette score for clustering our players into two distincts groups 'light skin' and 'dark skin'. However we cannot conclude that a player with high ratio of red cards per game is a dark skin toned player."
   ]
  },
  {
   "cell_type": "code",
   "execution_count": 273,
   "metadata": {
    "collapsed": false
   },
   "outputs": [
    {
     "data": {
      "image/jpeg": "[encoded data removed]",
      "text/plain": [
       "<IPython.core.display.Image object>"
      ]
     },
     "execution_count": 273,
     "metadata": {},
     "output_type": "execute_result"
    }
   ],
   "source": [
    "Image(\"KIO.jpg\")"
   ]
  }
 ],
 "metadata": {
  "anaconda-cloud": {},
  "kernelspec": {
   "display_name": "Python [conda root]",
   "language": "python",
   "name": "conda-root-py"
  },
  "language_info": {
   "codemirror_mode": {
    "name": "ipython",
    "version": 3
   },
   "file_extension": ".py",
   "mimetype": "text/x-python",
   "name": "python",
   "nbconvert_exporter": "python",
   "pygments_lexer": "ipython3",
   "version": "3.5.2"
  }
 },
 "nbformat": 4,
 "nbformat_minor": 1
}
