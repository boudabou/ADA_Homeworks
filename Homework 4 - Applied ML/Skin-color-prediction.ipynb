{
 "cells": [
  {
   "cell_type": "code",
   "execution_count": 1,
   "metadata": {
    "collapsed": false
   },
   "outputs": [],
   "source": [
    "import pandas as pd                                     \n",
    "import numpy as np                                     \n",
    "import os                                              \n",
    "import matplotlib.pyplot as plt\n",
    "from sklearn.ensemble import RandomForestClassifier\n",
    "from sklearn.preprocessing import LabelEncoder\n",
    "from sklearn.model_selection import cross_val_score\n",
    "%matplotlib inline"
   ]
  },
  {
   "cell_type": "markdown",
   "metadata": {},
   "source": [
    "# 1. Data exploration & cleaning"
   ]
  },
  {
   "cell_type": "markdown",
   "metadata": {},
   "source": [
    "In this section we will clean the data to output a dataset on which we can learn our models."
   ]
  },
  {
   "cell_type": "code",
   "execution_count": 4,
   "metadata": {
    "collapsed": false
   },
   "outputs": [
    {
     "data": {
      "text/html": [
       "<div>\n",
       "<table border=\"1\" class=\"dataframe\">\n",
       "  <thead>\n",
       "    <tr style=\"text-align: right;\">\n",
       "      <th></th>\n",
       "      <th></th>\n",
       "      <th>playerShort</th>\n",
       "      <th>club</th>\n",
       "      <th>leagueCountry</th>\n",
       "      <th>birthday</th>\n",
       "      <th>height</th>\n",
       "      <th>weight</th>\n",
       "      <th>position</th>\n",
       "      <th>games</th>\n",
       "      <th>victories</th>\n",
       "      <th>ties</th>\n",
       "      <th>defeats</th>\n",
       "      <th>goals</th>\n",
       "      <th>yellowCards</th>\n",
       "    </tr>\n",
       "    <tr>\n",
       "      <th>player</th>\n",
       "      <th>refNum</th>\n",
       "      <th></th>\n",
       "      <th></th>\n",
       "      <th></th>\n",
       "      <th></th>\n",
       "      <th></th>\n",
       "      <th></th>\n",
       "      <th></th>\n",
       "      <th></th>\n",
       "      <th></th>\n",
       "      <th></th>\n",
       "      <th></th>\n",
       "      <th></th>\n",
       "      <th></th>\n",
       "    </tr>\n",
       "  </thead>\n",
       "  <tbody>\n",
       "    <tr>\n",
       "      <th>Lucas Wilchez</th>\n",
       "      <th>1</th>\n",
       "      <td>lucas-wilchez</td>\n",
       "      <td>Real Zaragoza</td>\n",
       "      <td>Spain</td>\n",
       "      <td>31.08.1983</td>\n",
       "      <td>177.0</td>\n",
       "      <td>72.0</td>\n",
       "      <td>Attacking Midfielder</td>\n",
       "      <td>1</td>\n",
       "      <td>0</td>\n",
       "      <td>0</td>\n",
       "      <td>1</td>\n",
       "      <td>0</td>\n",
       "      <td>0</td>\n",
       "    </tr>\n",
       "    <tr>\n",
       "      <th>John Utaka</th>\n",
       "      <th>2</th>\n",
       "      <td>john-utaka</td>\n",
       "      <td>Montpellier HSC</td>\n",
       "      <td>France</td>\n",
       "      <td>08.01.1982</td>\n",
       "      <td>179.0</td>\n",
       "      <td>82.0</td>\n",
       "      <td>Right Winger</td>\n",
       "      <td>1</td>\n",
       "      <td>0</td>\n",
       "      <td>0</td>\n",
       "      <td>1</td>\n",
       "      <td>0</td>\n",
       "      <td>1</td>\n",
       "    </tr>\n",
       "  </tbody>\n",
       "</table>\n",
       "</div>"
      ],
      "text/plain": [
       "                        playerShort             club leagueCountry  \\\n",
       "player        refNum                                                 \n",
       "Lucas Wilchez 1       lucas-wilchez    Real Zaragoza         Spain   \n",
       "John Utaka    2          john-utaka  Montpellier HSC        France   \n",
       "\n",
       "                        birthday  height  weight              position  games  \\\n",
       "player        refNum                                                            \n",
       "Lucas Wilchez 1       31.08.1983   177.0    72.0  Attacking Midfielder      1   \n",
       "John Utaka    2       08.01.1982   179.0    82.0          Right Winger      1   \n",
       "\n",
       "                      victories  ties  defeats  goals  yellowCards  \n",
       "player        refNum                                                \n",
       "Lucas Wilchez 1               0     0        1      0            0  \n",
       "John Utaka    2               0     0        1      0            1  "
      ]
     },
     "execution_count": 4,
     "metadata": {},
     "output_type": "execute_result"
    }
   ],
   "source": [
    "# Import data\n",
    "data = pd.read_csv(os.path.join('CrowdstormingDataJuly1st.csv'))\n",
    "indexed_data=data.set_index(keys=['player','refNum'])\n",
    "indexed_data.ix[:2,:13]"
   ]
  },
  {
   "cell_type": "code",
   "execution_count": 5,
   "metadata": {
    "collapsed": false
   },
   "outputs": [
    {
     "data": {
      "text/html": [
       "<div>\n",
       "<table border=\"1\" class=\"dataframe\">\n",
       "  <thead>\n",
       "    <tr style=\"text-align: right;\">\n",
       "      <th></th>\n",
       "      <th></th>\n",
       "      <th>yellowReds</th>\n",
       "      <th>redCards</th>\n",
       "      <th>photoID</th>\n",
       "      <th>rater1</th>\n",
       "      <th>rater2</th>\n",
       "      <th>refCountry</th>\n",
       "      <th>Alpha_3</th>\n",
       "      <th>meanIAT</th>\n",
       "      <th>nIAT</th>\n",
       "      <th>seIAT</th>\n",
       "      <th>meanExp</th>\n",
       "      <th>nExp</th>\n",
       "      <th>seExp</th>\n",
       "    </tr>\n",
       "    <tr>\n",
       "      <th>player</th>\n",
       "      <th>refNum</th>\n",
       "      <th></th>\n",
       "      <th></th>\n",
       "      <th></th>\n",
       "      <th></th>\n",
       "      <th></th>\n",
       "      <th></th>\n",
       "      <th></th>\n",
       "      <th></th>\n",
       "      <th></th>\n",
       "      <th></th>\n",
       "      <th></th>\n",
       "      <th></th>\n",
       "      <th></th>\n",
       "    </tr>\n",
       "  </thead>\n",
       "  <tbody>\n",
       "    <tr>\n",
       "      <th>Lucas Wilchez</th>\n",
       "      <th>1</th>\n",
       "      <td>0</td>\n",
       "      <td>0</td>\n",
       "      <td>95212.jpg</td>\n",
       "      <td>0.25</td>\n",
       "      <td>0.50</td>\n",
       "      <td>1</td>\n",
       "      <td>GRC</td>\n",
       "      <td>0.326391</td>\n",
       "      <td>712.0</td>\n",
       "      <td>0.000564</td>\n",
       "      <td>0.396000</td>\n",
       "      <td>750.0</td>\n",
       "      <td>0.002696</td>\n",
       "    </tr>\n",
       "    <tr>\n",
       "      <th>John Utaka</th>\n",
       "      <th>2</th>\n",
       "      <td>0</td>\n",
       "      <td>0</td>\n",
       "      <td>1663.jpg</td>\n",
       "      <td>0.75</td>\n",
       "      <td>0.75</td>\n",
       "      <td>2</td>\n",
       "      <td>ZMB</td>\n",
       "      <td>0.203375</td>\n",
       "      <td>40.0</td>\n",
       "      <td>0.010875</td>\n",
       "      <td>-0.204082</td>\n",
       "      <td>49.0</td>\n",
       "      <td>0.061504</td>\n",
       "    </tr>\n",
       "  </tbody>\n",
       "</table>\n",
       "</div>"
      ],
      "text/plain": [
       "                      yellowReds  redCards    photoID  rater1  rater2  \\\n",
       "player        refNum                                                    \n",
       "Lucas Wilchez 1                0         0  95212.jpg    0.25    0.50   \n",
       "John Utaka    2                0         0   1663.jpg    0.75    0.75   \n",
       "\n",
       "                      refCountry Alpha_3   meanIAT   nIAT     seIAT   meanExp  \\\n",
       "player        refNum                                                            \n",
       "Lucas Wilchez 1                1     GRC  0.326391  712.0  0.000564  0.396000   \n",
       "John Utaka    2                2     ZMB  0.203375   40.0  0.010875 -0.204082   \n",
       "\n",
       "                       nExp     seExp  \n",
       "player        refNum                   \n",
       "Lucas Wilchez 1       750.0  0.002696  \n",
       "John Utaka    2        49.0  0.061504  "
      ]
     },
     "execution_count": 5,
     "metadata": {},
     "output_type": "execute_result"
    }
   ],
   "source": [
    "indexed_data.ix[:2,13:]"
   ]
  },
  {
   "cell_type": "code",
   "execution_count": 6,
   "metadata": {
    "collapsed": false
   },
   "outputs": [
    {
     "data": {
      "text/plain": [
       "False"
      ]
     },
     "execution_count": 6,
     "metadata": {},
     "output_type": "execute_result"
    }
   ],
   "source": [
    "# Make sure that we have only one entry per player-referee dyad\n",
    "indexed_data.index.is_unique"
   ]
  },
  {
   "cell_type": "markdown",
   "metadata": {},
   "source": [
    "There is not a single player-referee dyad. This is the first problem we need to fix. Let's figure out what is going on:"
   ]
  },
  {
   "cell_type": "code",
   "execution_count": 7,
   "metadata": {
    "collapsed": false
   },
   "outputs": [
    {
     "data": {
      "text/html": [
       "<div>\n",
       "<table border=\"1\" class=\"dataframe\">\n",
       "  <thead>\n",
       "    <tr style=\"text-align: right;\">\n",
       "      <th></th>\n",
       "      <th></th>\n",
       "      <th>playerShort</th>\n",
       "      <th>club</th>\n",
       "      <th>leagueCountry</th>\n",
       "      <th>birthday</th>\n",
       "      <th>height</th>\n",
       "      <th>weight</th>\n",
       "      <th>position</th>\n",
       "      <th>games</th>\n",
       "      <th>victories</th>\n",
       "      <th>ties</th>\n",
       "      <th>...</th>\n",
       "      <th>rater1</th>\n",
       "      <th>rater2</th>\n",
       "      <th>refCountry</th>\n",
       "      <th>Alpha_3</th>\n",
       "      <th>meanIAT</th>\n",
       "      <th>nIAT</th>\n",
       "      <th>seIAT</th>\n",
       "      <th>meanExp</th>\n",
       "      <th>nExp</th>\n",
       "      <th>seExp</th>\n",
       "    </tr>\n",
       "    <tr>\n",
       "      <th>player</th>\n",
       "      <th>refNum</th>\n",
       "      <th></th>\n",
       "      <th></th>\n",
       "      <th></th>\n",
       "      <th></th>\n",
       "      <th></th>\n",
       "      <th></th>\n",
       "      <th></th>\n",
       "      <th></th>\n",
       "      <th></th>\n",
       "      <th></th>\n",
       "      <th></th>\n",
       "      <th></th>\n",
       "      <th></th>\n",
       "      <th></th>\n",
       "      <th></th>\n",
       "      <th></th>\n",
       "      <th></th>\n",
       "      <th></th>\n",
       "      <th></th>\n",
       "      <th></th>\n",
       "      <th></th>\n",
       "    </tr>\n",
       "  </thead>\n",
       "  <tbody>\n",
       "    <tr>\n",
       "      <th rowspan=\"2\" valign=\"top\">André Santos</th>\n",
       "      <th>88</th>\n",
       "      <td>andre-santos</td>\n",
       "      <td>Arsenal FC</td>\n",
       "      <td>England</td>\n",
       "      <td>08.03.1983</td>\n",
       "      <td>180.0</td>\n",
       "      <td>74.0</td>\n",
       "      <td>Left Fullback</td>\n",
       "      <td>1</td>\n",
       "      <td>0</td>\n",
       "      <td>0</td>\n",
       "      <td>...</td>\n",
       "      <td>0.50</td>\n",
       "      <td>0.50</td>\n",
       "      <td>3</td>\n",
       "      <td>ESP</td>\n",
       "      <td>0.369894</td>\n",
       "      <td>1785.0</td>\n",
       "      <td>0.000229</td>\n",
       "      <td>0.588297</td>\n",
       "      <td>1897.0</td>\n",
       "      <td>0.001002</td>\n",
       "    </tr>\n",
       "    <tr>\n",
       "      <th>88</th>\n",
       "      <td>andre-santos_2</td>\n",
       "      <td>Deportivo La Coruña</td>\n",
       "      <td>Spain</td>\n",
       "      <td>02.03.1989</td>\n",
       "      <td>178.0</td>\n",
       "      <td>72.0</td>\n",
       "      <td>Center Midfielder</td>\n",
       "      <td>1</td>\n",
       "      <td>0</td>\n",
       "      <td>1</td>\n",
       "      <td>...</td>\n",
       "      <td>0.25</td>\n",
       "      <td>0.25</td>\n",
       "      <td>3</td>\n",
       "      <td>ESP</td>\n",
       "      <td>0.369894</td>\n",
       "      <td>1785.0</td>\n",
       "      <td>0.000229</td>\n",
       "      <td>0.588297</td>\n",
       "      <td>1897.0</td>\n",
       "      <td>0.001002</td>\n",
       "    </tr>\n",
       "  </tbody>\n",
       "</table>\n",
       "<p>2 rows × 26 columns</p>\n",
       "</div>"
      ],
      "text/plain": [
       "                         playerShort                 club leagueCountry  \\\n",
       "player        refNum                                                      \n",
       " André Santos 88        andre-santos           Arsenal FC       England   \n",
       "              88      andre-santos_2  Deportivo La Coruña         Spain   \n",
       "\n",
       "                        birthday  height  weight           position  games  \\\n",
       "player        refNum                                                         \n",
       " André Santos 88      08.03.1983   180.0    74.0      Left Fullback      1   \n",
       "              88      02.03.1989   178.0    72.0  Center Midfielder      1   \n",
       "\n",
       "                      victories  ties    ...     rater1  rater2  refCountry  \\\n",
       "player        refNum                     ...                                  \n",
       " André Santos 88              0     0    ...       0.50    0.50           3   \n",
       "              88              0     1    ...       0.25    0.25           3   \n",
       "\n",
       "                      Alpha_3   meanIAT    nIAT     seIAT   meanExp    nExp  \\\n",
       "player        refNum                                                          \n",
       " André Santos 88          ESP  0.369894  1785.0  0.000229  0.588297  1897.0   \n",
       "              88          ESP  0.369894  1785.0  0.000229  0.588297  1897.0   \n",
       "\n",
       "                         seExp  \n",
       "player        refNum            \n",
       " André Santos 88      0.001002  \n",
       "              88      0.001002  \n",
       "\n",
       "[2 rows x 26 columns]"
      ]
     },
     "execution_count": 7,
     "metadata": {},
     "output_type": "execute_result"
    }
   ],
   "source": [
    "# Compute the player-refree indexes present in the table more than once\n",
    "test_duplicate= data.groupby(by=['player','refNum']).count()\n",
    "duplicate=test_duplicate.loc[test_duplicate['club']>1]\n",
    "indexed_data.loc[duplicate.index].head(2)"
   ]
  },
  {
   "cell_type": "markdown",
   "metadata": {},
   "source": [
    "Now we can see that the origin of the problem is that some players that are transfered from a club to another may have multiple entries for the same referee (one entry per club). So we will merge these entries into one single entry so that we have a single entry per player-ref. As the features related to the referee and its country as well as player information will be the same across duplicated entries we will save just one copy (using agg function 'first'). However, the features related to the rating may differ. One possible solution is to take the most commun value across the different entries for rater 1 as well as for rater 2.\n",
    "Obviously, features like card number, games, defeats... must be summed (using agg function 'sum') "
   ]
  },
  {
   "cell_type": "code",
   "execution_count": 8,
   "metadata": {
    "collapsed": false
   },
   "outputs": [
    {
     "name": "stdout",
     "output_type": "stream",
     "text": [
      "We need to have a table with 145712 different player-ref entries.\n"
     ]
    }
   ],
   "source": [
    "total_number_dyads= len(indexed_data.index.unique())\n",
    "print(\"We need to have a table with \"+str(total_number_dyads)+\" different player-ref entries.\")"
   ]
  },
  {
   "cell_type": "code",
   "execution_count": 9,
   "metadata": {
    "collapsed": false
   },
   "outputs": [],
   "source": [
    "# set of all different indexes\n",
    "all_indexes=set(indexed_data.index.unique())\n",
    "# set of all indexes that have duplicated entries\n",
    "duplicate_indexes=set(duplicate.index.unique())\n",
    "# compute all indexes that have a single entry in the original table\n",
    "single_entry_indexes= all_indexes.difference(duplicate_indexes)\n",
    "# Extract the rows of the original data with only one entry per player-ref\n",
    "good_data=indexed_data.loc[list(single_entry_indexes)]"
   ]
  },
  {
   "cell_type": "code",
   "execution_count": 10,
   "metadata": {
    "collapsed": false
   },
   "outputs": [
    {
     "data": {
      "text/html": [
       "<div>\n",
       "<table border=\"1\" class=\"dataframe\">\n",
       "  <thead>\n",
       "    <tr style=\"text-align: right;\">\n",
       "      <th></th>\n",
       "      <th></th>\n",
       "      <th>defeats</th>\n",
       "      <th>weight</th>\n",
       "      <th>photoID</th>\n",
       "      <th>yellowReds</th>\n",
       "      <th>nExp</th>\n",
       "      <th>position</th>\n",
       "      <th>leagueCountry</th>\n",
       "      <th>birthday</th>\n",
       "      <th>goals</th>\n",
       "      <th>rater2</th>\n",
       "      <th>...</th>\n",
       "      <th>meanExp</th>\n",
       "      <th>height</th>\n",
       "      <th>meanIAT</th>\n",
       "      <th>seIAT</th>\n",
       "      <th>nIAT</th>\n",
       "      <th>Alpha_3</th>\n",
       "      <th>playerShort</th>\n",
       "      <th>rater1</th>\n",
       "      <th>refCountry</th>\n",
       "      <th>ties</th>\n",
       "    </tr>\n",
       "    <tr>\n",
       "      <th>player</th>\n",
       "      <th>refNum</th>\n",
       "      <th></th>\n",
       "      <th></th>\n",
       "      <th></th>\n",
       "      <th></th>\n",
       "      <th></th>\n",
       "      <th></th>\n",
       "      <th></th>\n",
       "      <th></th>\n",
       "      <th></th>\n",
       "      <th></th>\n",
       "      <th></th>\n",
       "      <th></th>\n",
       "      <th></th>\n",
       "      <th></th>\n",
       "      <th></th>\n",
       "      <th></th>\n",
       "      <th></th>\n",
       "      <th></th>\n",
       "      <th></th>\n",
       "      <th></th>\n",
       "      <th></th>\n",
       "    </tr>\n",
       "  </thead>\n",
       "  <tbody>\n",
       "    <tr>\n",
       "      <th rowspan=\"2\" valign=\"top\">André Santos</th>\n",
       "      <th>88</th>\n",
       "      <td>1</td>\n",
       "      <td>73.0</td>\n",
       "      <td>52851.jpg</td>\n",
       "      <td>0</td>\n",
       "      <td>1897.0</td>\n",
       "      <td>Left Fullback</td>\n",
       "      <td>England</td>\n",
       "      <td>08.03.1983</td>\n",
       "      <td>0</td>\n",
       "      <td>0.25</td>\n",
       "      <td>...</td>\n",
       "      <td>0.588297</td>\n",
       "      <td>179.0</td>\n",
       "      <td>0.369894</td>\n",
       "      <td>0.000229</td>\n",
       "      <td>1785.0</td>\n",
       "      <td>ESP</td>\n",
       "      <td>andre-santos</td>\n",
       "      <td>0.25</td>\n",
       "      <td>3</td>\n",
       "      <td>1</td>\n",
       "    </tr>\n",
       "    <tr>\n",
       "      <th>408</th>\n",
       "      <td>3</td>\n",
       "      <td>73.0</td>\n",
       "      <td>52851.jpg</td>\n",
       "      <td>0</td>\n",
       "      <td>1121.0</td>\n",
       "      <td>Left Fullback</td>\n",
       "      <td>England</td>\n",
       "      <td>08.03.1983</td>\n",
       "      <td>2</td>\n",
       "      <td>0.25</td>\n",
       "      <td>...</td>\n",
       "      <td>0.790366</td>\n",
       "      <td>179.0</td>\n",
       "      <td>0.396803</td>\n",
       "      <td>0.000392</td>\n",
       "      <td>1079.0</td>\n",
       "      <td>PRT</td>\n",
       "      <td>andre-santos</td>\n",
       "      <td>0.25</td>\n",
       "      <td>72</td>\n",
       "      <td>2</td>\n",
       "    </tr>\n",
       "  </tbody>\n",
       "</table>\n",
       "<p>2 rows × 26 columns</p>\n",
       "</div>"
      ],
      "text/plain": [
       "                      defeats  weight    photoID  yellowReds    nExp  \\\n",
       "player        refNum                                                   \n",
       " André Santos 88            1    73.0  52851.jpg           0  1897.0   \n",
       "              408           3    73.0  52851.jpg           0  1121.0   \n",
       "\n",
       "                           position leagueCountry    birthday  goals  rater2  \\\n",
       "player        refNum                                                           \n",
       " André Santos 88      Left Fullback       England  08.03.1983      0    0.25   \n",
       "              408     Left Fullback       England  08.03.1983      2    0.25   \n",
       "\n",
       "                      ...    meanExp  height   meanIAT     seIAT    nIAT  \\\n",
       "player        refNum  ...                                                  \n",
       " André Santos 88      ...   0.588297   179.0  0.369894  0.000229  1785.0   \n",
       "              408     ...   0.790366   179.0  0.396803  0.000392  1079.0   \n",
       "\n",
       "                      Alpha_3   playerShort  rater1  refCountry  ties  \n",
       "player        refNum                                                   \n",
       " André Santos 88          ESP  andre-santos    0.25           3     1  \n",
       "              408         PRT  andre-santos    0.25          72     2  \n",
       "\n",
       "[2 rows x 26 columns]"
      ]
     },
     "execution_count": 10,
     "metadata": {},
     "output_type": "execute_result"
    }
   ],
   "source": [
    "# Group the duplicated indexes in the way described above\n",
    "grouped_data=indexed_data.loc[duplicate.index]\n",
    "grouped_data=grouped_data.reset_index().groupby(by=['player','refNum'])\n",
    "aggregation_function={\n",
    "     'playerShort': 'first',\n",
    "     'club': 'first',\n",
    "     'leagueCountry': 'first',\n",
    "     'birthday':'first',\n",
    "     'height': np.mean,\n",
    "     'weight':np.mean,\n",
    "     'position':'first',\n",
    "     'games': np.sum,\n",
    "     'victories':np.sum,\n",
    "     'ties': np.sum,\n",
    "     'defeats': np.sum,\n",
    "     'goals': np.sum,\n",
    "     'yellowCards':np.sum,\n",
    "     'yellowReds': np.sum,\n",
    "     'redCards':np.sum,\n",
    "     'photoID': 'first',\n",
    "     'rater1': lambda x:x.value_counts().index[0], #the most commun value across the different entries for rater 1 \n",
    "     'rater2': lambda x:x.value_counts().index[0], #as well as for rater 2.\n",
    "     'refCountry':'first',\n",
    "     'Alpha_3':'first',\n",
    "     'meanIAT': 'first',\n",
    "     'nIAT':'first',\n",
    "     'seIAT': 'first',\n",
    "     'meanExp':'first',\n",
    "     'nExp':'first',\n",
    "     'seExp':'first'\n",
    "}\n",
    "grouped_data=grouped_data.agg(aggregation_function)\n",
    "grouped_data.head(2)"
   ]
  },
  {
   "cell_type": "code",
   "execution_count": 11,
   "metadata": {
    "collapsed": false
   },
   "outputs": [
    {
     "name": "stdout",
     "output_type": "stream",
     "text": [
      "We recovered 100.0% of the original data.\n",
      "The new dataset doesn't contain duplicated dyads.\n"
     ]
    }
   ],
   "source": [
    "# Now we can merge the two dataframes to obtain the final complete dataset with unique player-ref\n",
    "# entry\n",
    "dupFree_data=pd.concat([good_data,grouped_data],axis=0)\n",
    "print(\"We recovered \"\n",
    "    +str(len(dupFree_data)*100/total_number_dyads)\n",
    "    + \"% of the original data.\" )\n",
    "if(good_data.index.is_unique): \n",
    "    print (\"The new dataset doesn't contain duplicated dyads.\")"
   ]
  },
  {
   "cell_type": "markdown",
   "metadata": {},
   "source": [
    "Now that the first problem is fixed, let's discover the distrubutionof the number of games that each refrees managed. Recall that after the modification we did earlier, the feature (column) 'games' represents the total number of games involving the corresponding dyad (player-ref). Hence, summing all 'games'(over all players) that involve a given refery will produce the number of matchs that this refery managed (multiplied by 22 since a match involve 22 players)"
   ]
  },
  {
   "cell_type": "code",
   "execution_count": 12,
   "metadata": {
    "collapsed": false
   },
   "outputs": [
    {
     "name": "stdout",
     "output_type": "stream",
     "text": [
      "Total number of referees = 3147\n"
     ]
    },
    {
     "data": {
      "text/html": [
       "<div>\n",
       "<table border=\"1\" class=\"dataframe\">\n",
       "  <thead>\n",
       "    <tr style=\"text-align: right;\">\n",
       "      <th></th>\n",
       "      <th>games</th>\n",
       "    </tr>\n",
       "    <tr>\n",
       "      <th>refNum</th>\n",
       "      <th></th>\n",
       "    </tr>\n",
       "  </thead>\n",
       "  <tbody>\n",
       "    <tr>\n",
       "      <th>1</th>\n",
       "      <td>0.045455</td>\n",
       "    </tr>\n",
       "    <tr>\n",
       "      <th>2886</th>\n",
       "      <td>0.045455</td>\n",
       "    </tr>\n",
       "    <tr>\n",
       "      <th>1164</th>\n",
       "      <td>0.045455</td>\n",
       "    </tr>\n",
       "    <tr>\n",
       "      <th>1174</th>\n",
       "      <td>0.045455</td>\n",
       "    </tr>\n",
       "    <tr>\n",
       "      <th>1186</th>\n",
       "      <td>0.045455</td>\n",
       "    </tr>\n",
       "  </tbody>\n",
       "</table>\n",
       "</div>"
      ],
      "text/plain": [
       "           games\n",
       "refNum          \n",
       "1       0.045455\n",
       "2886    0.045455\n",
       "1164    0.045455\n",
       "1174    0.045455\n",
       "1186    0.045455"
      ]
     },
     "execution_count": 12,
     "metadata": {},
     "output_type": "execute_result"
    }
   ],
   "source": [
    "# Group the dataset by refrees to get the sum of the number of games (which devided by 22 \n",
    "#gives an approximation to the number of matchs per referee)\n",
    "games_per_ref=dupFree_data.reset_index().groupby(['refNum']).sum()[['games']]\n",
    "games_per_ref['games']=games_per_ref['games']/22\n",
    "# the total number of referees\n",
    "num_refs = len(data.refNum.unique())\n",
    "\n",
    "print (\"Total number of referees =\", num_refs)\n",
    "games_per_ref.sort_values(by=['games']).head()"
   ]
  },
  {
   "cell_type": "code",
   "execution_count": 13,
   "metadata": {
    "collapsed": false
   },
   "outputs": [
    {
     "data": {
      "text/plain": [
       "<matplotlib.text.Text at 0x11b17e7b8>"
      ]
     },
     "execution_count": 13,
     "metadata": {},
     "output_type": "execute_result"
    },
    {
     "data": {
      "image/png": "[encoded data removed]",
      "text/plain": [
       "<matplotlib.figure.Figure at 0x1187af7f0>"
      ]
     },
     "metadata": {},
     "output_type": "display_data"
    }
   ],
   "source": [
    "# Let's plot the number of games per ref\n",
    "fig, axes = plt.subplots(nrows=1, ncols=1, figsize=(10, 5))\n",
    "axes.hist(list(games_per_ref['games']),bins = 200, range = (0,500))\n",
    "axes.set_xscale('symlog')  \n",
    "axes.set_title(\"Number of matchs per referee\")\n",
    "axes.set_xlabel('Number of matchs')\n",
    "axes.set_ylabel('Frequency')"
   ]
  },
  {
   "cell_type": "markdown",
   "metadata": {},
   "source": [
    "The weard thing about this plot is that most of the referees managed one or less match during their carreer. The set of such referee should be deleted from the dataset."
   ]
  },
  {
   "cell_type": "code",
   "execution_count": 14,
   "metadata": {
    "collapsed": false
   },
   "outputs": [
    {
     "data": {
      "text/html": [
       "<div>\n",
       "<table border=\"1\" class=\"dataframe\">\n",
       "  <thead>\n",
       "    <tr style=\"text-align: right;\">\n",
       "      <th></th>\n",
       "      <th>games</th>\n",
       "    </tr>\n",
       "    <tr>\n",
       "      <th>refNum</th>\n",
       "      <th></th>\n",
       "    </tr>\n",
       "  </thead>\n",
       "  <tbody>\n",
       "    <tr>\n",
       "      <th>4</th>\n",
       "      <td>1.545455</td>\n",
       "    </tr>\n",
       "    <tr>\n",
       "      <th>7</th>\n",
       "      <td>21.272727</td>\n",
       "    </tr>\n",
       "    <tr>\n",
       "      <th>15</th>\n",
       "      <td>1.000000</td>\n",
       "    </tr>\n",
       "    <tr>\n",
       "      <th>16</th>\n",
       "      <td>2.318182</td>\n",
       "    </tr>\n",
       "    <tr>\n",
       "      <th>19</th>\n",
       "      <td>2.181818</td>\n",
       "    </tr>\n",
       "  </tbody>\n",
       "</table>\n",
       "</div>"
      ],
      "text/plain": [
       "            games\n",
       "refNum           \n",
       "4        1.545455\n",
       "7       21.272727\n",
       "15       1.000000\n",
       "16       2.318182\n",
       "19       2.181818"
      ]
     },
     "execution_count": 14,
     "metadata": {},
     "output_type": "execute_result"
    }
   ],
   "source": [
    "good_refs=games_per_ref.loc[games_per_ref['games']>=1]\n",
    "good_refs.head()"
   ]
  },
  {
   "cell_type": "code",
   "execution_count": 15,
   "metadata": {
    "collapsed": false
   },
   "outputs": [
    {
     "name": "stdout",
     "output_type": "stream",
     "text": [
      "We will follow our study with only 40.07% of the referees.\n",
      "Which corresponds to 94.24% of the total number of dyads.\n",
      "\n"
     ]
    },
    {
     "data": {
      "text/html": [
       "<div>\n",
       "<table border=\"1\" class=\"dataframe\">\n",
       "  <thead>\n",
       "    <tr style=\"text-align: right;\">\n",
       "      <th></th>\n",
       "      <th></th>\n",
       "      <th>Alpha_3</th>\n",
       "      <th>birthday</th>\n",
       "      <th>club</th>\n",
       "      <th>defeats</th>\n",
       "      <th>games</th>\n",
       "      <th>goals</th>\n",
       "      <th>height</th>\n",
       "      <th>leagueCountry</th>\n",
       "      <th>meanExp</th>\n",
       "      <th>meanIAT</th>\n",
       "      <th>...</th>\n",
       "      <th>rater2</th>\n",
       "      <th>redCards</th>\n",
       "      <th>refCountry</th>\n",
       "      <th>seExp</th>\n",
       "      <th>seIAT</th>\n",
       "      <th>ties</th>\n",
       "      <th>victories</th>\n",
       "      <th>weight</th>\n",
       "      <th>yellowCards</th>\n",
       "      <th>yellowReds</th>\n",
       "    </tr>\n",
       "    <tr>\n",
       "      <th>player</th>\n",
       "      <th>refNum</th>\n",
       "      <th></th>\n",
       "      <th></th>\n",
       "      <th></th>\n",
       "      <th></th>\n",
       "      <th></th>\n",
       "      <th></th>\n",
       "      <th></th>\n",
       "      <th></th>\n",
       "      <th></th>\n",
       "      <th></th>\n",
       "      <th></th>\n",
       "      <th></th>\n",
       "      <th></th>\n",
       "      <th></th>\n",
       "      <th></th>\n",
       "      <th></th>\n",
       "      <th></th>\n",
       "      <th></th>\n",
       "      <th></th>\n",
       "      <th></th>\n",
       "      <th></th>\n",
       "    </tr>\n",
       "  </thead>\n",
       "  <tbody>\n",
       "    <tr>\n",
       "      <th>Nemanja Vidić</th>\n",
       "      <th>4</th>\n",
       "      <td>LUX</td>\n",
       "      <td>21.10.1981</td>\n",
       "      <td>Manchester United</td>\n",
       "      <td>0</td>\n",
       "      <td>2</td>\n",
       "      <td>0</td>\n",
       "      <td>188.0</td>\n",
       "      <td>England</td>\n",
       "      <td>0.538462</td>\n",
       "      <td>0.325185</td>\n",
       "      <td>...</td>\n",
       "      <td>0.00</td>\n",
       "      <td>0</td>\n",
       "      <td>4</td>\n",
       "      <td>0.013752</td>\n",
       "      <td>0.003297</td>\n",
       "      <td>0</td>\n",
       "      <td>2</td>\n",
       "      <td>82.0</td>\n",
       "      <td>0</td>\n",
       "      <td>0</td>\n",
       "    </tr>\n",
       "    <tr>\n",
       "      <th>Ivan Obradović</th>\n",
       "      <th>4</th>\n",
       "      <td>LUX</td>\n",
       "      <td>25.07.1988</td>\n",
       "      <td>Real Zaragoza</td>\n",
       "      <td>0</td>\n",
       "      <td>1</td>\n",
       "      <td>0</td>\n",
       "      <td>181.0</td>\n",
       "      <td>Spain</td>\n",
       "      <td>0.538462</td>\n",
       "      <td>0.325185</td>\n",
       "      <td>...</td>\n",
       "      <td>0.25</td>\n",
       "      <td>0</td>\n",
       "      <td>4</td>\n",
       "      <td>0.013752</td>\n",
       "      <td>0.003297</td>\n",
       "      <td>0</td>\n",
       "      <td>1</td>\n",
       "      <td>74.0</td>\n",
       "      <td>1</td>\n",
       "      <td>0</td>\n",
       "    </tr>\n",
       "  </tbody>\n",
       "</table>\n",
       "<p>2 rows × 26 columns</p>\n",
       "</div>"
      ],
      "text/plain": [
       "                      Alpha_3    birthday               club  defeats  games  \\\n",
       "player         refNum                                                          \n",
       "Nemanja Vidić  4          LUX  21.10.1981  Manchester United        0      2   \n",
       "Ivan Obradović 4          LUX  25.07.1988      Real Zaragoza        0      1   \n",
       "\n",
       "                       goals  height leagueCountry   meanExp   meanIAT  \\\n",
       "player         refNum                                                    \n",
       "Nemanja Vidić  4           0   188.0       England  0.538462  0.325185   \n",
       "Ivan Obradović 4           0   181.0         Spain  0.538462  0.325185   \n",
       "\n",
       "                          ...      rater2  redCards refCountry     seExp  \\\n",
       "player         refNum     ...                                              \n",
       "Nemanja Vidić  4          ...        0.00         0          4  0.013752   \n",
       "Ivan Obradović 4          ...        0.25         0          4  0.013752   \n",
       "\n",
       "                          seIAT  ties  victories  weight  yellowCards  \\\n",
       "player         refNum                                                   \n",
       "Nemanja Vidić  4       0.003297     0          2    82.0            0   \n",
       "Ivan Obradović 4       0.003297     0          1    74.0            1   \n",
       "\n",
       "                       yellowReds  \n",
       "player         refNum              \n",
       "Nemanja Vidić  4                0  \n",
       "Ivan Obradović 4                0  \n",
       "\n",
       "[2 rows x 26 columns]"
      ]
     },
     "execution_count": 15,
     "metadata": {},
     "output_type": "execute_result"
    }
   ],
   "source": [
    "goodData=pd.merge(good_refs.reset_index().drop('games',axis=1),dupFree_data.reset_index(),how='inner',left_on='refNum',right_on='refNum')\n",
    "goodData=goodData.set_index(['player','refNum'])\n",
    "print(\"We will follow our study with only \"\n",
    "      +str(round(len(good_refs)*100/num_refs,3))\n",
    "      +\"% of the referees.\\n\"\n",
    "      +\"Which corresponds to \"\n",
    "      +str(round(len(goodData)*100/len(dupFree_data),3))\n",
    "      +\"% of the total number of dyads.\\n\")\n",
    "goodData.head(2)"
   ]
  },
  {
   "cell_type": "markdown",
   "metadata": {},
   "source": [
    "# 2. Supervised classification"
   ]
  },
  {
   "cell_type": "markdown",
   "metadata": {},
   "source": [
    "## 1. Data pre-processing  "
   ]
  },
  {
   "cell_type": "markdown",
   "metadata": {},
   "source": [
    "In this section we will use a random forest classifier that given a soccer player description outputs his skin color. First keep only the data related to the player and not the refree because this is the part of data we will use to predict the skin color. Hence we will group our \"goodData\" by player and use an appropriate aggregation function to extract useful infotmation for our model training."
   ]
  },
  {
   "cell_type": "code",
   "execution_count": 16,
   "metadata": {
    "collapsed": true
   },
   "outputs": [],
   "source": [
    "aggregation_function_2={\n",
    "     'club': 'first',\n",
    "     'leagueCountry': 'first',\n",
    "     'birthday':'first',\n",
    "     'height': np.mean,\n",
    "     'weight':np.mean,\n",
    "     'position':'first',\n",
    "     'games': np.sum,\n",
    "     'victories':np.sum,\n",
    "     'ties': np.sum,\n",
    "     'defeats': np.sum,\n",
    "     'goals': np.sum,\n",
    "     'yellowCards':np.sum,\n",
    "     'yellowReds': np.sum,\n",
    "     'redCards':np.sum,\n",
    "     'rater1': lambda x:x.value_counts().index[0], #the most commun value across the different entries for rater 1 \n",
    "     'rater2': lambda x:x.value_counts().index[0], #as well as for rater 2.\n",
    "}"
   ]
  },
  {
   "cell_type": "code",
   "execution_count": 17,
   "metadata": {
    "collapsed": false,
    "scrolled": false
   },
   "outputs": [
    {
     "data": {
      "text/html": [
       "<div>\n",
       "<table border=\"1\" class=\"dataframe\">\n",
       "  <thead>\n",
       "    <tr style=\"text-align: right;\">\n",
       "      <th></th>\n",
       "      <th>defeats</th>\n",
       "      <th>games</th>\n",
       "      <th>weight</th>\n",
       "      <th>club</th>\n",
       "      <th>redCards</th>\n",
       "      <th>yellowReds</th>\n",
       "      <th>height</th>\n",
       "      <th>birthday</th>\n",
       "      <th>leagueCountry</th>\n",
       "      <th>rater1</th>\n",
       "      <th>position</th>\n",
       "      <th>goals</th>\n",
       "      <th>ties</th>\n",
       "      <th>yellowCards</th>\n",
       "      <th>rater2</th>\n",
       "      <th>victories</th>\n",
       "    </tr>\n",
       "    <tr>\n",
       "      <th>player</th>\n",
       "      <th></th>\n",
       "      <th></th>\n",
       "      <th></th>\n",
       "      <th></th>\n",
       "      <th></th>\n",
       "      <th></th>\n",
       "      <th></th>\n",
       "      <th></th>\n",
       "      <th></th>\n",
       "      <th></th>\n",
       "      <th></th>\n",
       "      <th></th>\n",
       "      <th></th>\n",
       "      <th></th>\n",
       "      <th></th>\n",
       "      <th></th>\n",
       "    </tr>\n",
       "  </thead>\n",
       "  <tbody>\n",
       "    <tr>\n",
       "      <th>Adriano</th>\n",
       "      <td>84</td>\n",
       "      <td>369</td>\n",
       "      <td>67.0</td>\n",
       "      <td>FC Barcelona</td>\n",
       "      <td>3</td>\n",
       "      <td>1</td>\n",
       "      <td>172.0</td>\n",
       "      <td>26.10.1984</td>\n",
       "      <td>Spain</td>\n",
       "      <td>0.25</td>\n",
       "      <td>Left Midfielder</td>\n",
       "      <td>32</td>\n",
       "      <td>59</td>\n",
       "      <td>57</td>\n",
       "      <td>0.25</td>\n",
       "      <td>226</td>\n",
       "    </tr>\n",
       "    <tr>\n",
       "      <th>Adrián</th>\n",
       "      <td>87</td>\n",
       "      <td>294</td>\n",
       "      <td>73.0</td>\n",
       "      <td>Atlético Madrid</td>\n",
       "      <td>0</td>\n",
       "      <td>0</td>\n",
       "      <td>183.0</td>\n",
       "      <td>08.01.1988</td>\n",
       "      <td>Spain</td>\n",
       "      <td>0.25</td>\n",
       "      <td>Center Forward</td>\n",
       "      <td>60</td>\n",
       "      <td>62</td>\n",
       "      <td>16</td>\n",
       "      <td>0.00</td>\n",
       "      <td>145</td>\n",
       "    </tr>\n",
       "  </tbody>\n",
       "</table>\n",
       "</div>"
      ],
      "text/plain": [
       "          defeats  games  weight             club  redCards  yellowReds  \\\n",
       "player                                                                    \n",
       " Adriano       84    369    67.0     FC Barcelona         3           1   \n",
       " Adrián        87    294    73.0  Atlético Madrid         0           0   \n",
       "\n",
       "          height    birthday leagueCountry  rater1         position  goals  \\\n",
       "player                                                                       \n",
       " Adriano   172.0  26.10.1984         Spain    0.25  Left Midfielder     32   \n",
       " Adrián    183.0  08.01.1988         Spain    0.25   Center Forward     60   \n",
       "\n",
       "          ties  yellowCards  rater2  victories  \n",
       "player                                          \n",
       " Adriano    59           57    0.25        226  \n",
       " Adrián     62           16    0.00        145  "
      ]
     },
     "execution_count": 17,
     "metadata": {},
     "output_type": "execute_result"
    }
   ],
   "source": [
    "# Drop features not related to the player\n",
    "skinGoodData=goodData.reset_index().drop(['refNum',     # Related to the referee\n",
    "                                          'playerShort',# Duplicated data \n",
    "                                          'photoID',    # Noise\n",
    "                                          'refCountry', # Related to referee country\n",
    "                                          'nIAT',       # Related to referee country\n",
    "                                          'seIAT',      # Related to referee country\n",
    "                                          'meanExp',    # Related to referee country\n",
    "                                          'nExp',       # Related to referee country\n",
    "                                          'seExp',      # Related to referee country\n",
    "                                          'Alpha_3'     # Related to the player but we noticed a lot of\n",
    "                                                        #incorrect information. Moreover, in some case, multiple \n",
    "                                                        #Alpha_3 values are related to the same player.             \n",
    "                                         ], axis=1)\n",
    "\n",
    "# Drop all raws where we both rater1 and rater2 are Nan\n",
    "skinGoodData=skinGoodData.dropna(axis=0,how='all',subset=['rater1','rater2'])\n",
    "# Group by player using the agg function we built\n",
    "skinGoodData=skinGoodData.sort_values(by='player').groupby('player').agg(aggregation_function_2)\n",
    "skinGoodData.head(2)"
   ]
  },
  {
   "cell_type": "code",
   "execution_count": 18,
   "metadata": {
    "collapsed": false
   },
   "outputs": [
    {
     "name": "stdout",
     "output_type": "stream",
     "text": [
      "The number of players where the two raters desagree is 58 that corresponds to 3.69% of the total number of players.\n",
      "\n",
      "The two raters desagree by at most 0.25 (one scale).\n"
     ]
    }
   ],
   "source": [
    "# The number of raws where the rater1 and rater2 desagree\n",
    "totalPlayerNum= len(skinGoodData)\n",
    "desagreeNum=len(skinGoodData[skinGoodData['rater1']-skinGoodData['rater2']>0])\n",
    "print(\"The number of players where the two raters desagree is \"\n",
    "      + str(desagreeNum)\n",
    "      + \" that corresponds to \"\n",
    "      + str(round(desagreeNum*100/totalPlayerNum,3))\n",
    "      + \"% of the total number of players.\\n\"\n",
    "     )\n",
    "if len(skinGoodData[skinGoodData['rater1']-skinGoodData['rater2']>0.25])==0:\n",
    "    print (\"The two raters desagree by at most 0.25 (one scale).\")"
   ]
  },
  {
   "cell_type": "markdown",
   "metadata": {},
   "source": [
    "As the number of desagrements is unsignificant we will delete the rows corresponding to these players."
   ]
  },
  {
   "cell_type": "code",
   "execution_count": 19,
   "metadata": {
    "collapsed": false
   },
   "outputs": [
    {
     "data": {
      "text/html": [
       "<div>\n",
       "<table border=\"1\" class=\"dataframe\">\n",
       "  <thead>\n",
       "    <tr style=\"text-align: right;\">\n",
       "      <th></th>\n",
       "      <th>defeats</th>\n",
       "      <th>games</th>\n",
       "      <th>weight</th>\n",
       "      <th>club</th>\n",
       "      <th>redCards</th>\n",
       "      <th>yellowReds</th>\n",
       "      <th>height</th>\n",
       "      <th>birthday</th>\n",
       "      <th>leagueCountry</th>\n",
       "      <th>rater1</th>\n",
       "      <th>position</th>\n",
       "      <th>goals</th>\n",
       "      <th>ties</th>\n",
       "      <th>yellowCards</th>\n",
       "      <th>victories</th>\n",
       "    </tr>\n",
       "    <tr>\n",
       "      <th>player</th>\n",
       "      <th></th>\n",
       "      <th></th>\n",
       "      <th></th>\n",
       "      <th></th>\n",
       "      <th></th>\n",
       "      <th></th>\n",
       "      <th></th>\n",
       "      <th></th>\n",
       "      <th></th>\n",
       "      <th></th>\n",
       "      <th></th>\n",
       "      <th></th>\n",
       "      <th></th>\n",
       "      <th></th>\n",
       "      <th></th>\n",
       "    </tr>\n",
       "  </thead>\n",
       "  <tbody>\n",
       "    <tr>\n",
       "      <th>Adriano</th>\n",
       "      <td>84</td>\n",
       "      <td>369</td>\n",
       "      <td>67.0</td>\n",
       "      <td>FC Barcelona</td>\n",
       "      <td>3</td>\n",
       "      <td>1</td>\n",
       "      <td>172.0</td>\n",
       "      <td>26.10.1984</td>\n",
       "      <td>Spain</td>\n",
       "      <td>0.25</td>\n",
       "      <td>Left Midfielder</td>\n",
       "      <td>32</td>\n",
       "      <td>59</td>\n",
       "      <td>57</td>\n",
       "      <td>226</td>\n",
       "    </tr>\n",
       "    <tr>\n",
       "      <th>Adrián Colunga</th>\n",
       "      <td>82</td>\n",
       "      <td>178</td>\n",
       "      <td>69.0</td>\n",
       "      <td>Getafe CF</td>\n",
       "      <td>0</td>\n",
       "      <td>1</td>\n",
       "      <td>171.0</td>\n",
       "      <td>17.11.1984</td>\n",
       "      <td>Spain</td>\n",
       "      <td>0.25</td>\n",
       "      <td>Center Forward</td>\n",
       "      <td>39</td>\n",
       "      <td>43</td>\n",
       "      <td>22</td>\n",
       "      <td>53</td>\n",
       "    </tr>\n",
       "  </tbody>\n",
       "</table>\n",
       "</div>"
      ],
      "text/plain": [
       "                 defeats  games  weight          club  redCards  yellowReds  \\\n",
       "player                                                                        \n",
       " Adriano              84    369    67.0  FC Barcelona         3           1   \n",
       " Adrián Colunga       82    178    69.0     Getafe CF         0           1   \n",
       "\n",
       "                 height    birthday leagueCountry  rater1         position  \\\n",
       "player                                                                       \n",
       " Adriano          172.0  26.10.1984         Spain    0.25  Left Midfielder   \n",
       " Adrián Colunga   171.0  17.11.1984         Spain    0.25   Center Forward   \n",
       "\n",
       "                 goals  ties  yellowCards  victories  \n",
       "player                                                \n",
       " Adriano            32    59           57        226  \n",
       " Adrián Colunga     39    43           22         53  "
      ]
     },
     "execution_count": 19,
     "metadata": {},
     "output_type": "execute_result"
    }
   ],
   "source": [
    "# Delete players rows and drop column rater2 as it becomes the same as rater1\n",
    "skinGoodDataSingleRater=skinGoodData[skinGoodData['rater1']-skinGoodData['rater2']==0].drop('rater2',axis=1)\n",
    "skinGoodDataSingleRater.head(2)"
   ]
  },
  {
   "cell_type": "markdown",
   "metadata": {},
   "source": [
    "Now, we need to encode string labels (i.e. club, position..) into integer values so that we can use as input to our classifier that doesn't accept string type. We will use class **sklearn.preprocessing.LabelEncoder**"
   ]
  },
  {
   "cell_type": "code",
   "execution_count": 20,
   "metadata": {
    "collapsed": false
   },
   "outputs": [],
   "source": [
    "# All data\n",
    "X= skinGoodDataSingleRater.drop('rater1',axis=1)\n",
    "Y= skinGoodDataSingleRater['rater1']\n",
    "# Encode string columns\n",
    "le = LabelEncoder()\n",
    "X[\"club\"]=le.fit(skinGoodDataSingleRater.club).transform(skinGoodDataSingleRater.club)\n",
    "X[\"birthday\"]=le.fit(skinGoodDataSingleRater.birthday).transform(skinGoodDataSingleRater.birthday)\n",
    "X[\"leagueCountry\"]=le.fit(skinGoodDataSingleRater.leagueCountry).transform(skinGoodDataSingleRater.leagueCountry)\n",
    "\n",
    "# Position column contain some nan values so we need to convert the type to string before encoding\n",
    "skinGoodDataSingleRater.position=skinGoodDataSingleRater.position.apply(lambda x:str(x))\n",
    "X[\"position\"]=le.fit(skinGoodDataSingleRater.position).transform(skinGoodDataSingleRater.position)\n",
    "\n",
    "# For height and weight column we will replance nan values with the mean height/weight\n",
    "X.weight=X.weight.apply(lambda x:round(float(x),1))\n",
    "meanWeight=X.weight.mean()\n",
    "X.weight=X.weight.fillna(meanWeight)\n",
    "X.height=X.height.apply(lambda x:round(float(x),1))\n",
    "meanHeight=X.height.mean()\n",
    "X.height=X.height.fillna(meanHeight)\n",
    "\n",
    "# Encode the label Y. So the color skin will be in [0,1,2,3,4] which corresonds to the previous [0,0.25,05,075,1]\n",
    "Y=le.fit(Y).transform(Y)"
   ]
  },
  {
   "cell_type": "code",
   "execution_count": 21,
   "metadata": {
    "collapsed": false
   },
   "outputs": [
    {
     "data": {
      "text/html": [
       "<div>\n",
       "<table border=\"1\" class=\"dataframe\">\n",
       "  <thead>\n",
       "    <tr style=\"text-align: right;\">\n",
       "      <th></th>\n",
       "      <th>defeats</th>\n",
       "      <th>games</th>\n",
       "      <th>weight</th>\n",
       "      <th>club</th>\n",
       "      <th>redCards</th>\n",
       "      <th>yellowReds</th>\n",
       "      <th>height</th>\n",
       "      <th>birthday</th>\n",
       "      <th>leagueCountry</th>\n",
       "      <th>position</th>\n",
       "      <th>goals</th>\n",
       "      <th>ties</th>\n",
       "      <th>yellowCards</th>\n",
       "      <th>victories</th>\n",
       "    </tr>\n",
       "    <tr>\n",
       "      <th>player</th>\n",
       "      <th></th>\n",
       "      <th></th>\n",
       "      <th></th>\n",
       "      <th></th>\n",
       "      <th></th>\n",
       "      <th></th>\n",
       "      <th></th>\n",
       "      <th></th>\n",
       "      <th></th>\n",
       "      <th></th>\n",
       "      <th></th>\n",
       "      <th></th>\n",
       "      <th></th>\n",
       "      <th></th>\n",
       "    </tr>\n",
       "  </thead>\n",
       "  <tbody>\n",
       "    <tr>\n",
       "      <th>Adriano</th>\n",
       "      <td>84</td>\n",
       "      <td>369</td>\n",
       "      <td>67.0</td>\n",
       "      <td>28</td>\n",
       "      <td>3</td>\n",
       "      <td>1</td>\n",
       "      <td>172.0</td>\n",
       "      <td>918</td>\n",
       "      <td>3</td>\n",
       "      <td>7</td>\n",
       "      <td>32</td>\n",
       "      <td>59</td>\n",
       "      <td>57</td>\n",
       "      <td>226</td>\n",
       "    </tr>\n",
       "    <tr>\n",
       "      <th>Adrián Colunga</th>\n",
       "      <td>82</td>\n",
       "      <td>178</td>\n",
       "      <td>69.0</td>\n",
       "      <td>34</td>\n",
       "      <td>0</td>\n",
       "      <td>1</td>\n",
       "      <td>171.0</td>\n",
       "      <td>606</td>\n",
       "      <td>3</td>\n",
       "      <td>2</td>\n",
       "      <td>39</td>\n",
       "      <td>43</td>\n",
       "      <td>22</td>\n",
       "      <td>53</td>\n",
       "    </tr>\n",
       "  </tbody>\n",
       "</table>\n",
       "</div>"
      ],
      "text/plain": [
       "                 defeats  games  weight  club  redCards  yellowReds  height  \\\n",
       "player                                                                        \n",
       " Adriano              84    369    67.0    28         3           1   172.0   \n",
       " Adrián Colunga       82    178    69.0    34         0           1   171.0   \n",
       "\n",
       "                 birthday  leagueCountry  position  goals  ties  yellowCards  \\\n",
       "player                                                                         \n",
       " Adriano              918              3         7     32    59           57   \n",
       " Adrián Colunga       606              3         2     39    43           22   \n",
       "\n",
       "                 victories  \n",
       "player                      \n",
       " Adriano               226  \n",
       " Adrián Colunga         53  "
      ]
     },
     "execution_count": 21,
     "metadata": {},
     "output_type": "execute_result"
    }
   ],
   "source": [
    "X.head(2)"
   ]
  },
  {
   "cell_type": "markdown",
   "metadata": {},
   "source": [
    "## 2. Model construction & validation:"
   ]
  },
  {
   "cell_type": "markdown",
   "metadata": {},
   "source": [
    "Now we will split our data into 75% training data and 25% validation data."
   ]
  },
  {
   "cell_type": "code",
   "execution_count": 22,
   "metadata": {
    "collapsed": false
   },
   "outputs": [],
   "source": [
    "# Splitted data\n",
    "splitIndex=int(len(X)*0.75)\n",
    "X_train= X.ix[1:splitIndex,:]\n",
    "# Changing the type\n",
    "Y_train=Y[1:splitIndex]\n",
    "X_valid= X.ix[splitIndex:,:]\n",
    "Y_valid=Y[splitIndex:]"
   ]
  },
  {
   "cell_type": "markdown",
   "metadata": {},
   "source": [
    "First, let's try a random forest classifier with these basic parameters:\n",
    "- The number of trees in the forst: **n_estimators=20**\n",
    "- Unrestricted size: **max depth=None**\n",
    "- The minimum number of samples required to be at a leaf node: **min_samples_leaf=1**\n",
    "- Each node can be splitted further if it contains at least two samples **min_samples_splits=2**"
   ]
  },
  {
   "cell_type": "code",
   "execution_count": 23,
   "metadata": {
    "collapsed": false
   },
   "outputs": [
    {
     "data": {
      "text/plain": [
       "RandomForestClassifier(bootstrap=True, class_weight=None, criterion='gini',\n",
       "            max_depth=None, max_features='auto', max_leaf_nodes=None,\n",
       "            min_impurity_split=1e-07, min_samples_leaf=1,\n",
       "            min_samples_split=2, min_weight_fraction_leaf=0.0,\n",
       "            n_estimators=20, n_jobs=1, oob_score=True, random_state=None,\n",
       "            verbose=0, warm_start=False)"
      ]
     },
     "execution_count": 23,
     "metadata": {},
     "output_type": "execute_result"
    }
   ],
   "source": [
    "# Create the classifier\n",
    "clf = RandomForestClassifier(n_estimators=20,oob_score =True)\n",
    "clf"
   ]
  },
  {
   "cell_type": "code",
   "execution_count": 24,
   "metadata": {
    "collapsed": false
   },
   "outputs": [
    {
     "name": "stdout",
     "output_type": "stream",
     "text": [
      "The score of our model on each training sample xᵢ, using only the trees that did not have xᵢ in their bootstrap \n",
      "sample is 38.839%\n"
     ]
    }
   ],
   "source": [
    "# Build a forest of trees from the training set\n",
    "clf.fit(X_train, Y_train)\n",
    "# Score of the training dataset obtained using an out-of-bag estimate\n",
    "print (\"The score of our model on each training sample xᵢ, using\"\n",
    "       +\" only the trees that did not have xᵢ in their bootstrap sample is \"\n",
    "       +str(round(clf.oob_score_*100,3))+\"%\")"
   ]
  },
  {
   "cell_type": "markdown",
   "metadata": {},
   "source": [
    "Let's now test our model on the validation data"
   ]
  },
  {
   "cell_type": "code",
   "execution_count": 25,
   "metadata": {
    "collapsed": false
   },
   "outputs": [
    {
     "name": "stdout",
     "output_type": "stream",
     "text": [
      "The score of our model on the validation data is 40.468%\n"
     ]
    }
   ],
   "source": [
    "print (\"The score of our model on the validation data is \"\n",
    "       +str(round(clf.score(X_valid,Y_valid)*100,3))+\"%\")"
   ]
  },
  {
   "cell_type": "markdown",
   "metadata": {},
   "source": [
    "We can see that the score of our model on the training dataset obtained using an out-of-bag and on the validation data is similar. Let's study how the different parameters change the occuracy."
   ]
  },
  {
   "cell_type": "markdown",
   "metadata": {},
   "source": [
    "## 3. Parameters & Overfitting:"
   ]
  },
  {
   "cell_type": "markdown",
   "metadata": {},
   "source": [
    "**Note that: For more reliable result, for a fixed set of parameters, we will compute the median of the score over 100 test for these parameters. This avoids extreme results caused by the random samples selection of the random forest algorithm: Althought this will increase complexity, it will produce more reliable results.**"
   ]
  },
  {
   "cell_type": "markdown",
   "metadata": {},
   "source": [
    "### a. Number of trees (n_estimators):"
   ]
  },
  {
   "cell_type": "markdown",
   "metadata": {},
   "source": [
    "We will plot the score (on the validation data) as a function of Number of trees. All the other parameters are unchanged:"
   ]
  },
  {
   "cell_type": "code",
   "execution_count": 28,
   "metadata": {
    "collapsed": false
   },
   "outputs": [],
   "source": [
    "# Function that given the number of trees return the score of the model on the validation data\n",
    "def scoreFromNumEstim (n_estimators):\n",
    "    obs=[]\n",
    "    for i in range(1,100):\n",
    "        obs.append(RandomForestClassifier(n_estimators).fit(X_train, Y_train).score(X_valid,Y_valid))\n",
    "    return np.median(obs)"
   ]
  },
  {
   "cell_type": "code",
   "execution_count": 29,
   "metadata": {
    "collapsed": false
   },
   "outputs": [
    {
     "data": {
      "image/png": "[encoded data removed]",
      "text/plain": [
       "<matplotlib.figure.Figure at 0x118955ba8>"
      ]
     },
     "metadata": {},
     "output_type": "display_data"
    }
   ],
   "source": [
    "# Plot the score (on the validation data) as a function of Number of trees\n",
    "treeNum = np.arange(1, 100, 4)\n",
    "l1,= plt.plot(treeNum, np.vectorize(scoreFromNumEstim)(n_estimators=treeNum),'bs-.')\n",
    "plt.xlabel('Number of trees')\n",
    "plt.ylabel('Score')\n",
    "plt.title('Effect of the number of forest trees on the score')\n",
    "plt.show()"
   ]
  },
  {
   "cell_type": "markdown",
   "metadata": {
    "collapsed": true
   },
   "source": [
    "**Observation:** We can see from this plot that the score increase linearly with the number of trees until reaching a local maximum (~20 trees). For the number of trees above this local maximum, the score will vary around 40% with a global maximum at ~72 trees."
   ]
  },
  {
   "cell_type": "markdown",
   "metadata": {},
   "source": [
    "**Conclusion:** The bigger the number of trees is the better performance the model can achieve (especially if the number of trees is relatively small). In fact, the more trees the more **variance** reduction through the ensemble aggregate. However, as seen in this plot, as the number of trees become very large, the performance is not improved that much and there is a tradeoff between complexity and performance."
   ]
  },
  {
   "cell_type": "markdown",
   "metadata": {},
   "source": [
    "### b. Max depth:"
   ]
  },
  {
   "cell_type": "markdown",
   "metadata": {},
   "source": [
    "We will plot the score (on the validation data) as a function of the max depth of the tree.All the other parameters are unchanged:"
   ]
  },
  {
   "cell_type": "code",
   "execution_count": 30,
   "metadata": {
    "collapsed": true
   },
   "outputs": [],
   "source": [
    "def scoreFromMaxDepth (max_depth):\n",
    "    obs=[]\n",
    "    for i in range(1,100):\n",
    "        obs.append(RandomForestClassifier(n_estimators=20,max_depth=max_depth).fit(X_train, Y_train).score(X_valid,Y_valid))\n",
    "    return np.median(obs)"
   ]
  },
  {
   "cell_type": "code",
   "execution_count": 31,
   "metadata": {
    "collapsed": false
   },
   "outputs": [
    {
     "data": {
      "image/png": "[encoded data removed]",
      "text/plain": [
       "<matplotlib.figure.Figure at 0x11ae39198>"
      ]
     },
     "metadata": {},
     "output_type": "display_data"
    }
   ],
   "source": [
    "maxDepth = np.arange(1, 50, 3)\n",
    "l1,= plt.plot(maxDepth, np.vectorize(scoreFromMaxDepth)(max_depth=maxDepth),'rs-.')\n",
    "plt.xlabel('Max depth')\n",
    "plt.ylabel('Score')\n",
    "plt.title('Effect of the max depth of the trees on the score')\n",
    "plt.show()"
   ]
  },
  {
   "cell_type": "markdown",
   "metadata": {},
   "source": [
    "**Observation:** We can see from this plot that the score increases with the maximal depth of the tree until reaching a global maximum (Max depth ~15). Then a slight decrease in performance is observed as max depth increases."
   ]
  },
  {
   "cell_type": "markdown",
   "metadata": {},
   "source": [
    "**Conclusion:** The performance increases when we increase the depth of the trees because depth reduce biais especially when the depth is relatively small which cause high biais leading to  poor performance(e.g. for a depth of 3 the performance is minimal). However, very large depth may cause overfitting: Hence reduce performance."
   ]
  },
  {
   "cell_type": "markdown",
   "metadata": {},
   "source": [
    "### c. Minimal number of samples per leaf:**"
   ]
  },
  {
   "cell_type": "markdown",
   "metadata": {},
   "source": [
    "We will plot the score (on the validation data) as a function of the minimal sample leaf of the tree. All the other parameters are unchanged:"
   ]
  },
  {
   "cell_type": "code",
   "execution_count": 32,
   "metadata": {
    "collapsed": true
   },
   "outputs": [],
   "source": [
    "def scoreFromMinSamlpleLeaf (min_samples_leaf):\n",
    "    obs=[]\n",
    "    for i in range(1,100):\n",
    "        obs.append(RandomForestClassifier(n_estimators=40,min_samples_leaf=min_samples_leaf).fit(X_train, Y_train).score(X_valid,Y_valid))\n",
    "    return np.median(obs)"
   ]
  },
  {
   "cell_type": "code",
   "execution_count": 33,
   "metadata": {
    "collapsed": false
   },
   "outputs": [
    {
     "data": {
      "image/png": "[encoded data removed]",
      "text/plain": [
       "<matplotlib.figure.Figure at 0x1191b7748>"
      ]
     },
     "metadata": {},
     "output_type": "display_data"
    }
   ],
   "source": [
    "minSamplesLeafs = np.arange(1, 50, 3)\n",
    "l1,= plt.plot(minSamplesLeafs, np.vectorize(scoreFromMinSamlpleLeaf)(min_samples_leaf=minSamplesLeafs),'gs-.')\n",
    "plt.xlabel('Minimal samples leaf')\n",
    "plt.ylabel('Score')\n",
    "plt.title('Effect of the minimal samples leaf of the trees on the score')\n",
    "plt.show()"
   ]
  },
  {
   "cell_type": "markdown",
   "metadata": {},
   "source": [
    "**Observation:** We can see from this plot that the score is minimal when the minimal number of samples allowed per leaf is very small and when it is very large. In fact optimal scores corresponds to minimal samples leaf values around 10 samples."
   ]
  },
  {
   "cell_type": "markdown",
   "metadata": {},
   "source": [
    "**Conclusion:** A small number of samples per leaf means further splitting and hence deeper trees. So as we saw with Max_depth, althought deep trees decrease biais, they cause overfitting which is clear from the increasing part of the curve (increasing min samples/leaf increases performance). On the other hand, further increase of the min number of samples per leaf decreases performance. In fact, large number of samples per leaf means shorter trees and hence increase in the biais which decrease the performance. Hence, not surprising, the optimal value is not too smal nor too large."
   ]
  },
  {
   "cell_type": "markdown",
   "metadata": {},
   "source": [
    "### d. Minimal sample split:"
   ]
  },
  {
   "cell_type": "markdown",
   "metadata": {},
   "source": [
    "We will plot the score (on the validation data) as a function of the minimal sample split of the tree. It means the minimum number of samples above which we can split further. All the other parameters are unchanged:"
   ]
  },
  {
   "cell_type": "code",
   "execution_count": 34,
   "metadata": {
    "collapsed": true
   },
   "outputs": [],
   "source": [
    "def scoreFromMinSamlpleSplit (min_samples_split):\n",
    "    obs=[]\n",
    "    for i in range(1,100):\n",
    "        obs.append(RandomForestClassifier(n_estimators=40,min_samples_split=min_samples_split).fit(X_train, Y_train).score(X_valid,Y_valid))\n",
    "    return np.median(obs)"
   ]
  },
  {
   "cell_type": "code",
   "execution_count": 36,
   "metadata": {
    "collapsed": false
   },
   "outputs": [
    {
     "data": {
      "image/png": "[encoded data removed]",
      "text/plain": [
       "<matplotlib.figure.Figure at 0x114bcc780>"
      ]
     },
     "metadata": {},
     "output_type": "display_data"
    }
   ],
   "source": [
    "minSamplesSplit = np.arange(2, 100, 3)\n",
    "l1,= plt.plot(minSamplesSplit, np.vectorize(scoreFromMinSamlpleSplit)(min_samples_split=minSamplesSplit),'ys-.')\n",
    "plt.xlabel('Minimal samples to split')\n",
    "plt.ylabel('Score')\n",
    "plt.title('Effect of the minimal samples to split of the trees on the score')\n",
    "plt.show()"
   ]
  },
  {
   "cell_type": "markdown",
   "metadata": {},
   "source": [
    "**Observation:** Not surprisingly, we can see that the shape of this curve is similar to the minimal sample split curve. In fact, the minimal samples to split is twice to the number of samples per leaf. In other words, splitting when a node has at least 2n samples is equivalent to having a maximal number of samples per leaf of n samples. So the same observation and conclusion of the previous part hold."
   ]
  },
  {
   "cell_type": "markdown",
   "metadata": {},
   "source": [
    "### e. Max features:"
   ]
  },
  {
   "cell_type": "markdown",
   "metadata": {},
   "source": [
    "We will plot the score (on the validation data) as a function of the max number of features to consider when looking for the best split."
   ]
  },
  {
   "cell_type": "code",
   "execution_count": 37,
   "metadata": {
    "collapsed": true
   },
   "outputs": [],
   "source": [
    "def scoreFromMaxFeatures(max_features):\n",
    "    obs=[]\n",
    "    for i in range(1,50):\n",
    "        obs.append(RandomForestClassifier(n_estimators=40,max_features=max_features).fit(X_train, Y_train).score(X_valid,Y_valid))\n",
    "    return np.median(obs)"
   ]
  },
  {
   "cell_type": "code",
   "execution_count": 38,
   "metadata": {
    "collapsed": false
   },
   "outputs": [
    {
     "data": {
      "image/png": "[encoded data removed]",
      "text/plain": [
       "<matplotlib.figure.Figure at 0x114e45b38>"
      ]
     },
     "metadata": {},
     "output_type": "display_data"
    }
   ],
   "source": [
    "maxFeaturesCont = np.arange(0.1,1,0.1)\n",
    "fig, axes = plt.subplots(nrows=1, ncols=2, figsize=(15, 7))\n",
    "maxFeaturesFunc = ['sqrt','log2',None]\n",
    "scores=np.vectorize(scoreFromMaxFeatures)(max_features=maxFeaturesFunc)\n",
    "width = 0.35 \n",
    "# Plot the score as a function of the number of features\n",
    "axes[0].plot(maxFeaturesCont, np.vectorize(scoreFromMaxFeatures)(max_features=maxFeaturesCont),'bs-.')\n",
    "axes[0].set_xlabel('Percentage of total number of features for the best split',fontsize=15)\n",
    "axes[0].set_ylabel('Score',fontsize=15)\n",
    "\n",
    "# Plot a bar chart for scores for pre-built functions\n",
    "axes[1].bar(range(len(maxFeaturesFunc)), scores, width,align='center')\n",
    "axes[1].set_xlabel('Number of features for the best split as a function of total number  of features',fontsize=15)\n",
    "axes[1].set_ylabel('Score',fontsize=15)\n",
    "plt.sca(axes[1])\n",
    "plt.xticks(range(len(maxFeaturesFunc )), maxFeaturesFunc, size=\"medium\")\n",
    "\n",
    "# Translate subplots for better visiualisation\n",
    "pos = axes[1].get_position()\n",
    "axes[1].set_position(pos.translated(tx =-0.1,ty=0.1))\n",
    "fig.suptitle('Effect of the max number of features used for the bes split on the score', fontsize=20)\n",
    "fig.tight_layout()\n"
   ]
  },
  {
   "cell_type": "markdown",
   "metadata": {},
   "source": [
    "**Observation:** Both graphs agree on the fact that the more number of fetures you pick for the best split, the better the performance is. This is shown on the first graph by the increasing aspect of the curve and on the second graph by an optimal score for the 'None' argument (note that None means fetures selected= all features)."
   ]
  },
  {
   "cell_type": "markdown",
   "metadata": {},
   "source": [
    "**Conclusion:** Normally a big number of features is more likely to causes an overfitting problem because at each split all features will be taken into account. In our case a big number of features does not seem to cause overfitting maybe because of the big difference of importance among features."
   ]
  },
  {
   "cell_type": "markdown",
   "metadata": {},
   "source": [
    "## 3. Cross-validation & Overfitting:"
   ]
  },
  {
   "cell_type": "code",
   "execution_count": 39,
   "metadata": {
    "collapsed": false
   },
   "outputs": [
    {
     "data": {
      "text/html": [
       "<div>\n",
       "<table border=\"1\" class=\"dataframe\">\n",
       "  <thead>\n",
       "    <tr style=\"text-align: right;\">\n",
       "      <th></th>\n",
       "      <th>defeats</th>\n",
       "      <th>games</th>\n",
       "      <th>weight</th>\n",
       "      <th>club</th>\n",
       "      <th>redCards</th>\n",
       "      <th>yellowReds</th>\n",
       "      <th>height</th>\n",
       "      <th>birthday</th>\n",
       "      <th>leagueCountry</th>\n",
       "      <th>position</th>\n",
       "      <th>goals</th>\n",
       "      <th>ties</th>\n",
       "      <th>yellowCards</th>\n",
       "      <th>victories</th>\n",
       "    </tr>\n",
       "    <tr>\n",
       "      <th>player</th>\n",
       "      <th></th>\n",
       "      <th></th>\n",
       "      <th></th>\n",
       "      <th></th>\n",
       "      <th></th>\n",
       "      <th></th>\n",
       "      <th></th>\n",
       "      <th></th>\n",
       "      <th></th>\n",
       "      <th></th>\n",
       "      <th></th>\n",
       "      <th></th>\n",
       "      <th></th>\n",
       "      <th></th>\n",
       "    </tr>\n",
       "  </thead>\n",
       "  <tbody>\n",
       "    <tr>\n",
       "      <th>Adriano</th>\n",
       "      <td>84</td>\n",
       "      <td>369</td>\n",
       "      <td>67.0</td>\n",
       "      <td>28</td>\n",
       "      <td>3</td>\n",
       "      <td>1</td>\n",
       "      <td>172.0</td>\n",
       "      <td>918</td>\n",
       "      <td>3</td>\n",
       "      <td>7</td>\n",
       "      <td>32</td>\n",
       "      <td>59</td>\n",
       "      <td>57</td>\n",
       "      <td>226</td>\n",
       "    </tr>\n",
       "    <tr>\n",
       "      <th>Adrián Colunga</th>\n",
       "      <td>82</td>\n",
       "      <td>178</td>\n",
       "      <td>69.0</td>\n",
       "      <td>34</td>\n",
       "      <td>0</td>\n",
       "      <td>1</td>\n",
       "      <td>171.0</td>\n",
       "      <td>606</td>\n",
       "      <td>3</td>\n",
       "      <td>2</td>\n",
       "      <td>39</td>\n",
       "      <td>43</td>\n",
       "      <td>22</td>\n",
       "      <td>53</td>\n",
       "    </tr>\n",
       "  </tbody>\n",
       "</table>\n",
       "</div>"
      ],
      "text/plain": [
       "                 defeats  games  weight  club  redCards  yellowReds  height  \\\n",
       "player                                                                        \n",
       " Adriano              84    369    67.0    28         3           1   172.0   \n",
       " Adrián Colunga       82    178    69.0    34         0           1   171.0   \n",
       "\n",
       "                 birthday  leagueCountry  position  goals  ties  yellowCards  \\\n",
       "player                                                                         \n",
       " Adriano              918              3         7     32    59           57   \n",
       " Adrián Colunga       606              3         2     39    43           22   \n",
       "\n",
       "                 victories  \n",
       "player                      \n",
       " Adriano               226  \n",
       " Adrián Colunga         53  "
      ]
     },
     "execution_count": 39,
     "metadata": {},
     "output_type": "execute_result"
    }
   ],
   "source": [
    "X.head(2)"
   ]
  },
  {
   "cell_type": "code",
   "execution_count": 42,
   "metadata": {
    "collapsed": false
   },
   "outputs": [
    {
     "data": {
      "text/plain": [
       "array([1, 1, 1, ..., 1, 0, 0])"
      ]
     },
     "execution_count": 42,
     "metadata": {},
     "output_type": "execute_result"
    }
   ],
   "source": [
    "Y"
   ]
  },
  {
   "cell_type": "code",
   "execution_count": null,
   "metadata": {
    "collapsed": false
   },
   "outputs": [],
   "source": [
    "clf=RandomForestClassifier(n_estimators=40)\n",
    "scores = cross_val_score(clf, X, Y)"
   ]
  },
  {
   "cell_type": "code",
   "execution_count": null,
   "metadata": {
    "collapsed": true
   },
   "outputs": [],
   "source": []
  },
  {
   "cell_type": "code",
   "execution_count": null,
   "metadata": {
    "collapsed": true
   },
   "outputs": [],
   "source": []
  }
 ],
 "metadata": {
  "anaconda-cloud": {},
  "kernelspec": {
   "display_name": "Python [Root]",
   "language": "python",
   "name": "Python [Root]"
  },
  "language_info": {
   "codemirror_mode": {
    "name": "ipython",
    "version": 3
   },
   "file_extension": ".py",
   "mimetype": "text/x-python",
   "name": "python",
   "nbconvert_exporter": "python",
   "pygments_lexer": "ipython3",
   "version": "3.5.2"
  }
 },
 "nbformat": 4,
 "nbformat_minor": 0
}
